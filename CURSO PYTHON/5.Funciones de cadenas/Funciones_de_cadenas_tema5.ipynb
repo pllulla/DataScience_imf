{
 "cells": [
  {
   "cell_type": "markdown",
   "id": "19fbc446",
   "metadata": {},
   "source": [
    "__CONCATENAR__"
   ]
  },
  {
   "cell_type": "code",
   "execution_count": 6,
   "id": "8ab276a5",
   "metadata": {},
   "outputs": [
    {
     "name": "stdout",
     "output_type": "stream",
     "text": [
      "Hola mundo\n"
     ]
    }
   ],
   "source": [
    "mensa1='Hola'+' '+'mundo'\n",
    "print(mensa1)"
   ]
  },
  {
   "cell_type": "code",
   "execution_count": 7,
   "id": "937ecc86",
   "metadata": {},
   "outputs": [
    {
     "name": "stdout",
     "output_type": "stream",
     "text": [
      "Hola mundo\n"
     ]
    }
   ],
   "source": [
    "mensa2=\"Hola\"+\" \"+\"mundo\"\n",
    "print(mensa2)"
   ]
  },
  {
   "cell_type": "markdown",
   "id": "6f55e900",
   "metadata": {},
   "source": [
    "__MULTIPLICAR__"
   ]
  },
  {
   "cell_type": "code",
   "execution_count": 9,
   "id": "25c359ad",
   "metadata": {},
   "outputs": [
    {
     "name": "stdout",
     "output_type": "stream",
     "text": [
      "Hola Hola Hola mundo\n"
     ]
    }
   ],
   "source": [
    "m1=\"Hola \"*3\n",
    "m2=\"mundo\"\n",
    "print(m1+m2)"
   ]
  },
  {
   "cell_type": "markdown",
   "id": "bde6837b",
   "metadata": {},
   "source": [
    "__SUMAR INCREMENTALMENTE A UNA VARIABLE__"
   ]
  },
  {
   "cell_type": "code",
   "execution_count": 11,
   "id": "0c132bfc",
   "metadata": {},
   "outputs": [
    {
     "name": "stdout",
     "output_type": "stream",
     "text": [
      "Hola mundo\n"
     ]
    }
   ],
   "source": [
    "m3 = \"Hola\"\n",
    "m3 += \" \"\n",
    "m3 += \"mundo\"\n",
    "print(m3)"
   ]
  },
  {
   "cell_type": "markdown",
   "id": "a255d54e",
   "metadata": {},
   "source": [
    "__ENCONTRAR__"
   ]
  },
  {
   "cell_type": "code",
   "execution_count": 14,
   "id": "3a737669",
   "metadata": {},
   "outputs": [
    {
     "name": "stdout",
     "output_type": "stream",
     "text": [
      "5\n"
     ]
    }
   ],
   "source": [
    "m5 = \"Hola mundo\"\n",
    "m5a = m5.find(\"mundo\")\n",
    "print(m5a)"
   ]
  },
  {
   "cell_type": "markdown",
   "id": "d239dccc",
   "metadata": {},
   "source": [
    "__REEMPLAZAR__"
   ]
  },
  {
   "cell_type": "code",
   "execution_count": 15,
   "id": "71802495",
   "metadata": {},
   "outputs": [
    {
     "name": "stdout",
     "output_type": "stream",
     "text": [
      "hopizzaa mundo\n"
     ]
    }
   ],
   "source": [
    "m7 = \"hola mundo\"\n",
    "#Reemplazamos la letra L por PIZZA\n",
    "m7b = m7.replace('l', 'pizza')\n",
    "print(m7b)"
   ]
  },
  {
   "cell_type": "markdown",
   "id": "3766d055",
   "metadata": {},
   "source": [
    "__LONGITUD__"
   ]
  },
  {
   "cell_type": "code",
   "execution_count": 20,
   "id": "5341e437",
   "metadata": {},
   "outputs": [
    {
     "name": "stdout",
     "output_type": "stream",
     "text": [
      "14\n"
     ]
    }
   ],
   "source": [
    "print(len(m7b))"
   ]
  },
  {
   "cell_type": "code",
   "execution_count": 21,
   "id": "0e306873",
   "metadata": {},
   "outputs": [
    {
     "data": {
      "text/plain": [
       "14"
      ]
     },
     "execution_count": 21,
     "metadata": {},
     "output_type": "execute_result"
    }
   ],
   "source": [
    "len(m7b)"
   ]
  },
  {
   "cell_type": "code",
   "execution_count": 35,
   "id": "131c5456",
   "metadata": {},
   "outputs": [
    {
     "data": {
      "text/plain": [
       "'Esto es así'"
      ]
     },
     "execution_count": 35,
     "metadata": {},
     "output_type": "execute_result"
    }
   ],
   "source": [
    "m10 = \" Esto es así \"\n",
    "m10.strip()"
   ]
  },
  {
   "cell_type": "code",
   "execution_count": 28,
   "id": "ba4df25a",
   "metadata": {},
   "outputs": [
    {
     "name": "stdout",
     "output_type": "stream",
     "text": [
      "MUNDO\n"
     ]
    }
   ],
   "source": [
    "m8 = m2.swapcase()\n",
    "print(m8)"
   ]
  },
  {
   "cell_type": "code",
   "execution_count": 29,
   "id": "22508b1c",
   "metadata": {},
   "outputs": [
    {
     "name": "stdout",
     "output_type": "stream",
     "text": [
      "Mundo\n"
     ]
    }
   ],
   "source": [
    "m8 = m2.title()\n",
    "print(m8)"
   ]
  },
  {
   "cell_type": "code",
   "execution_count": 46,
   "id": "1b8df27d",
   "metadata": {},
   "outputs": [
    {
     "name": "stdout",
     "output_type": "stream",
     "text": [
      "['pepino,', 'limón,', 'naranja,', 'fresa']\n"
     ]
    }
   ],
   "source": [
    "#Necesitamos convertirlo en una lista con SPLIT\n",
    "l = \" pepino, limón, naranja, fresa \"\n",
    "newl = l.split()\n",
    "print(newl)"
   ]
  },
  {
   "cell_type": "code",
   "execution_count": 33,
   "id": "c557b2f6",
   "metadata": {},
   "outputs": [
    {
     "name": "stdout",
     "output_type": "stream",
     "text": [
      "['hola', 'adios', 'hello', 'bye']\n"
     ]
    }
   ],
   "source": [
    "m9 = \"hola.adios.hello.bye\"\n",
    "m8 = m9.split('.')\n",
    "print(m8)"
   ]
  },
  {
   "cell_type": "markdown",
   "id": "5dfae3aa",
   "metadata": {},
   "source": [
    "__EJERCICIO 2__\n",
    "\n",
    "Nos piden por teclado el nombre de una web, por ejemplo, www.afuera.es y queremos que nos muestre el nombre del dominio, en este caso afuera.es."
   ]
  },
  {
   "cell_type": "code",
   "execution_count": 42,
   "id": "ff454528",
   "metadata": {},
   "outputs": [
    {
     "name": "stdout",
     "output_type": "stream",
     "text": [
      "['www', 'afuera.es']\n",
      "afuera.es\n"
     ]
    }
   ],
   "source": [
    "w = 'www.afuera.es'\n",
    "i = w.split('.', 1)\n",
    "print(i)\n",
    "domain_name = i[1]\n",
    "print(domain_name)"
   ]
  },
  {
   "cell_type": "markdown",
   "id": "ee0c0c87",
   "metadata": {},
   "source": [
    "__EJERCICIO 3__\n",
    "\n",
    "Con una lista inicial y se debe obtener otra sin los espacios en blanco delante y detrás.\n",
    "La lista es l = \" pepino, limón, naranja, fresa \""
   ]
  },
  {
   "cell_type": "code",
   "execution_count": 54,
   "id": "5c6c4574",
   "metadata": {},
   "outputs": [
    {
     "name": "stdout",
     "output_type": "stream",
     "text": [
      "['pepino', 'limón', 'naranja', 'fresa']\n"
     ]
    }
   ],
   "source": [
    "lis = [\" pepino\", \" limón\", \"naranja \", \"fresa \"]\n",
    "lis2 = []\n",
    "\n",
    "for i in lis:\n",
    "    sinespacios = i.strip()\n",
    "    lis2.append(sinespacios)\n",
    "    \n",
    "print(lis2)"
   ]
  },
  {
   "cell_type": "code",
   "execution_count": null,
   "id": "c45db36d",
   "metadata": {},
   "outputs": [],
   "source": []
  }
 ],
 "metadata": {
  "kernelspec": {
   "display_name": "Python 3 (ipykernel)",
   "language": "python",
   "name": "python3"
  },
  "language_info": {
   "codemirror_mode": {
    "name": "ipython",
    "version": 3
   },
   "file_extension": ".py",
   "mimetype": "text/x-python",
   "name": "python",
   "nbconvert_exporter": "python",
   "pygments_lexer": "ipython3",
   "version": "3.10.9"
  }
 },
 "nbformat": 4,
 "nbformat_minor": 5
}
