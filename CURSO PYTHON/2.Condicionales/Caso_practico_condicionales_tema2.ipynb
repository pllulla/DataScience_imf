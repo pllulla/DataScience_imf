{
 "cells": [
  {
   "cell_type": "markdown",
   "id": "e1665763-bb46-47b4-a6a3-135881b52404",
   "metadata": {},
   "source": [
    "Generar un número aleatorio entre 1 y 20. Luego informar si el número tiene uno o dos dígitos."
   ]
  },
  {
   "cell_type": "code",
   "execution_count": 3,
   "id": "94735f3c-0227-4972-bce7-7fa33ae881b3",
   "metadata": {},
   "outputs": [
    {
     "name": "stdout",
     "output_type": "stream",
     "text": [
      "El número generado es: 5\n",
      "El valor generado tiene un dígito\n"
     ]
    }
   ],
   "source": [
    "import random\n",
    "aleatorio=random.randint(1,20)\n",
    "print (\"El número generado es: %s\" %(aleatorio))\n",
    "if aleatorio<10:\n",
    "    print(\"El valor generado tiene un dígito\")\n",
    "else:\n",
    "    print(\"El valor generado tiene dos dígitos\")"
   ]
  },
  {
   "cell_type": "markdown",
   "id": "e3d1df90-6680-4263-93d3-500bd64d3e1d",
   "metadata": {},
   "source": [
    "-\n",
    "Crear un comparador de años. Se debe pedir el año actual y, después, un año que aleatorio. Una vez\n",
    "introducidos estos datos, deben aparecer los siguientes mensajes:\n",
    "    Desde el año xxx han pasado yyy años.\n",
    "    Para llegar al año xxxx faltan yyy años.\n",
    "    xxx es la fecha que has puesto en segundo lugar (la que te apetecía).\n",
    "    yyy es la resta entre las dos fechas.\n",
    "    Los mensajes aparecerán según si la segunda fecha es mayor o menor a la actual."
   ]
  },
  {
   "cell_type": "code",
   "execution_count": 1,
   "id": "18b7a030-32e3-4688-bcf8-6fae33df1e10",
   "metadata": {},
   "outputs": [
    {
     "name": "stdout",
     "output_type": "stream",
     "text": [
      "Comparador de años\n",
      "Introduce el año actual 2000\n",
      "Introduce el año que quieras 2002\n",
      "Para llegar al año 2002 faltan 2 años\n",
      "2 es la resta entre las dos fechas\n",
      "2002 es el segundo año introducido\n"
     ]
    }
   ],
   "source": [
    "print(\"Comparador de años\")\n",
    "a1=int(input(\"Introduce el año actual \"))\n",
    "a2=int(input(\"Introduce el año que quieras \"))\n",
    "\n",
    "if a1==a2:\n",
    "    print(\"Los años inroducidos no pueden ser iguales!\")\n",
    "else:\n",
    "    if a1>a2:\n",
    "        print(\"Desde el año\", a2, \"han pasado\", a1 - a2, \"años\")\n",
    "    if a1<a2:\n",
    "        print(\"Para llegar al año\", a2, \"faltan\", a2 - a1, \"años\")\n",
    "\n",
    "print(\"%s es la resta entre las dos fechas\" %(a2-a1))\n",
    "print(\"%s es el segundo año introducido\" %(a2))\n"
   ]
  },
  {
   "cell_type": "markdown",
   "id": "edbeae61",
   "metadata": {},
   "source": [
    "Escribir un programa que pida un número entero y escriba por pantalla:\n",
    "* “El número introducido es PAR”, en el caso de que sea par.\n",
    "* “El número introducido es IMPAR”, en el caso de que sea impar."
   ]
  },
  {
   "cell_type": "code",
   "execution_count": 4,
   "id": "a8b90c04",
   "metadata": {},
   "outputs": [
    {
     "name": "stdout",
     "output_type": "stream",
     "text": [
      "Introduce un número: 8\n",
      "El número 8 es PAR\n"
     ]
    }
   ],
   "source": [
    "num=int(input(\"Introduce un número: \"))\n",
    "\n",
    "if num%2 != 0:\n",
    "    print(\"El número %d es IMPAR\" %(num))\n",
    "else:\n",
    "    print(\"El número %d es PAR\" %(num))"
   ]
  },
  {
   "cell_type": "code",
   "execution_count": null,
   "id": "5e270c61",
   "metadata": {},
   "outputs": [],
   "source": []
  }
 ],
 "metadata": {
  "kernelspec": {
   "display_name": "Python 3 (ipykernel)",
   "language": "python",
   "name": "python3"
  },
  "language_info": {
   "codemirror_mode": {
    "name": "ipython",
    "version": 3
   },
   "file_extension": ".py",
   "mimetype": "text/x-python",
   "name": "python",
   "nbconvert_exporter": "python",
   "pygments_lexer": "ipython3",
   "version": "3.10.9"
  }
 },
 "nbformat": 4,
 "nbformat_minor": 5
}
