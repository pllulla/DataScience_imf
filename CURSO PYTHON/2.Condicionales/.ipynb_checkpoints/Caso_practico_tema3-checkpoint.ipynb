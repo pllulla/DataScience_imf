{
 "cells": [
  {
   "cell_type": "markdown",
   "id": "e1665763-bb46-47b4-a6a3-135881b52404",
   "metadata": {},
   "source": [
    "Generar un número aleatorio entre 1 y 20. Luego informar si el número tiene uno o dos dígitos."
   ]
  },
  {
   "cell_type": "code",
   "execution_count": 3,
   "id": "94735f3c-0227-4972-bce7-7fa33ae881b3",
   "metadata": {},
   "outputs": [
    {
     "name": "stdout",
     "output_type": "stream",
     "text": [
      "El número generado es: 5\n",
      "El valor generado tiene un dígito\n"
     ]
    }
   ],
   "source": [
    "import random\n",
    "aleatorio=random.randint(1,20)\n",
    "print (\"El número generado es: %s\" %(aleatorio))\n",
    "if aleatorio<10:\n",
    "    print(\"El valor generado tiene un dígito\")\n",
    "else:\n",
    "    print(\"El valor generado tiene dos dígitos\")"
   ]
  },
  {
   "cell_type": "markdown",
   "id": "e3d1df90-6680-4263-93d3-500bd64d3e1d",
   "metadata": {},
   "source": [
    "-\n",
    "Crear un comparador de años. Se debe pedir el año actual y, después, un año que aleatorio. Una vez\n",
    "introducidos estos datos, deben aparecer los siguientes mensajes:\n",
    "    Desde el año xxx han pasado yyy años.\n",
    "    Para llegar al año xxxx faltan yyy años.\n",
    "    xxx es la fecha que has puesto en segundo lugar (la que te apetecía).\n",
    "    yyy es la resta entre las dos fechas.\n",
    "    Los mensajes aparecerán según si la segunda fecha es mayor o menor a la actual."
   ]
  },
  {
   "cell_type": "code",
   "execution_count": 12,
   "id": "18b7a030-32e3-4688-bcf8-6fae33df1e10",
   "metadata": {},
   "outputs": [
    {
     "name": "stdin",
     "output_type": "stream",
     "text": [
      "Introduce el año actual 10\n",
      "Introduce el año que quieras 20\n"
     ]
    },
    {
     "name": "stdout",
     "output_type": "stream",
     "text": [
      "Para llegar al año 20 faltan 10 años\n",
      "-10 es la resta entre las dos fechas\n",
      "20 es el segundo año introducido\n"
     ]
    }
   ],
   "source": [
    "a1=int(input(\"Introduce el año actual\"))\n",
    "a2=int(input(\"Introduce el año que quieras\"))\n",
    "resta1=a1-a2\n",
    "resta2=a2-a1\n",
    "\n",
    "if a1==a2:\n",
    "    print(\"Los años inroducidos no pueden ser iguales!\")\n",
    "else:\n",
    "    if a1>a2:\n",
    "        print(\"Desde el año %s han pasado %s años\" %(a1,resta1))\n",
    "    elif a1<a2:\n",
    "        print(\"Para llegar al año %s faltan %s años\" %(a2,resta2))\n",
    "\n",
    "print(\"%s es la resta entre las dos fechas\" %(resta1))\n",
    "print(\"%s es el segundo año introducido\" %(a2))\n"
   ]
  },
  {
   "cell_type": "code",
   "execution_count": null,
   "id": "c587a72c-081a-46d8-b076-071c715c4798",
   "metadata": {},
   "outputs": [],
   "source": []
  }
 ],
 "metadata": {
  "kernelspec": {
   "display_name": "Python 3 (ipykernel)",
   "language": "python",
   "name": "python3"
  },
  "language_info": {
   "codemirror_mode": {
    "name": "ipython",
    "version": 3
   },
   "file_extension": ".py",
   "mimetype": "text/x-python",
   "name": "python",
   "nbconvert_exporter": "python",
   "pygments_lexer": "ipython3",
   "version": "3.10.9"
  }
 },
 "nbformat": 4,
 "nbformat_minor": 5
}
