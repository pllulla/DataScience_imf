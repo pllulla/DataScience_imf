{
 "cells": [
  {
   "cell_type": "code",
   "execution_count": 2,
   "id": "cd56a688",
   "metadata": {},
   "outputs": [
    {
     "name": "stdout",
     "output_type": "stream",
     "text": [
      "0  is less than 5\n",
      "1  is less than 5\n",
      "2  is less than 5\n",
      "3  is less than 5\n",
      "4  is less than 5\n"
     ]
    }
   ],
   "source": [
    "#Estructura WHILE\n",
    "count = 0\n",
    "\n",
    "while count<5:\n",
    "    print(count, \" is less than 5\")\n",
    "    count += 1"
   ]
  },
  {
   "cell_type": "code",
   "execution_count": 3,
   "id": "b3966be0",
   "metadata": {},
   "outputs": [
    {
     "name": "stdout",
     "output_type": "stream",
     "text": [
      "Play5\n",
      "XBSX\n",
      "Switch\n"
     ]
    }
   ],
   "source": [
    "#Estructura FOR\n",
    "lista=['Play5','XBSX','Switch']\n",
    "\n",
    "for i in lista:\n",
    "    print(i)"
   ]
  },
  {
   "cell_type": "code",
   "execution_count": 4,
   "id": "df65806a",
   "metadata": {},
   "outputs": [
    {
     "name": "stdout",
     "output_type": "stream",
     "text": [
      "0\n",
      "1\n",
      "2\n",
      "3\n",
      "4\n"
     ]
    }
   ],
   "source": [
    "#RANGE es una función para las estructuras FOR\n",
    "#El inicio pr defecto es 0, o sea que COSA será 0\n",
    "for cosa in range(5):\n",
    "    print(cosa)"
   ]
  },
  {
   "cell_type": "markdown",
   "id": "3c94cafc",
   "metadata": {},
   "source": [
    "Más alternativas para REANGE en estructuras FOR\n",
    "* Contador de un numero hasta otro que le asignemos\n",
    "* Contador pero que salta los números que le indiquemos"
   ]
  },
  {
   "cell_type": "code",
   "execution_count": 5,
   "id": "8c022942",
   "metadata": {
    "scrolled": true
   },
   "outputs": [
    {
     "name": "stdout",
     "output_type": "stream",
     "text": [
      "0\n",
      "1\n",
      "2\n",
      "3\n",
      "4\n",
      "5\n",
      "6\n",
      "7\n",
      "8\n",
      "9\n"
     ]
    }
   ],
   "source": [
    "#RANGE siempre se parará un número antes del indicado\n",
    "#En el siguiente caso sería el 9\n",
    "for contador in range(0,10):\n",
    "    print(contador)"
   ]
  },
  {
   "cell_type": "code",
   "execution_count": 6,
   "id": "133c75ed",
   "metadata": {},
   "outputs": [
    {
     "name": "stdout",
     "output_type": "stream",
     "text": [
      "0\n",
      "2\n",
      "4\n",
      "6\n",
      "8\n"
     ]
    }
   ],
   "source": [
    "#El siguiente saltará la lista de dos en dos, como indica el último número\n",
    "#en el paréntesis\n",
    "for contador in range(0,10,2):\n",
    "    print(contador)"
   ]
  },
  {
   "cell_type": "markdown",
   "id": "76138190",
   "metadata": {},
   "source": [
    "__EJERCICIOS__"
   ]
  },
  {
   "cell_type": "markdown",
   "id": "15050d40",
   "metadata": {},
   "source": [
    "Escribir un programa que pregunte cuántos números se van a introducir, pedir esos números y escribir\n",
    "cuántos negativos ha introducido."
   ]
  },
  {
   "cell_type": "code",
   "execution_count": 6,
   "id": "d7847fbb",
   "metadata": {},
   "outputs": [
    {
     "name": "stdout",
     "output_type": "stream",
     "text": [
      "¿Cuántos números quieres introducir? 4\n",
      "Valores a comprobar -9\n",
      "Valores a comprobar 86\n",
      "Valores a comprobar -385\n",
      "Valores a comprobar 3\n",
      "El número de valores negativos es:  2\n"
     ]
    }
   ],
   "source": [
    "num=int(input(\"¿Cuántos números quieres introducir? \"))\n",
    "i=0\n",
    "cont=0\n",
    "\n",
    "while i < num:\n",
    "    valores=int(input(\"Valores a comprobar \"))\n",
    "    if valores < 0:\n",
    "        cont+=1\n",
    "    i+=1\n",
    "        \n",
    "print(\"El número de valores negativos es: \", cont)\n"
   ]
  },
  {
   "cell_type": "markdown",
   "id": "7269b8cd",
   "metadata": {},
   "source": [
    "Realizar un programa que muestre por pantalla la siguiente secuencia:\n",
    "1 2 3 4 5 6 7 8 9 10 11 12 13 14 15 16 17 18 19 20"
   ]
  },
  {
   "cell_type": "code",
   "execution_count": 9,
   "id": "2667e19b",
   "metadata": {},
   "outputs": [
    {
     "name": "stdout",
     "output_type": "stream",
     "text": [
      "1 2 3 4 5 6 7 8 9 10 11 12 13 14 15 16 17 18 19 20 "
     ]
    }
   ],
   "source": [
    "for i in range(1,21):\n",
    "    print(i, end=' ')"
   ]
  },
  {
   "cell_type": "code",
   "execution_count": 10,
   "id": "173f5672",
   "metadata": {},
   "outputs": [
    {
     "name": "stdout",
     "output_type": "stream",
     "text": [
      "1~2~3~4~5~6~7~8~9~10~11~12~13~14~15~16~17~18~19~20~"
     ]
    }
   ],
   "source": [
    "for i in range(1,21):\n",
    "    print(i, end='~')"
   ]
  },
  {
   "cell_type": "markdown",
   "id": "8635ae7c",
   "metadata": {},
   "source": [
    "Imprimir los números impares desde el 1 al 25, ambos inclusive."
   ]
  },
  {
   "cell_type": "code",
   "execution_count": 13,
   "id": "1a8b819f",
   "metadata": {},
   "outputs": [
    {
     "name": "stdout",
     "output_type": "stream",
     "text": [
      "1 3 5 7 9 11 13 15 17 19 21 23 25 "
     ]
    }
   ],
   "source": [
    "num=1\n",
    "\n",
    "while num <= 25:\n",
    "    if num%2 != 0:\n",
    "        print(num, end=' ')\n",
    "    num +=1"
   ]
  },
  {
   "cell_type": "markdown",
   "id": "5c13b06f",
   "metadata": {},
   "source": [
    "Realizar un programa que pida cinco números decimales, calcular su media e informar del resultado por\n",
    "pantalla."
   ]
  },
  {
   "cell_type": "code",
   "execution_count": 36,
   "id": "6bff290f",
   "metadata": {},
   "outputs": [
    {
     "name": "stdout",
     "output_type": "stream",
     "text": [
      "Introduce un número decimal: 1.3\n",
      "Introduce un número decimal: 1.4\n",
      "Introduce un número decimal: 4.5\n",
      "Introduce un número decimal: 3.23\n",
      "Introduce un número decimal: 2.44\n",
      "La media es 2.57\n"
     ]
    }
   ],
   "source": [
    "cont=0\n",
    "for i in range(0,5):\n",
    "    numero=float(input(\"Introduce un número decimal: \"))\n",
    "    cont+=numero\n",
    "        \n",
    "media=cont/5\n",
    "print(\"La media es %.2f\" %(media))"
   ]
  },
  {
   "cell_type": "code",
   "execution_count": 35,
   "id": "4505922b",
   "metadata": {},
   "outputs": [
    {
     "name": "stdout",
     "output_type": "stream",
     "text": [
      "Introduce un num: 7.8\n",
      "<class 'str'>\n",
      "Solo introducir números decimales\n"
     ]
    }
   ],
   "source": [
    "numero=(input(\"Introduce un num: \"))  \n",
    "if type(numero) == float:\n",
    "    type(numero)\n",
    "    print(\"Es decimal\")\n",
    "else:\n",
    "    print(type(numero))\n",
    "    print(\"Solo introducir números decimales\")"
   ]
  },
  {
   "cell_type": "code",
   "execution_count": 34,
   "id": "cf214c2d",
   "metadata": {},
   "outputs": [
    {
     "data": {
      "text/plain": [
       "float"
      ]
     },
     "execution_count": 34,
     "metadata": {},
     "output_type": "execute_result"
    }
   ],
   "source": [
    "n=5\n",
    "r=5.5\n",
    "type(r)"
   ]
  },
  {
   "cell_type": "code",
   "execution_count": null,
   "id": "248b80cf",
   "metadata": {},
   "outputs": [],
   "source": []
  }
 ],
 "metadata": {
  "kernelspec": {
   "display_name": "Python 3 (ipykernel)",
   "language": "python",
   "name": "python3"
  },
  "language_info": {
   "codemirror_mode": {
    "name": "ipython",
    "version": 3
   },
   "file_extension": ".py",
   "mimetype": "text/x-python",
   "name": "python",
   "nbconvert_exporter": "python",
   "pygments_lexer": "ipython3",
   "version": "3.10.9"
  }
 },
 "nbformat": 4,
 "nbformat_minor": 5
}
