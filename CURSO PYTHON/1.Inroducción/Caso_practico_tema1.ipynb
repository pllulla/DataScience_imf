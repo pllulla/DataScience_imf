{
 "cells": [
  {
   "cell_type": "markdown",
   "id": "1cbbf3ce-4ca1-45e5-a35f-cfaf94114bc5",
   "metadata": {},
   "source": [
    "Pedir el nombre de un producto por teclado y su peso (teniendo en cuenta que puede tener decimales).\n",
    "Mostrar los datos por pantalla teniendo en cuenta que, si el peso introducido tiene más de 3 decimales, se\n",
    "requiere redondearlo exactamente a 2."
   ]
  },
  {
   "cell_type": "code",
   "execution_count": 2,
   "id": "cc5d2f8c-4e89-4720-a9ba-20713aa861bf",
   "metadata": {},
   "outputs": [
    {
     "name": "stdin",
     "output_type": "stream",
     "text": [
      "Introducir producto  P\n",
      "Introducir peso  9.88888\n"
     ]
    },
    {
     "name": "stdout",
     "output_type": "stream",
     "text": [
      "El producto introducido es P y pesa 9.89\n"
     ]
    }
   ],
   "source": [
    "producto=input(\"Introducir producto \")\n",
    "peso=float(input(\"Introducir peso \"))\n",
    "\n",
    "print(\"El producto introducido es %s y pesa %.2f\"%(producto,peso))"
   ]
  },
  {
   "cell_type": "markdown",
   "id": "d6f9fb77-940f-4280-9fac-20ea890775f7",
   "metadata": {},
   "source": [
    "Realizar un programa que pida un número entero al usuario e informe del valor del cociente y el resto de\n",
    "dividirlo por dos."
   ]
  },
  {
   "cell_type": "code",
   "execution_count": 4,
   "id": "6a43883c-0c82-44a0-9f07-e70be572f9ef",
   "metadata": {},
   "outputs": [
    {
     "name": "stdin",
     "output_type": "stream",
     "text": [
      "Introduce un número  21\n"
     ]
    },
    {
     "name": "stdout",
     "output_type": "stream",
     "text": [
      "El número introducido es 21 su cociente es 10 y el resto es 1\n"
     ]
    }
   ],
   "source": [
    "numero=int(input(\"Introduce un número \"))\n",
    "cociente=numero/2\n",
    "resto=numero%2\n",
    "\n",
    "print(\"El número introducido es %d su cociente es %d y el resto es %d\"%(numero,cociente,resto))"
   ]
  },
  {
   "cell_type": "markdown",
   "id": "74cf27e1-4dd8-4f88-968a-7ac83e80a7e5",
   "metadata": {},
   "source": [
    "Realizar un programa en Python que imprima por pantalla los datos que se le han pedido por teclado:\n",
    "Nombre\n",
    "Apellidos\n",
    "Edad\n",
    "DNI\n",
    "Domicilio"
   ]
  },
  {
   "cell_type": "code",
   "execution_count": 1,
   "id": "2550f992-0e47-4121-a193-6ce609953292",
   "metadata": {},
   "outputs": [
    {
     "name": "stdin",
     "output_type": "stream",
     "text": [
      "Introducir nombre  Pedro\n",
      "Introducir apellidos  Llull Alles\n",
      "Introducir edad  39\n",
      "Introducir DNI con letra  4177899d\n",
      "Introducir domicilio  Calle pino n34\n"
     ]
    },
    {
     "name": "stdout",
     "output_type": "stream",
     "text": [
      "Los datos introducidos son los siguientes:\n",
      " Nombre: Pedro\n",
      " Apellidos: Llull Alles\n",
      " Edad: 39\n",
      " DNI: 4177899d\n",
      " Domicilio: Calle pino n34\n"
     ]
    }
   ],
   "source": [
    "nombre=input(\"Introducir nombre \")\n",
    "apell=input(\"Introducir apellidos \")\n",
    "edad=int(input(\"Introducir edad \"))\n",
    "dni=input(\"Introducir DNI con letra \")\n",
    "domi=input(\"Introducir domicilio \")\n",
    "\n",
    "print(\"Los datos introducidos son los siguientes:\\n Nombre: %s\\n Apellidos: %s\\n Edad: %s\\n DNI: %s\\n Domicilio: %s\"%(nombre,apell,edad,dni,domi))"
   ]
  },
  {
   "cell_type": "code",
   "execution_count": 32,
   "id": "7e3033c0-2eae-4b4f-8cb7-14bc036d56bd",
   "metadata": {},
   "outputs": [
    {
     "name": "stdin",
     "output_type": "stream",
     "text": [
      "Introducir nombre  Pedro\n",
      "Introducir apellidos  Llull Alles\n",
      "Introducir edad  39\n",
      "Introducir DNI con letra  41778899h\n",
      "Introducir domicilio  Calle funada n12\n"
     ]
    },
    {
     "name": "stdout",
     "output_type": "stream",
     "text": [
      "Mi nombre es Pedro y apellidos Llull Alles, tengo 39 años, mi DNI es 41778899h y vivo en Calle funada n12\n"
     ]
    }
   ],
   "source": [
    "nombre=input(\"Introducir nombre \")\n",
    "apell=input(\"Introducir apellidos \")\n",
    "edad=int(input(\"Introducir edad \"))\n",
    "dni=input(\"Introducir DNI con letra \")\n",
    "domi=input(\"Introducir domicilio \")\n",
    "\n",
    "print(\"Mi nombre es \" +nombre+ \" y apellidos \" +apell+ \", tengo \" +str(edad)+ \" años, mi DNI es \" +dni+ \" y vivo en \" +domi)"
   ]
  },
  {
   "cell_type": "code",
   "execution_count": 15,
   "id": "faa17bac-cd05-4091-b3e8-9ac504f934be",
   "metadata": {},
   "outputs": [
    {
     "name": "stdin",
     "output_type": "stream",
     "text": [
      "Introducir nombre  Pedro\n",
      "Introducir apellidos  Llull Alles\n",
      "Introducir edad  12\n",
      "Introducir DNI con letra  41778899h\n",
      "Introducir domicilio  Calle pez n55\n"
     ]
    },
    {
     "name": "stdout",
     "output_type": "stream",
     "text": [
      "Eres menor de edad\n"
     ]
    }
   ],
   "source": [
    "nombre=input(\"Introducir nombre \")\n",
    "apell=input(\"Introducir apellidos \")\n",
    "edad=int(input(\"Introducir edad \"))\n",
    "dni=input(\"Introducir DNI con letra \")\n",
    "domi=input(\"Introducir domicilio \")\n",
    "\n",
    "if (edad < 18):\n",
    "    print(\"Eres menor de edad\")\n",
    "else:\n",
    "    print(\"Los datos introducidos son los siguientes:\\n Nombre: %s\\n Apellidos: %s\\n Edad: %s\\n DNI: %s\\n Domicilio: %s\"%(nombre,apell,edad,dni,domi))"
   ]
  },
  {
   "cell_type": "code",
   "execution_count": 35,
   "id": "f3f18c25-e3f0-49ae-a2d8-48689984445c",
   "metadata": {
    "tags": []
   },
   "outputs": [
    {
     "name": "stdout",
     "output_type": "stream",
     "text": [
      "pedro\n",
      "<class 'str'>\n",
      "<class 'int'>\n",
      "4.4\n"
     ]
    }
   ],
   "source": [
    "nombre=\"pedro\"\n",
    "print(nombre)\n",
    "print(type(nombre))\n",
    "\n",
    "n1=int(2)\n",
    "n2=float(2.4)\n",
    "print(type(n1))\n",
    "print(n1+n2)"
   ]
  },
  {
   "cell_type": "code",
   "execution_count": 16,
   "id": "06da9a31-b0c9-436a-9615-ce5110d3a2ae",
   "metadata": {},
   "outputs": [
    {
     "name": "stdout",
     "output_type": "stream",
     "text": [
      "Vuelta 1\n",
      "Vuelta 2\n",
      "Vuelta 3\n",
      "Vuelta 4\n",
      "Vuelta 5\n",
      "Vuelta 6\n",
      "Vuelta 7\n",
      "Vuelta 8\n",
      "Vuelta 9\n"
     ]
    }
   ],
   "source": [
    "vuelta=1\n",
    "while vuelta<10:\n",
    "    print(\"Vuelta \"+str(vuelta))\n",
    "    vuelta=vuelta+1"
   ]
  },
  {
   "cell_type": "code",
   "execution_count": 28,
   "id": "1de6c48c-a02d-4c0c-9349-ed66d0f61850",
   "metadata": {},
   "outputs": [
    {
     "name": "stdout",
     "output_type": "stream",
     "text": [
      "Vuelta 1\n",
      "Vuelta 2\n",
      "Vuelta 3\n",
      "Vuelta 4\n",
      "Vuelta 5\n",
      "Vuelta 6\n",
      "Vuelta 7\n",
      "Vuelta 8\n",
      "Vuelta 9\n"
     ]
    }
   ],
   "source": [
    "for vuelt in range(1,10):\n",
    "    print(\"Vuelta \"+str(vuelt))"
   ]
  },
  {
   "cell_type": "code",
   "execution_count": 30,
   "id": "cd90cf15-fba9-4c28-9bd3-fdd3572b21a1",
   "metadata": {},
   "outputs": [
    {
     "name": "stdout",
     "output_type": "stream",
     "text": [
      "Ferrari\n",
      "Tesla\n",
      "BMW\n",
      "Audi\n"
     ]
    }
   ],
   "source": [
    "coches = ('Ferrari', 'Tesla', 'BMW', 'Audi')\n",
    "for coche in coches:\n",
    "    print(coche)"
   ]
  },
  {
   "cell_type": "markdown",
   "id": "a9ba19ec-131f-4ae1-ac68-b5c3604b0c51",
   "metadata": {},
   "source": [
    "´\n",
    ".\n",
    "Calcular área y perímetro sabiendo que los lados son iguales y miden 5"
   ]
  },
  {
   "cell_type": "code",
   "execution_count": 39,
   "id": "40b87e8e-c406-4e70-94b6-eb6f92c25cd0",
   "metadata": {},
   "outputs": [
    {
     "name": "stdout",
     "output_type": "stream",
     "text": [
      "Si un lado mide 5 , el área es 25 y el preímetro es 20\n"
     ]
    }
   ],
   "source": [
    "lado=5\n",
    "area=lado * lado\n",
    "perim=lado + lado + lado + lado\n",
    "\n",
    "print(\"Si un lado mide \" +str(lado)+ \" , el área es \" +str(area)+ \" y el preímetro es \" +str(perim))"
   ]
  },
  {
   "cell_type": "code",
   "execution_count": 40,
   "id": "29000a26-4894-4241-b3bc-4dd776f309d9",
   "metadata": {},
   "outputs": [
    {
     "name": "stdout",
     "output_type": "stream",
     "text": [
      "Un lado mide  5\n",
      "El área es  25\n",
      "El preímetro es  20\n"
     ]
    }
   ],
   "source": [
    "lado=5\n",
    "area=lado * lado\n",
    "perim=lado + lado + lado + lado\n",
    "\n",
    "print(\"Un lado mide \",lado)\n",
    "print(\"El área es \",area)\n",
    "print(\"El preímetro es \",perim)"
   ]
  },
  {
   "cell_type": "code",
   "execution_count": 45,
   "id": "9da0e8d9-4d9e-47cd-a31b-e2bb63c3df45",
   "metadata": {},
   "outputs": [
    {
     "name": "stdout",
     "output_type": "stream",
     "text": [
      "Un lado mide  5.35\n",
      "El área es 28.622\n",
      "El preímetro es 21.4\n"
     ]
    }
   ],
   "source": [
    "lado=5.35\n",
    "area=lado * lado\n",
    "perim=lado + lado + lado + lado\n",
    "\n",
    "print(\"Un lado mide \",lado)\n",
    "print(\"El área es %.3f\"%(area))\n",
    "print(\"El preímetro es %.1f\"%(perim))"
   ]
  },
  {
   "cell_type": "code",
   "execution_count": null,
   "id": "26ed7bab-13f7-4036-a425-1a7bd1489b40",
   "metadata": {},
   "outputs": [],
   "source": []
  }
 ],
 "metadata": {
  "kernelspec": {
   "display_name": "Python 3 (ipykernel)",
   "language": "python",
   "name": "python3"
  },
  "language_info": {
   "codemirror_mode": {
    "name": "ipython",
    "version": 3
   },
   "file_extension": ".py",
   "mimetype": "text/x-python",
   "name": "python",
   "nbconvert_exporter": "python",
   "pygments_lexer": "ipython3",
   "version": "3.10.9"
  }
 },
 "nbformat": 4,
 "nbformat_minor": 5
}
