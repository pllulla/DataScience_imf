{
 "cells": [
  {
   "cell_type": "code",
   "execution_count": 38,
   "id": "3712e5b0",
   "metadata": {},
   "outputs": [],
   "source": [
    "lista=[1, \"hola\", 34, [7, 4], \"pepino\", 4.55, 69, \"lechuga\"]"
   ]
  },
  {
   "cell_type": "code",
   "execution_count": 39,
   "id": "3307ee2a",
   "metadata": {},
   "outputs": [
    {
     "name": "stdout",
     "output_type": "stream",
     "text": [
      "[1, 'hola', 34, [7, 4], 'pepino', 4.55, 69, 'lechuga']\n"
     ]
    }
   ],
   "source": [
    "print(lista)"
   ]
  },
  {
   "cell_type": "code",
   "execution_count": 40,
   "id": "c9d2ef86",
   "metadata": {},
   "outputs": [
    {
     "name": "stdout",
     "output_type": "stream",
     "text": [
      "69\n",
      "hola\n",
      "pepino\n"
     ]
    }
   ],
   "source": [
    "print(lista[-2])\n",
    "print(lista[1])\n",
    "print(lista[-4])"
   ]
  },
  {
   "cell_type": "code",
   "execution_count": 41,
   "id": "fd2f0fe0",
   "metadata": {},
   "outputs": [
    {
     "data": {
      "text/plain": [
       "1"
      ]
     },
     "execution_count": 41,
     "metadata": {},
     "output_type": "execute_result"
    }
   ],
   "source": [
    "lista[0]"
   ]
  },
  {
   "cell_type": "code",
   "execution_count": 42,
   "id": "09767445",
   "metadata": {},
   "outputs": [
    {
     "data": {
      "text/plain": [
       "7"
      ]
     },
     "execution_count": 42,
     "metadata": {},
     "output_type": "execute_result"
    }
   ],
   "source": [
    "lista[3][0]"
   ]
  },
  {
   "cell_type": "code",
   "execution_count": 43,
   "id": "d81b3f41",
   "metadata": {},
   "outputs": [],
   "source": [
    "lista[0]=42"
   ]
  },
  {
   "cell_type": "code",
   "execution_count": 44,
   "id": "27b12137",
   "metadata": {},
   "outputs": [
    {
     "data": {
      "text/plain": [
       "[42, 'hola', 34, [7, 4], 'pepino', 4.55, 69, 'lechuga']"
      ]
     },
     "execution_count": 44,
     "metadata": {},
     "output_type": "execute_result"
    }
   ],
   "source": [
    "lista"
   ]
  },
  {
   "cell_type": "code",
   "execution_count": 45,
   "id": "42fb3478",
   "metadata": {},
   "outputs": [
    {
     "name": "stdout",
     "output_type": "stream",
     "text": [
      "[42, 'hola']\n"
     ]
    }
   ],
   "source": [
    "#pinta de la lista,de la posición 0 a la 1, la 2 no saldrá pq la ultima\n",
    "#nunca se incluye. TENER EN CUENTA\n",
    "print(lista[0:2])"
   ]
  },
  {
   "cell_type": "code",
   "execution_count": 47,
   "id": "e0003f6c",
   "metadata": {},
   "outputs": [
    {
     "name": "stdout",
     "output_type": "stream",
     "text": [
      "[42, [7, 4], 69]\n"
     ]
    }
   ],
   "source": [
    "#el tercer valor es los saltos que quiero dar, en este caso 3\n",
    "#me iprimirá los valores de 3 en 3\n",
    "print(lista[0:7:3])"
   ]
  },
  {
   "cell_type": "code",
   "execution_count": 50,
   "id": "d932cee5",
   "metadata": {},
   "outputs": [
    {
     "name": "stdout",
     "output_type": "stream",
     "text": [
      "['lechuga', 4.55, [7, 4]]\n",
      "[42, 'hola', 34, [7, 4], 'pepino']\n"
     ]
    }
   ],
   "source": [
    "#con números negativos de busqueda por la lista\n",
    "#recordar que el último valor que se indica para el range no se tiene en cuenta!!!\n",
    "print(lista[-1:-6:-2])\n",
    "print(lista[-8:-3])"
   ]
  },
  {
   "cell_type": "code",
   "execution_count": 51,
   "id": "10acb695",
   "metadata": {},
   "outputs": [
    {
     "data": {
      "text/plain": [
       "[42, 'hola', 34, [7, 4], 'pepino', 4.55, 69, 'lechuga', 999]"
      ]
     },
     "execution_count": 51,
     "metadata": {},
     "output_type": "execute_result"
    }
   ],
   "source": [
    "lista.append(999)\n",
    "lista"
   ]
  },
  {
   "cell_type": "code",
   "execution_count": 53,
   "id": "c481ccc7",
   "metadata": {
    "scrolled": true
   },
   "outputs": [
    {
     "data": {
      "text/plain": [
       "[42,\n",
       " 'hola',\n",
       " 34,\n",
       " [7, 4],\n",
       " 'pepino',\n",
       " 4.55,\n",
       " 69,\n",
       " 'lechuga',\n",
       " 999,\n",
       " 'pollo',\n",
       " 'piña',\n",
       " 189,\n",
       " 'casa']"
      ]
     },
     "execution_count": 53,
     "metadata": {},
     "output_type": "execute_result"
    }
   ],
   "source": [
    "meter=[\"pollo\", \"piña\", 189, \"casa\"]\n",
    "lista.extend(meter)\n",
    "lista"
   ]
  },
  {
   "cell_type": "code",
   "execution_count": 54,
   "id": "b48ff835",
   "metadata": {},
   "outputs": [
    {
     "name": "stdout",
     "output_type": "stream",
     "text": [
      "[42, 'hola', 34, [7, 4], 'pepino', 4.55, 69, 'lechuga', 999, 'pollo', 'piña', 189, 'casa']\n"
     ]
    }
   ],
   "source": [
    "print(lista)"
   ]
  },
  {
   "cell_type": "markdown",
   "id": "8aefb84d",
   "metadata": {},
   "source": [
    "__LEER UNA CADENA DE TEXTO DEL USUARIO Y PARA CADA LETRA INDICA SI ES UNA VOCAL O UNA CONSONANTE__"
   ]
  },
  {
   "cell_type": "code",
   "execution_count": 66,
   "id": "3a324785",
   "metadata": {},
   "outputs": [
    {
     "name": "stdout",
     "output_type": "stream",
     "text": [
      "Introducir texto: A\n",
      "a es vocal\n"
     ]
    }
   ],
   "source": [
    "cad=input(\"Introducir texto: \")\n",
    "vocales=['a', 'e', 'i', 'o', 'u']\n",
    "\n",
    "for i in cad.lower():\n",
    "    if i in vocales:\n",
    "        print(f\"{i} es vocal\")\n",
    "    else:\n",
    "        print(f\"{i} es consonante\")"
   ]
  },
  {
   "cell_type": "markdown",
   "id": "9c799573",
   "metadata": {},
   "source": [
    "__SI TENEMOS UNA LISTA DE NOMBRES DE CIUDADES, QUE SE MUESTRE LAS QUE EMPIEZAN POR M__"
   ]
  },
  {
   "cell_type": "code",
   "execution_count": 70,
   "id": "f8d70dea",
   "metadata": {},
   "outputs": [
    {
     "name": "stdout",
     "output_type": "stream",
     "text": [
      "Madrid\n",
      "Málaga\n",
      "Menorca\n"
     ]
    }
   ],
   "source": [
    "ciu=['Madrid', 'Barcelona', 'Málaga', 'Valencia', 'Sevilla', 'Menorca']\n",
    "\n",
    "for i in ciu:\n",
    "    if i[0] == 'M':\n",
    "        print(i)"
   ]
  },
  {
   "cell_type": "markdown",
   "id": "9dceb589",
   "metadata": {},
   "source": [
    "__PROGRAMA QUE LEA UNA LISTA DE NUMEROS Y QUE DE ESOS NUMEROS CREE UNA LISTA NUEVA CON LOS NUMEROS PARES__"
   ]
  },
  {
   "cell_type": "code",
   "execution_count": 75,
   "id": "34e906b1",
   "metadata": {},
   "outputs": [
    {
     "name": "stdout",
     "output_type": "stream",
     "text": [
      "Lista original: [2, 5, 8, 9, 13, 44, 92, 115, 203, 551, 944]\n",
      "Lista de números pares: [2, 8, 44, 92, 944]\n"
     ]
    }
   ],
   "source": [
    "num=[2, 5, 8, 9, 13, 44, 92, 115, 203, 551, 944]\n",
    "nueva=[]\n",
    "\n",
    "for i in num:\n",
    "    if i%2 == 0:\n",
    "        nueva.append(i)\n",
    "print(f\"Lista original: {num}\")\n",
    "print(f\"Lista de números pares: {nueva}\")"
   ]
  },
  {
   "cell_type": "markdown",
   "id": "bf230b71",
   "metadata": {},
   "source": [
    "__PRUEBAS EJERCICIOS MARTA__"
   ]
  },
  {
   "cell_type": "code",
   "execution_count": 87,
   "id": "c2ba0264",
   "metadata": {},
   "outputs": [
    {
     "name": "stdout",
     "output_type": "stream",
     "text": [
      "<class 'str'>\n",
      "['SGE', 3.0, ['A', 'B'], 10]\n",
      "['SGE', 3.0, ['A', 'B'], 10, 'FINAL', 'z']\n",
      "['SGE', 'FINAL']\n",
      "['SGE', ['A', 'B']]\n",
      "['SGE', 3.0, -1, ['A', 'B'], 10, 'FINAL', 'z']\n"
     ]
    }
   ],
   "source": [
    "listita=[\"SGE\", 3.0, [\"A\", \"B\"], 10, \"FINAL\"]\n",
    "\n",
    "print(type(listita[2][1]))\n",
    "print (listita[0:4])\n",
    "#print (listita[1][1])  Este dará error, logicamente\n",
    "len(listita)\n",
    "listita.append(\"z\")\n",
    "print (listita)\n",
    "print (listita[::4])\n",
    "print (listita[0:3:2])\n",
    "listita.insert(2, -1) #Añadimos un -1 en la posición 2\n",
    "print (listita)"
   ]
  },
  {
   "cell_type": "code",
   "execution_count": null,
   "id": "5d4a77d7",
   "metadata": {},
   "outputs": [],
   "source": []
  }
 ],
 "metadata": {
  "kernelspec": {
   "display_name": "Python 3 (ipykernel)",
   "language": "python",
   "name": "python3"
  },
  "language_info": {
   "codemirror_mode": {
    "name": "ipython",
    "version": 3
   },
   "file_extension": ".py",
   "mimetype": "text/x-python",
   "name": "python",
   "nbconvert_exporter": "python",
   "pygments_lexer": "ipython3",
   "version": "3.10.9"
  }
 },
 "nbformat": 4,
 "nbformat_minor": 5
}
