{
 "cells": [
  {
   "cell_type": "code",
   "execution_count": 1,
   "id": "75afc886",
   "metadata": {},
   "outputs": [
    {
     "name": "stdout",
     "output_type": "stream",
     "text": [
      "25\n"
     ]
    }
   ],
   "source": [
    "def multiplicar(n1, n2):\n",
    "    return n1 * n2\n",
    "\n",
    "print(multiplicar(5, 5))"
   ]
  },
  {
   "cell_type": "code",
   "execution_count": 2,
   "id": "8302ed8e",
   "metadata": {},
   "outputs": [
    {
     "name": "stdout",
     "output_type": "stream",
     "text": [
      "25\n"
     ]
    }
   ],
   "source": [
    "#Se puede meter un valor por defecto directamente en el parameto,\n",
    "#pero solo en el último parámetro, si hay varios\n",
    "def multiplicar(n1, n2=5):\n",
    "    return n1 * n2\n",
    "\n",
    "print(multiplicar(5))"
   ]
  },
  {
   "cell_type": "code",
   "execution_count": 4,
   "id": "e2caa68e",
   "metadata": {},
   "outputs": [],
   "source": [
    "def elemento_quimico(símbolo):\n",
    "    elementos={'H':'1-Hidrógeno','He':'2-Helio','Li':'3-Litio'}\n",
    "    elemento=elementos[símbolo]\n",
    "    lista=elemento.split('-')\n",
    "    \n",
    "    return(lista[0],lista[1])"
   ]
  },
  {
   "cell_type": "code",
   "execution_count": 9,
   "id": "342a50f1",
   "metadata": {},
   "outputs": [
    {
     "name": "stdout",
     "output_type": "stream",
     "text": [
      "Núm.Atómico: 2\n",
      "Denominación: Helio\n"
     ]
    }
   ],
   "source": [
    "num_atomico,denomina=elemento_quimico('He')\n",
    "print('Núm.Atómico:',num_atomico)\n",
    "print('Denominación:',denomina)"
   ]
  },
  {
   "cell_type": "markdown",
   "id": "e0ad48eb",
   "metadata": {},
   "source": [
    "Diseña un programa. Supongamos que tenemos una lista de nombre de personas people = ['Amy', 'Alice',\n",
    "'Bobby', 'Charlie', 'Connie', 'David']. Lo que queremos es que se filtre la información y quedarnos solo con\n",
    "los que empiezan por C."
   ]
  },
  {
   "cell_type": "code",
   "execution_count": 40,
   "id": "4f177264",
   "metadata": {},
   "outputs": [],
   "source": [
    "people=['Amy', 'Alice', 'Bobby', 'Charlie', 'Connie', 'David']\n",
    "def iniciales(names):\n",
    "    for name in names:\n",
    "        if name[0] == 'C':\n",
    "            print(name)"
   ]
  },
  {
   "cell_type": "code",
   "execution_count": 41,
   "id": "c87fb0ed",
   "metadata": {},
   "outputs": [
    {
     "name": "stdout",
     "output_type": "stream",
     "text": [
      "Charlie\n",
      "Connie\n"
     ]
    }
   ],
   "source": [
    "iniciales(people)"
   ]
  },
  {
   "cell_type": "markdown",
   "id": "f593376c",
   "metadata": {},
   "source": [
    "__PARAMETROS ARBITRARIOS__"
   ]
  },
  {
   "cell_type": "code",
   "execution_count": 34,
   "id": "d83278db",
   "metadata": {},
   "outputs": [],
   "source": [
    "#Cuando indicamos párametros arbitrarios con 2 asteriscos (**), le estamos indicando que ese párametro\n",
    "#Se introducirá en formato de DICCIOARIO - {}  Necesita una clave:valor\n",
    "def varios(param1, param2, param3, **cosas):\n",
    "    for i in cosas.items():\n",
    "        print(i)\n",
    "        print(param1)\n",
    "        print(param2)\n",
    "        print(param3)\n"
   ]
  },
  {
   "cell_type": "code",
   "execution_count": 35,
   "id": "ce3a79df",
   "metadata": {},
   "outputs": [
    {
     "name": "stdout",
     "output_type": "stream",
     "text": [
      "('tercero', 3)\n",
      "1\n",
      "2\n",
      "3\n",
      "('cuarto', 8)\n",
      "1\n",
      "2\n",
      "3\n",
      "('quinto', 69)\n",
      "1\n",
      "2\n",
      "3\n"
     ]
    }
   ],
   "source": [
    "varios(1, 2,3, tercero = 3, cuarto = 8, quinto = 69)"
   ]
  },
  {
   "cell_type": "code",
   "execution_count": 32,
   "id": "eebb309c",
   "metadata": {},
   "outputs": [],
   "source": [
    "#Cuando indicamos párametros arbitrarios con 1 asterisco (*), le estamos indicando que ese párametro\n",
    "#Se introducirá en formato de LISTA - []\n",
    "def recorrer_parametros_arbitrarios(parametro_fijo, *arbitrarios):\n",
    "    print(parametro_fijo)\n",
    "    for cosa in arbitrarios:\n",
    "        print(cosa)"
   ]
  },
  {
   "cell_type": "code",
   "execution_count": 33,
   "id": "997674aa",
   "metadata": {},
   "outputs": [
    {
     "name": "stdout",
     "output_type": "stream",
     "text": [
      "Este es fijio\n",
      "nuevo1\n",
      "nuevo2\n"
     ]
    }
   ],
   "source": [
    "recorrer_parametros_arbitrarios(\"Este es fijio\", \"nuevo1\", \"nuevo2\")"
   ]
  },
  {
   "cell_type": "markdown",
   "id": "675e3c72",
   "metadata": {},
   "source": [
    "__FUNCIONES LAMBDA__"
   ]
  },
  {
   "cell_type": "markdown",
   "id": "dd8fd70b",
   "metadata": {},
   "source": [
    "..Lambda = Función anónima (sin nombre). Solo para expresiones\n",
    "Las funciones lambda __NO__ pueden contener bucles y __NO__ pueden utilizar la palabra clave return para regresar un valor.\n",
    "La sintaxis para crear una función de éste tipo es:\n",
    "Lambda <parámetros>:<expresión></expresión></parámetros>.."
   ]
  },
  {
   "cell_type": "code",
   "execution_count": 8,
   "id": "98540d55",
   "metadata": {},
   "outputs": [
    {
     "name": "stdout",
     "output_type": "stream",
     "text": [
      "6\n"
     ]
    }
   ],
   "source": [
    "print( (lambda x: x*2)(3) )"
   ]
  },
  {
   "cell_type": "markdown",
   "id": "e55df2c5",
   "metadata": {},
   "source": [
    "__FUNCIONES DE ALTO ORDEN__"
   ]
  },
  {
   "cell_type": "code",
   "execution_count": 5,
   "id": "8c7a6ff4",
   "metadata": {},
   "outputs": [
    {
     "name": "stdout",
     "output_type": "stream",
     "text": [
      "[4, 8, 12, 16]\n",
      "20\n",
      "[2, 3, 5, 9, 13, 16]\n"
     ]
    }
   ],
   "source": [
    "#Nos ayudan a trabajar con LISTAS y poder operar sobre ellas\n",
    "#MAP trabajar sobre una lista y devolver una lista\n",
    "#REDUCE trabaja en una lista y devuelve 1 valor\n",
    "#FILTER trabaja en una lista para devolver una lista, filtra ciertas condiciones para filtrar o reducir la lista\n",
    "\n",
    "#MAP\n",
    "lista = [2,4,6,8]\n",
    "print(list(map(lambda x:x*2, lista)))\n",
    "\n",
    "#REDUCE\n",
    "import functools\n",
    "lista2 = [2,4,6,8]\n",
    "print(functools.reduce(lambda x,y : x+y, lista))\n",
    "\n",
    "#FILTER\n",
    "def positivos(numeros):\n",
    "    return list(filter(lambda n:n >= 0, numeros))\n",
    "\n",
    "print(positivos([2,3,-4,5,9,13,16]))"
   ]
  },
  {
   "cell_type": "markdown",
   "id": "8909f1e2",
   "metadata": {},
   "source": [
    "__EJERCICOS__"
   ]
  },
  {
   "cell_type": "code",
   "execution_count": 7,
   "id": "a57acfd5",
   "metadata": {},
   "outputs": [
    {
     "name": "stdout",
     "output_type": "stream",
     "text": [
      "pesao!\n",
      "pesao!\n",
      "pesao!\n"
     ]
    }
   ],
   "source": [
    "# 1- Crear una funcion a la que vamos a pasar una cadena y un numero y debe de pintar dicha\n",
    "# cadena tantas veces como al numero indica\n",
    "\n",
    "def func (num, cadena):\n",
    "    i=1\n",
    "    while i<=num:\n",
    "        print(cadena)\n",
    "        i+=1\n",
    "\n",
    "func(3, 'pesao!')"
   ]
  },
  {
   "cell_type": "code",
   "execution_count": 9,
   "id": "b232ef3d",
   "metadata": {},
   "outputs": [
    {
     "name": "stdout",
     "output_type": "stream",
     "text": [
      "9\n"
     ]
    }
   ],
   "source": [
    "# 2- Función que reciba tres enteros y nos dice cual es su suma\n",
    "import functools\n",
    "\n",
    "def func1 (x1,x2,x3):\n",
    "    lista3 = []\n",
    "    lista3.extend([x1,x2,x3])\n",
    "    \n",
    "    return functools.reduce(lambda x,y:x+y, lista3)\n",
    "\n",
    "print(func1(2,3,4))"
   ]
  },
  {
   "cell_type": "code",
   "execution_count": null,
   "id": "05895a15",
   "metadata": {},
   "outputs": [],
   "source": []
  }
 ],
 "metadata": {
  "kernelspec": {
   "display_name": "Python 3 (ipykernel)",
   "language": "python",
   "name": "python3"
  },
  "language_info": {
   "codemirror_mode": {
    "name": "ipython",
    "version": 3
   },
   "file_extension": ".py",
   "mimetype": "text/x-python",
   "name": "python",
   "nbconvert_exporter": "python",
   "pygments_lexer": "ipython3",
   "version": "3.10.9"
  }
 },
 "nbformat": 4,
 "nbformat_minor": 5
}
