{
 "cells": [
  {
   "cell_type": "markdown",
   "metadata": {},
   "source": [
    "# ESTRUCTURAS DE DATOS"
   ]
  },
  {
   "cell_type": "markdown",
   "metadata": {},
   "source": [
    "## TUPLAS"
   ]
  },
  {
   "cell_type": "code",
   "execution_count": 1,
   "metadata": {},
   "outputs": [],
   "source": [
    "tupla = (1, 23, 45) # Tupla básica"
   ]
  },
  {
   "cell_type": "code",
   "execution_count": 2,
   "metadata": {},
   "outputs": [
    {
     "data": {
      "text/plain": [
       "(1, 23, 45)"
      ]
     },
     "execution_count": 2,
     "metadata": {},
     "output_type": "execute_result"
    }
   ],
   "source": [
    "tupla"
   ]
  },
  {
   "cell_type": "code",
   "execution_count": 3,
   "metadata": {},
   "outputs": [
    {
     "data": {
      "text/plain": [
       "45"
      ]
     },
     "execution_count": 3,
     "metadata": {},
     "output_type": "execute_result"
    }
   ],
   "source": [
    "tupla[2]"
   ]
  },
  {
   "cell_type": "code",
   "execution_count": 4,
   "metadata": {},
   "outputs": [],
   "source": [
    "tupla_index = ( tupla, \n",
    "               (56, 'hola', 52.3654, 'fin' )\n",
    "              ) # Tupla indexada"
   ]
  },
  {
   "cell_type": "code",
   "execution_count": 5,
   "metadata": {},
   "outputs": [
    {
     "data": {
      "text/plain": [
       "((1, 23, 45), (56, 'hola', 52.3654, 'fin'))"
      ]
     },
     "execution_count": 5,
     "metadata": {},
     "output_type": "execute_result"
    }
   ],
   "source": [
    "tupla_index"
   ]
  },
  {
   "cell_type": "markdown",
   "metadata": {},
   "source": [
    "Podemos mostrar valores a través del índice de cada tupla"
   ]
  },
  {
   "cell_type": "code",
   "execution_count": 6,
   "metadata": {},
   "outputs": [
    {
     "data": {
      "text/plain": [
       "(1, 23, 45)"
      ]
     },
     "execution_count": 6,
     "metadata": {},
     "output_type": "execute_result"
    }
   ],
   "source": [
    "tupla_index[0]"
   ]
  },
  {
   "cell_type": "code",
   "execution_count": 7,
   "metadata": {},
   "outputs": [
    {
     "data": {
      "text/plain": [
       "45"
      ]
     },
     "execution_count": 7,
     "metadata": {},
     "output_type": "execute_result"
    }
   ],
   "source": [
    "tupla_index[0][2]"
   ]
  },
  {
   "cell_type": "code",
   "execution_count": 8,
   "metadata": {},
   "outputs": [
    {
     "data": {
      "text/plain": [
       "56"
      ]
     },
     "execution_count": 8,
     "metadata": {},
     "output_type": "execute_result"
    }
   ],
   "source": [
    "tupla_index[1][0]"
   ]
  },
  {
   "cell_type": "code",
   "execution_count": 9,
   "metadata": {},
   "outputs": [
    {
     "ename": "IndexError",
     "evalue": "tuple index out of range",
     "output_type": "error",
     "traceback": [
      "\u001b[1;31m---------------------------------------------------------------------------\u001b[0m",
      "\u001b[1;31mIndexError\u001b[0m                                Traceback (most recent call last)",
      "Cell \u001b[1;32mIn[9], line 1\u001b[0m\n\u001b[1;32m----> 1\u001b[0m \u001b[43mtupla_index\u001b[49m\u001b[43m[\u001b[49m\u001b[38;5;241;43m2\u001b[39;49m\u001b[43m]\u001b[49m\n",
      "\u001b[1;31mIndexError\u001b[0m: tuple index out of range"
     ]
    }
   ],
   "source": [
    "tupla_index[2]"
   ]
  },
  {
   "cell_type": "code",
   "execution_count": null,
   "metadata": {},
   "outputs": [],
   "source": [
    "len(tupla_index)"
   ]
  },
  {
   "cell_type": "code",
   "execution_count": null,
   "metadata": {},
   "outputs": [],
   "source": [
    "tupla_index"
   ]
  },
  {
   "cell_type": "markdown",
   "metadata": {},
   "source": [
    "No son mutables"
   ]
  },
  {
   "cell_type": "code",
   "execution_count": null,
   "metadata": {},
   "outputs": [],
   "source": [
    "tupla"
   ]
  },
  {
   "cell_type": "code",
   "execution_count": null,
   "metadata": {},
   "outputs": [],
   "source": [
    "tupla[1] = 100"
   ]
  },
  {
   "cell_type": "code",
   "execution_count": null,
   "metadata": {},
   "outputs": [],
   "source": [
    "tupla = (1, 100, 45)"
   ]
  },
  {
   "cell_type": "code",
   "execution_count": null,
   "metadata": {},
   "outputs": [],
   "source": [
    "tupla"
   ]
  },
  {
   "cell_type": "markdown",
   "metadata": {},
   "source": [
    "Clase de una tupla"
   ]
  },
  {
   "cell_type": "code",
   "execution_count": null,
   "metadata": {},
   "outputs": [],
   "source": [
    "type(tupla_index)"
   ]
  },
  {
   "cell_type": "markdown",
   "metadata": {},
   "source": [
    "### Ejercicio 1.\n",
    "\n",
    "Guardar las siguientes calificaciones en una tupla.\n",
    "\n",
    "* 5.25\n",
    "* 4.5\n",
    "* 3.25\n",
    "* 7.8\n",
    "* 5.90\n",
    "* 10\n",
    "* 9.6\n",
    "\n",
    "Mostrar sus elementos uno a uno.\n",
    "\n",
    "#### Solución"
   ]
  },
  {
   "cell_type": "code",
   "execution_count": null,
   "metadata": {},
   "outputs": [],
   "source": [
    "calificaciones = (5.25, 4.5, 3.25, 7.8, 5.9, 10, 9.6)"
   ]
  },
  {
   "cell_type": "markdown",
   "metadata": {},
   "source": [
    "Para recorrer las siguientes secuencias:\n",
    "* cadenas de texto\n",
    "* tuplas\n",
    "* listas\n",
    "* arrays (vectores, matrices)\n",
    "\n",
    "Lo mejor son **bucles for**\n",
    "\n",
    "1. Directamente sobre el elemento"
   ]
  },
  {
   "cell_type": "code",
   "execution_count": null,
   "metadata": {},
   "outputs": [],
   "source": [
    "for item in a:\n",
    "    print(item)"
   ]
  },
  {
   "cell_type": "markdown",
   "metadata": {},
   "source": [
    "2. Sobre el índice"
   ]
  },
  {
   "cell_type": "code",
   "execution_count": null,
   "metadata": {},
   "outputs": [],
   "source": [
    "a"
   ]
  },
  {
   "cell_type": "code",
   "execution_count": null,
   "metadata": {},
   "outputs": [],
   "source": [
    "for item in range(0, len(a)):\n",
    "    print(\"Índice --> \", item, \" Posición --> \", a[item])"
   ]
  },
  {
   "cell_type": "markdown",
   "metadata": {},
   "source": [
    "### Ejercicio 2\n",
    "\n",
    "Escribir un programa que almacene los vectores (1,2,3) y (-1,0,2) en dos tuplas y muestre por pantalla su producto escalar.\n",
    "\n",
    "NOTA: El producto escalar se realizar elemento a elemento.\n",
    "\n",
    "#### Solución"
   ]
  },
  {
   "cell_type": "code",
   "execution_count": null,
   "metadata": {},
   "outputs": [],
   "source": [
    "# Definimos dos tuplas\n",
    "a = (1, -2, 3)\n",
    "b = (-1, 0, 2)"
   ]
  },
  {
   "cell_type": "code",
   "execution_count": null,
   "metadata": {},
   "outputs": [],
   "source": [
    "producto_escalar = 0\n",
    "\n",
    "# Recorro con un range las dos tuplas por índice\n",
    "for hola in range(len(b)):\n",
    "    # print(\"Tupla a: \", a[hola], \" Tupla b \", b[hola])\n",
    "    # print(\"\\tProducto escalar en posición \", hola+1, \" --> \", a[hola]*b[hola])\n",
    "    \n",
    "    # Actualizo el producto escalar\n",
    "    producto_escalar = producto_escalar + a[hola]*b[hola]\n",
    "    \n",
    "print(\"Resultado del producto escalar \", producto_escalar)\n",
    "    \n",
    "    "
   ]
  },
  {
   "cell_type": "code",
   "execution_count": null,
   "metadata": {},
   "outputs": [],
   "source": [
    "# Variable auxiliar para guardar el producto.\n",
    "escalar = 0\n",
    "\n",
    "# Calculamos el producto\n",
    "for i in range(len(a)):\n",
    "    escalar = escalar + a[i]*b[i]\n",
    "\n",
    "print(\"El producto escalar de \", a, b, \" es --> \", escalar)"
   ]
  },
  {
   "cell_type": "markdown",
   "metadata": {},
   "source": [
    "### Ejercicio 3\n",
    "\n",
    "Escribe un programa que muestre la media de la siguiente tupla:"
   ]
  },
  {
   "cell_type": "code",
   "execution_count": null,
   "metadata": {},
   "outputs": [],
   "source": [
    "tupla = (1, 5, 8, 9, 100, 23, 6, 10, 30)"
   ]
  },
  {
   "cell_type": "markdown",
   "metadata": {},
   "source": [
    "#### Solución"
   ]
  },
  {
   "cell_type": "code",
   "execution_count": null,
   "metadata": {},
   "outputs": [],
   "source": [
    "# suma = 0\n",
    "# for item in tupla:\n",
    "#     print(\"Valor de la suma {}, próximo valor de la suma {}\".format(suma, suma + item))\n",
    "#     suma = suma + item"
   ]
  },
  {
   "cell_type": "code",
   "execution_count": null,
   "metadata": {},
   "outputs": [],
   "source": [
    "# # Inicializamos la tupla\n",
    "# suma = 0\n",
    "\n",
    "# contador = 1\n",
    "\n",
    "# # Directamente sobre el elemento de la tupla\n",
    "# for item in tupla:\n",
    "#     suma = suma + item\n",
    "#     contador = contador + 1\n",
    "    \n",
    "\n",
    "# # Sobre el índice\n",
    "# # for item in range(len(tupla)):\n",
    "# #     suma = suma + tupla[item]\n",
    "    \n",
    "# print('La media de la tupla es {}'.format(suma/len(tupla)))"
   ]
  },
  {
   "cell_type": "code",
   "execution_count": null,
   "metadata": {},
   "outputs": [],
   "source": [
    "# Inicializamos la tupla\n",
    "suma = 0\n",
    "\n",
    "# Directamente sobre el elemento de la tupla\n",
    "for item in tupla:\n",
    "    suma = suma + item\n",
    "\n",
    "# Sobre el índice\n",
    "# for item in range(len(tupla)):\n",
    "#     suma = suma + tupla[item]\n",
    "    \n",
    "print('La media de la tupla es {}'.format(round(suma/len(tupla),2)))"
   ]
  },
  {
   "cell_type": "markdown",
   "metadata": {},
   "source": [
    "## LISTAS"
   ]
  },
  {
   "cell_type": "markdown",
   "metadata": {},
   "source": [
    "Definición de una lista"
   ]
  },
  {
   "cell_type": "code",
   "execution_count": null,
   "metadata": {},
   "outputs": [],
   "source": [
    "# # Recorrer cadenas de texto \n",
    "# a = \"hola\"\n",
    "\n",
    "# for letra in a:\n",
    "#     print(letra)\n",
    "    \n",
    "    \n",
    "    \n",
    "# print(\"----\")\n",
    "\n",
    "# for letra in range(len(a)):\n",
    "#     print(a[letra])"
   ]
  },
  {
   "cell_type": "code",
   "execution_count": null,
   "metadata": {},
   "outputs": [],
   "source": [
    "# # No son mutables\n",
    "# a[2] = \"P\" # TypeError: 'str' object does not support item assignment"
   ]
  },
  {
   "cell_type": "code",
   "execution_count": null,
   "metadata": {},
   "outputs": [],
   "source": [
    "mi_lista = [1, 3, 89, 23]"
   ]
  },
  {
   "cell_type": "code",
   "execution_count": null,
   "metadata": {},
   "outputs": [],
   "source": [
    "mi_lista"
   ]
  },
  {
   "cell_type": "code",
   "execution_count": null,
   "metadata": {},
   "outputs": [],
   "source": [
    "mix_list = ['hola', 51, 8.23, 2, 'cadena']"
   ]
  },
  {
   "cell_type": "code",
   "execution_count": null,
   "metadata": {},
   "outputs": [],
   "source": [
    "mix_list"
   ]
  },
  {
   "cell_type": "code",
   "execution_count": null,
   "metadata": {},
   "outputs": [],
   "source": [
    "new_list = [1, mi_lista, 5, 95.5, [78, 96], mix_list]\n",
    "new_list"
   ]
  },
  {
   "cell_type": "code",
   "execution_count": null,
   "metadata": {},
   "outputs": [],
   "source": [
    "len(new_list)"
   ]
  },
  {
   "cell_type": "code",
   "execution_count": null,
   "metadata": {},
   "outputs": [],
   "source": [
    "len(new_list[1])"
   ]
  },
  {
   "cell_type": "markdown",
   "metadata": {},
   "source": [
    "### Ejercicio 4.\n",
    "\n",
    "Almacenar la siguiente información en una lista:\n",
    "\n",
    "* BBVA\n",
    "* CAIXA\n",
    "* SANTANDER\n",
    "* BANKIA\n",
    "* BNEXT\n",
    "* CAJA RURAL\n",
    "\n",
    "Imprimir de la lista obtenida el segundo y cuarto elemento\n",
    "\n",
    "### Solución"
   ]
  },
  {
   "cell_type": "code",
   "execution_count": null,
   "metadata": {},
   "outputs": [],
   "source": [
    "banks = [\"BBVA\", \n",
    "         \"CAIXA\", \n",
    "         \"SANTANDER\", \n",
    "         \"BANKIA\", \n",
    "         \"CAJA RURAL\", \n",
    "         \"BNEXT\"]"
   ]
  },
  {
   "cell_type": "code",
   "execution_count": null,
   "metadata": {},
   "outputs": [],
   "source": [
    "banks[1]"
   ]
  },
  {
   "cell_type": "code",
   "execution_count": null,
   "metadata": {},
   "outputs": [],
   "source": [
    "banks[3]"
   ]
  },
  {
   "cell_type": "markdown",
   "metadata": {},
   "source": [
    "Listas anidadas"
   ]
  },
  {
   "cell_type": "code",
   "execution_count": null,
   "metadata": {},
   "outputs": [],
   "source": [
    "new_list = ['item1', 'item2', mix_list, 'item4', ['item4.0', ['item4.1']]]"
   ]
  },
  {
   "cell_type": "code",
   "execution_count": null,
   "metadata": {},
   "outputs": [],
   "source": [
    "new_list"
   ]
  },
  {
   "cell_type": "markdown",
   "metadata": {},
   "source": [
    "Accedemos solo a la lista anidada"
   ]
  },
  {
   "cell_type": "code",
   "execution_count": null,
   "metadata": {},
   "outputs": [],
   "source": [
    "new_list[4]"
   ]
  },
  {
   "cell_type": "markdown",
   "metadata": {},
   "source": [
    "Accedemos solo a la sub-lista anidada, dentro de la lista anidada."
   ]
  },
  {
   "cell_type": "code",
   "execution_count": null,
   "metadata": {},
   "outputs": [],
   "source": [
    "new_list[4][1]"
   ]
  },
  {
   "cell_type": "code",
   "execution_count": null,
   "metadata": {},
   "outputs": [],
   "source": [
    "new_list[4][1][0].upper()"
   ]
  },
  {
   "cell_type": "markdown",
   "metadata": {},
   "source": [
    "Índices de una lista"
   ]
  },
  {
   "cell_type": "code",
   "execution_count": null,
   "metadata": {},
   "outputs": [],
   "source": [
    "new_list[0]"
   ]
  },
  {
   "cell_type": "code",
   "execution_count": null,
   "metadata": {},
   "outputs": [],
   "source": [
    "new_list[2][0]"
   ]
  },
  {
   "cell_type": "code",
   "execution_count": null,
   "metadata": {},
   "outputs": [],
   "source": [
    "new_list[2][0][1]"
   ]
  },
  {
   "cell_type": "code",
   "execution_count": null,
   "metadata": {},
   "outputs": [],
   "source": [
    "new_list[2][0]"
   ]
  },
  {
   "cell_type": "markdown",
   "metadata": {},
   "source": [
    "Modificar valores de una lista"
   ]
  },
  {
   "cell_type": "code",
   "execution_count": null,
   "metadata": {},
   "outputs": [],
   "source": [
    "new_list[2][0] = 'adios'"
   ]
  },
  {
   "cell_type": "code",
   "execution_count": null,
   "metadata": {},
   "outputs": [],
   "source": [
    "new_list"
   ]
  },
  {
   "cell_type": "markdown",
   "metadata": {},
   "source": [
    "Propiedades de una lista:\n",
    "\n",
    "* __append__"
   ]
  },
  {
   "cell_type": "code",
   "execution_count": null,
   "metadata": {},
   "outputs": [],
   "source": [
    "lista = [1, 3, 65, 85, 2]"
   ]
  },
  {
   "cell_type": "code",
   "execution_count": null,
   "metadata": {},
   "outputs": [],
   "source": [
    "lista.append(100)"
   ]
  },
  {
   "cell_type": "code",
   "execution_count": null,
   "metadata": {},
   "outputs": [],
   "source": [
    "lista"
   ]
  },
  {
   "cell_type": "code",
   "execution_count": null,
   "metadata": {},
   "outputs": [],
   "source": [
    "lista.append([100])\n",
    "lista"
   ]
  },
  {
   "cell_type": "markdown",
   "metadata": {},
   "source": [
    "### Ejercicio 5.\n",
    "\n",
    "Escribir un programa que almacene las asignaturas de un curso (por ejemplo Matemáticas, Física, Química, Historia y Lengua), posteriormente, se pregunte al usuario ¿qué nota has sacado en (asignatura) ?, guardar cada calificación en una nueva lista, finalmente, recorrer ambas listas para ir mostrando por pantalla el nombre de la asignatura y la calificación obtenida.\n",
    "\n",
    "#### Solución."
   ]
  },
  {
   "cell_type": "code",
   "execution_count": null,
   "metadata": {},
   "outputs": [],
   "source": [
    "vacia = []\n",
    "vacia"
   ]
  },
  {
   "cell_type": "code",
   "execution_count": null,
   "metadata": {},
   "outputs": [],
   "source": [
    "len(vacia)"
   ]
  },
  {
   "cell_type": "code",
   "execution_count": null,
   "metadata": {},
   "outputs": [],
   "source": [
    "# Lista de asignaturas\n",
    "asignaturas = (\"Matemáticas\", \"Física\", \"Química\", \"Historia\", \"Lengua\")"
   ]
  },
  {
   "cell_type": "code",
   "execution_count": null,
   "metadata": {},
   "outputs": [],
   "source": [
    "for asg in asignaturas:\n",
    "    calificacion = float(input(f\"¿Qué calificación has sacado en {asg}?\"))\n",
    "    print(calificacion)"
   ]
  },
  {
   "cell_type": "code",
   "execution_count": null,
   "metadata": {},
   "outputs": [],
   "source": [
    "# Lista vacía para las puntuaciones\n",
    "puntuaciones = []\n",
    "\n",
    "# Guardamos las puntuaciones con append\n",
    "for asignatura in asignaturas:\n",
    "    puntuacion = float(input(\"Qué calificación has sacado en: \" + asignatura + \"? \")) # Separar siempre con +\n",
    "    puntuaciones.append(puntuacion)"
   ]
  },
  {
   "cell_type": "code",
   "execution_count": null,
   "metadata": {},
   "outputs": [],
   "source": [
    "puntuaciones"
   ]
  },
  {
   "cell_type": "code",
   "execution_count": null,
   "metadata": {},
   "outputs": [],
   "source": [
    "# Recorremos indexando las dos listas\n",
    "for item in range(len(asignaturas)):\n",
    "    print(\"En la asignatura --> \", asignaturas[item], \" he obtenido una puntuación de --> \", puntuaciones[item])"
   ]
  },
  {
   "cell_type": "code",
   "execution_count": null,
   "metadata": {},
   "outputs": [],
   "source": [
    "# Recorremos indexando las dos listas\n",
    "for item in range(len(puntuaciones)):\n",
    "    print(\"En la asignatura --> \", asignaturas[item], \" he obtenido una puntuación de --> \", puntuaciones[item])"
   ]
  },
  {
   "cell_type": "markdown",
   "metadata": {},
   "source": [
    "* __clear__"
   ]
  },
  {
   "cell_type": "code",
   "execution_count": null,
   "metadata": {},
   "outputs": [],
   "source": [
    "lista"
   ]
  },
  {
   "cell_type": "code",
   "execution_count": null,
   "metadata": {},
   "outputs": [],
   "source": [
    "lista.clear()"
   ]
  },
  {
   "cell_type": "code",
   "execution_count": null,
   "metadata": {},
   "outputs": [],
   "source": [
    "lista"
   ]
  },
  {
   "cell_type": "markdown",
   "metadata": {},
   "source": [
    "* __copy__"
   ]
  },
  {
   "cell_type": "markdown",
   "metadata": {},
   "source": [
    "Si no copiamos correctamente una lista, los cambios se verán reflejados en origen y copia. __HAY QUE TENER CUIDADO CON ESTO; YA QUE LOS CAMBIOS SE REFLEJAN EN LAS COPIAS; ES MEJOR USAR COPY()__"
   ]
  },
  {
   "cell_type": "code",
   "execution_count": null,
   "metadata": {},
   "outputs": [],
   "source": [
    "lista = [1, 3, 65, 85, 2]"
   ]
  },
  {
   "cell_type": "code",
   "execution_count": null,
   "metadata": {},
   "outputs": [],
   "source": [
    "lista_dos = lista"
   ]
  },
  {
   "cell_type": "code",
   "execution_count": null,
   "metadata": {},
   "outputs": [],
   "source": [
    "lista_dos"
   ]
  },
  {
   "cell_type": "code",
   "execution_count": null,
   "metadata": {},
   "outputs": [],
   "source": [
    "lista_dos[2] = 5000"
   ]
  },
  {
   "cell_type": "code",
   "execution_count": null,
   "metadata": {},
   "outputs": [],
   "source": [
    "lista_dos"
   ]
  },
  {
   "cell_type": "code",
   "execution_count": null,
   "metadata": {},
   "outputs": [],
   "source": [
    "lista"
   ]
  },
  {
   "cell_type": "code",
   "execution_count": null,
   "metadata": {},
   "outputs": [],
   "source": [
    "lista_dos"
   ]
  },
  {
   "cell_type": "markdown",
   "metadata": {},
   "source": [
    "Si realizamos .copy() ... __MEJOR USAR ESTA FUNCION__"
   ]
  },
  {
   "cell_type": "code",
   "execution_count": null,
   "metadata": {},
   "outputs": [],
   "source": [
    "lista"
   ]
  },
  {
   "cell_type": "code",
   "execution_count": null,
   "metadata": {},
   "outputs": [],
   "source": [
    "lista_tres = lista.copy()"
   ]
  },
  {
   "cell_type": "code",
   "execution_count": null,
   "metadata": {},
   "outputs": [],
   "source": [
    "lista_tres"
   ]
  },
  {
   "cell_type": "code",
   "execution_count": null,
   "metadata": {},
   "outputs": [],
   "source": [
    "lista_tres[0] = 1400"
   ]
  },
  {
   "cell_type": "code",
   "execution_count": null,
   "metadata": {},
   "outputs": [],
   "source": [
    "lista_tres"
   ]
  },
  {
   "cell_type": "code",
   "execution_count": null,
   "metadata": {},
   "outputs": [],
   "source": [
    "lista"
   ]
  },
  {
   "cell_type": "markdown",
   "metadata": {},
   "source": [
    "* **extend**"
   ]
  },
  {
   "cell_type": "code",
   "execution_count": null,
   "metadata": {},
   "outputs": [],
   "source": [
    "z = [4, 9, 0]"
   ]
  },
  {
   "cell_type": "code",
   "execution_count": null,
   "metadata": {},
   "outputs": [],
   "source": [
    "lista.extend(z)\n",
    "lista"
   ]
  },
  {
   "cell_type": "markdown",
   "metadata": {},
   "source": [
    "Obtenemos el mismo resultado utilizando el operador + que indica, concatenar listas"
   ]
  },
  {
   "cell_type": "code",
   "execution_count": null,
   "metadata": {},
   "outputs": [],
   "source": [
    "a = [1,2,3]\n",
    "b = [4,5,6]\n",
    "\n",
    "c = a + b\n",
    "\n",
    "c"
   ]
  },
  {
   "cell_type": "markdown",
   "metadata": {},
   "source": [
    "* **index**"
   ]
  },
  {
   "cell_type": "code",
   "execution_count": null,
   "metadata": {},
   "outputs": [],
   "source": [
    "#Busca el valor en la lista, en el primer caso el número 5000\n",
    "lista.index(5000)"
   ]
  },
  {
   "cell_type": "code",
   "execution_count": null,
   "metadata": {},
   "outputs": [],
   "source": [
    "lista.index(20)"
   ]
  },
  {
   "cell_type": "markdown",
   "metadata": {},
   "source": [
    "* **insert**"
   ]
  },
  {
   "cell_type": "code",
   "execution_count": null,
   "metadata": {},
   "outputs": [],
   "source": [
    "lista.insert(4, 'nuevo valor')"
   ]
  },
  {
   "cell_type": "code",
   "execution_count": null,
   "metadata": {},
   "outputs": [],
   "source": [
    "lista"
   ]
  },
  {
   "cell_type": "markdown",
   "metadata": {},
   "source": [
    "* **pop**"
   ]
  },
  {
   "cell_type": "code",
   "execution_count": null,
   "metadata": {},
   "outputs": [],
   "source": [
    "# Borra un valor en la posición de la lista\n",
    "lista.pop(4)"
   ]
  },
  {
   "cell_type": "code",
   "execution_count": null,
   "metadata": {},
   "outputs": [],
   "source": [
    "lista"
   ]
  },
  {
   "cell_type": "markdown",
   "metadata": {},
   "source": [
    "* **remove**"
   ]
  },
  {
   "cell_type": "code",
   "execution_count": null,
   "metadata": {},
   "outputs": [],
   "source": [
    "# Borra el valor que se le introduzca, en este caso el número 2\n",
    "lista.remove(2)\n",
    "lista"
   ]
  },
  {
   "cell_type": "markdown",
   "metadata": {},
   "source": [
    "* **reverse**"
   ]
  },
  {
   "cell_type": "code",
   "execution_count": null,
   "metadata": {},
   "outputs": [],
   "source": [
    "lista.reverse()\n",
    "\n",
    "lista"
   ]
  },
  {
   "cell_type": "markdown",
   "metadata": {},
   "source": [
    "* **sort**"
   ]
  },
  {
   "cell_type": "code",
   "execution_count": null,
   "metadata": {},
   "outputs": [],
   "source": [
    "lista.sort()\n",
    "\n",
    "lista"
   ]
  },
  {
   "cell_type": "code",
   "execution_count": null,
   "metadata": {},
   "outputs": [],
   "source": [
    "for item in lista:\n",
    "    print(item)"
   ]
  },
  {
   "cell_type": "code",
   "execution_count": null,
   "metadata": {
    "scrolled": true
   },
   "outputs": [],
   "source": [
    "for item in range(len(lista)):\n",
    "    print('Índice --> ', item , ' valor: ', lista[item])"
   ]
  },
  {
   "cell_type": "code",
   "execution_count": null,
   "metadata": {},
   "outputs": [],
   "source": [
    "for item in range(2, len(lista)):\n",
    "    print('Índice --> ', item , ' valor: ', lista[item])"
   ]
  },
  {
   "cell_type": "code",
   "execution_count": null,
   "metadata": {},
   "outputs": [],
   "source": [
    "type(lista)"
   ]
  },
  {
   "cell_type": "markdown",
   "metadata": {},
   "source": [
    "### Ejercicio 5.\n",
    "\n",
    "Toma como entrada las siguientes listas:"
   ]
  },
  {
   "cell_type": "code",
   "execution_count": 24,
   "metadata": {},
   "outputs": [],
   "source": [
    "frutas_uno = ['Manzana', 'banana', 'platano', 'uva']\n",
    "frutas_dos = ['Pera', 'kiwi', 'mandarina', 'naranja']"
   ]
  },
  {
   "cell_type": "markdown",
   "metadata": {},
   "source": [
    "Obtén una única lista cuyo resultado sea el de borrar de ambas listas la vocal 'a'.\n",
    "\n",
    "#### Solución."
   ]
  },
  {
   "cell_type": "code",
   "execution_count": 25,
   "metadata": {},
   "outputs": [
    {
     "data": {
      "text/plain": [
       "['Manzana', 'banana', 'platano', 'uva', 'Pera', 'kiwi', 'mandarina', 'naranja']"
      ]
     },
     "execution_count": 25,
     "metadata": {},
     "output_type": "execute_result"
    }
   ],
   "source": [
    "# Primero concatenamos ambas listas\n",
    "frutas = frutas_uno + frutas_dos\n",
    "frutas"
   ]
  },
  {
   "cell_type": "code",
   "execution_count": 33,
   "metadata": {},
   "outputs": [
    {
     "name": "stdout",
     "output_type": "stream",
     "text": [
      "0\n",
      "Mnzn\n",
      "1\n",
      "bnn\n",
      "2\n",
      "pltno\n",
      "3\n",
      "uv\n",
      "4\n",
      "Per\n",
      "5\n",
      "kiwi\n",
      "6\n",
      "mndrin\n",
      "7\n",
      "nrnj\n",
      "['Mnzn', 'bnn', 'pltno', 'uv', 'Per', 'kiwi', 'mndrin', 'nrnj']\n"
     ]
    }
   ],
   "source": [
    "# Ahora, recorremos toda la lista, eliminando la vocal a.\n",
    "for indice in range(len(frutas)):\n",
    "    print(indice)\n",
    "    no_vocals = frutas[indice].replace('a', '')\n",
    "    frutas[indice] = no_vocals\n",
    "    print(frutas[indice])\n",
    "    \n",
    "# Mostramos la lista sin vocal 'a'\n",
    "print(frutas)"
   ]
  },
  {
   "cell_type": "markdown",
   "metadata": {},
   "source": [
    "### Ejercicio 6. \n",
    "\n",
    "Programa que tomando esta lista de enntrada."
   ]
  },
  {
   "cell_type": "code",
   "execution_count": 47,
   "metadata": {},
   "outputs": [],
   "source": [
    "nombres = ['Juan', 'Ana', 'David', 'Jose', 'Sofia']"
   ]
  },
  {
   "cell_type": "markdown",
   "metadata": {},
   "source": [
    "Solicite al usuario introducir un nombre y, devolver la lista con el nombre borrado, si el nombre no se encuentra en la lista, simplemente se devolverá el nombre original.\n",
    "\n",
    "### Solución."
   ]
  },
  {
   "cell_type": "code",
   "execution_count": 53,
   "metadata": {},
   "outputs": [
    {
     "name": "stdout",
     "output_type": "stream",
     "text": [
      "['Ana', 'David', 'Sofia', 'Pedro', 'Maria', 'Hermenegildo']\n",
      "Introduce un nombre a borrar: panera\n",
      "Panera\n",
      "Lista original  ['Ana', 'David', 'Sofia', 'Pedro', 'Maria', 'Hermenegildo', 'Panera']\n"
     ]
    }
   ],
   "source": [
    "#Si no esta el nombre en la lista, se añadira\n",
    "print (nombres)\n",
    "name_remove = input('Introduce un nombre a borrar: ')\n",
    "name_remove = name_remove.capitalize()\n",
    "print(name_remove)\n",
    "\n",
    "if name_remove in nombres:\n",
    "    nombres.remove(name_remove)\n",
    "    print('Lista actualizada ', nombres)\n",
    "else:\n",
    "    nombres.append(name_remove)\n",
    "    print('Lista original ', nombres)"
   ]
  },
  {
   "cell_type": "markdown",
   "metadata": {},
   "source": [
    "### Ejercicio 7\n",
    "\n",
    "Desde el ejercicio anterior mostrar desde el nombre introducido hasta el final de la lista.\n",
    "\n",
    "#### Solución."
   ]
  },
  {
   "cell_type": "code",
   "execution_count": 54,
   "metadata": {},
   "outputs": [
    {
     "name": "stdout",
     "output_type": "stream",
     "text": [
      "Introduce un nombre para sabar su indice: Sofia\n"
     ]
    }
   ],
   "source": [
    "name_search = input('Introduce un nombre para sabar su indice: ')\n",
    "\n",
    "# En este caso, vamos a recorrer la lista, teniendo en cuenta que\n",
    "#  si el nombre no se encuentra no hacemos nada y, si se encuentra\n",
    "#  nos quedamos con la posición de índice y paramos el bucle for\n",
    "\n",
    "indice = 0\n",
    "for nombre in range(len(nombres)):\n",
    "    if name_search.lower() == nombres[nombre].lower():\n",
    "        # Guardamos posición de índice\n",
    "        indice = nombre\n",
    "        # No iteramos más veces, salimos del bucle\n",
    "        break\n",
    "    else:\n",
    "        pass"
   ]
  },
  {
   "cell_type": "code",
   "execution_count": 55,
   "metadata": {},
   "outputs": [
    {
     "data": {
      "text/plain": [
       "2"
      ]
     },
     "execution_count": 55,
     "metadata": {},
     "output_type": "execute_result"
    }
   ],
   "source": [
    "indice"
   ]
  },
  {
   "cell_type": "code",
   "execution_count": 56,
   "metadata": {},
   "outputs": [
    {
     "data": {
      "text/plain": [
       "['Sofia', 'Pedro', 'Maria', 'Hermenegildo', 'Panera']"
      ]
     },
     "execution_count": 56,
     "metadata": {},
     "output_type": "execute_result"
    }
   ],
   "source": [
    "# Si no indicamos posición de pricipio o de fin los cogerá TODOS\n",
    "nombres[2: ]"
   ]
  },
  {
   "cell_type": "markdown",
   "metadata": {},
   "source": [
    "## DICCIONARIO DE DATOS"
   ]
  },
  {
   "cell_type": "markdown",
   "metadata": {},
   "source": [
    "Definición de un diccionario."
   ]
  },
  {
   "cell_type": "code",
   "execution_count": 57,
   "metadata": {},
   "outputs": [],
   "source": [
    "a = {'clave' : 1}"
   ]
  },
  {
   "cell_type": "code",
   "execution_count": 58,
   "metadata": {},
   "outputs": [
    {
     "data": {
      "text/plain": [
       "{'clave': 1}"
      ]
     },
     "execution_count": 58,
     "metadata": {},
     "output_type": "execute_result"
    }
   ],
   "source": [
    "a"
   ]
  },
  {
   "cell_type": "markdown",
   "metadata": {},
   "source": [
    "Elementos de un diccionario"
   ]
  },
  {
   "cell_type": "code",
   "execution_count": 59,
   "metadata": {},
   "outputs": [
    {
     "data": {
      "text/plain": [
       "{'clave_1': 100, 'clave_2': 120, 'clave_3': 130}"
      ]
     },
     "execution_count": 59,
     "metadata": {},
     "output_type": "execute_result"
    }
   ],
   "source": [
    "b = {'clave_1' : 100,\n",
    "     'clave_2' : 120,\n",
    "     'clave_3' : 130\n",
    "    } \n",
    "\n",
    "b"
   ]
  },
  {
   "cell_type": "markdown",
   "metadata": {},
   "source": [
    "Anidando diccionarios"
   ]
  },
  {
   "cell_type": "code",
   "execution_count": 60,
   "metadata": {},
   "outputs": [
    {
     "data": {
      "text/plain": [
       "{'clave1': 'hola',\n",
       " 'sub_dict': {'clave_1': 100, 'clave_2': 120, 'clave_3': 130},\n",
       " 'clave2': 5.2848,\n",
       " 'sub_dict_2': {'uno': 1, 'dos': 2}}"
      ]
     },
     "execution_count": 60,
     "metadata": {},
     "output_type": "execute_result"
    }
   ],
   "source": [
    "mix_dict = {'clave1' : \"hola\",\n",
    "            'sub_dict' : b,\n",
    "             'clave2': 5.2848,\n",
    "             'sub_dict_2': {\n",
    "                 'uno': 1,\n",
    "                 'dos': 2\n",
    "             }\n",
    "           }\n",
    "\n",
    "mix_dict"
   ]
  },
  {
   "cell_type": "markdown",
   "metadata": {},
   "source": [
    "Campo clave"
   ]
  },
  {
   "cell_type": "code",
   "execution_count": 61,
   "metadata": {},
   "outputs": [],
   "source": [
    "my_dict = {\n",
    "    'Hello' : 'Hola',\n",
    "    'Bye' : 'Adios',\n",
    "    'Car' : 'Coche',\n",
    "    'Tree' : 'Árbol'\n",
    "}"
   ]
  },
  {
   "cell_type": "code",
   "execution_count": 62,
   "metadata": {},
   "outputs": [
    {
     "data": {
      "text/plain": [
       "dict_keys(['Hello', 'Bye', 'Car', 'Tree'])"
      ]
     },
     "execution_count": 62,
     "metadata": {},
     "output_type": "execute_result"
    }
   ],
   "source": [
    "my_dict.keys()"
   ]
  },
  {
   "cell_type": "markdown",
   "metadata": {},
   "source": [
    "Campo valor"
   ]
  },
  {
   "cell_type": "code",
   "execution_count": 63,
   "metadata": {},
   "outputs": [
    {
     "data": {
      "text/plain": [
       "dict_values(['Hola', 'Adios', 'Coche', 'Árbol'])"
      ]
     },
     "execution_count": 63,
     "metadata": {},
     "output_type": "execute_result"
    }
   ],
   "source": [
    "my_dict.values()"
   ]
  },
  {
   "cell_type": "markdown",
   "metadata": {},
   "source": [
    "Buscando campo clave"
   ]
  },
  {
   "cell_type": "code",
   "execution_count": 64,
   "metadata": {},
   "outputs": [
    {
     "ename": "KeyError",
     "evalue": "'Mouse'",
     "output_type": "error",
     "traceback": [
      "\u001b[1;31m---------------------------------------------------------------------------\u001b[0m",
      "\u001b[1;31mKeyError\u001b[0m                                  Traceback (most recent call last)",
      "Cell \u001b[1;32mIn[64], line 1\u001b[0m\n\u001b[1;32m----> 1\u001b[0m \u001b[43mmy_dict\u001b[49m\u001b[43m[\u001b[49m\u001b[38;5;124;43m'\u001b[39;49m\u001b[38;5;124;43mMouse\u001b[39;49m\u001b[38;5;124;43m'\u001b[39;49m\u001b[43m]\u001b[49m\n",
      "\u001b[1;31mKeyError\u001b[0m: 'Mouse'"
     ]
    }
   ],
   "source": [
    "my_dict['Mouse']"
   ]
  },
  {
   "cell_type": "code",
   "execution_count": 65,
   "metadata": {},
   "outputs": [
    {
     "data": {
      "text/plain": [
       "'Árbol'"
      ]
     },
     "execution_count": 65,
     "metadata": {},
     "output_type": "execute_result"
    }
   ],
   "source": [
    "my_dict['Tree']"
   ]
  },
  {
   "cell_type": "code",
   "execution_count": 66,
   "metadata": {},
   "outputs": [
    {
     "name": "stdout",
     "output_type": "stream",
     "text": [
      "No está\n"
     ]
    }
   ],
   "source": [
    "if 'Mouse' in my_dict.keys():\n",
    "    print('Está')\n",
    "else:\n",
    "    print('No está')"
   ]
  },
  {
   "cell_type": "code",
   "execution_count": 67,
   "metadata": {},
   "outputs": [
    {
     "data": {
      "text/plain": [
       "'Coche'"
      ]
     },
     "execution_count": 67,
     "metadata": {},
     "output_type": "execute_result"
    }
   ],
   "source": [
    "my_dict.get('Car')"
   ]
  },
  {
   "cell_type": "markdown",
   "metadata": {},
   "source": [
    "Borrando un diccionario completo"
   ]
  },
  {
   "cell_type": "code",
   "execution_count": 68,
   "metadata": {},
   "outputs": [],
   "source": [
    "my_dict.clear()"
   ]
  },
  {
   "cell_type": "markdown",
   "metadata": {},
   "source": [
    "Borrando un elemento en un campo clave específico"
   ]
  },
  {
   "cell_type": "code",
   "execution_count": 69,
   "metadata": {},
   "outputs": [],
   "source": [
    "my_dict = {\n",
    "    'Hello' : 'Hola',\n",
    "    'Bye' : 'Adios',\n",
    "    'Car' : 'Coche',\n",
    "    'Tree' : 'Árbol'\n",
    "}"
   ]
  },
  {
   "cell_type": "code",
   "execution_count": 70,
   "metadata": {},
   "outputs": [
    {
     "data": {
      "text/plain": [
       "{'Hello': 'Hola', 'Bye': 'Adios', 'Car': 'Coche'}"
      ]
     },
     "execution_count": 70,
     "metadata": {},
     "output_type": "execute_result"
    }
   ],
   "source": [
    "my_dict.pop('Tree')\n",
    "my_dict"
   ]
  },
  {
   "cell_type": "markdown",
   "metadata": {},
   "source": [
    "Borrar último campo insertado"
   ]
  },
  {
   "cell_type": "code",
   "execution_count": 71,
   "metadata": {},
   "outputs": [
    {
     "data": {
      "text/plain": [
       "{'Hello': 'Hola', 'Bye': 'Adios'}"
      ]
     },
     "execution_count": 71,
     "metadata": {},
     "output_type": "execute_result"
    }
   ],
   "source": [
    "my_dict.popitem()\n",
    "my_dict"
   ]
  },
  {
   "cell_type": "markdown",
   "metadata": {},
   "source": [
    "Añadiendo nuevos valores"
   ]
  },
  {
   "cell_type": "code",
   "execution_count": 72,
   "metadata": {},
   "outputs": [],
   "source": [
    "my_dict.update({'Beach' : 'Playa'})"
   ]
  },
  {
   "cell_type": "code",
   "execution_count": 73,
   "metadata": {},
   "outputs": [
    {
     "data": {
      "text/plain": [
       "{'Hello': 'Hola', 'Bye': 'Adios', 'Beach': 'Playa'}"
      ]
     },
     "execution_count": 73,
     "metadata": {},
     "output_type": "execute_result"
    }
   ],
   "source": [
    "my_dict"
   ]
  },
  {
   "cell_type": "markdown",
   "metadata": {},
   "source": [
    "Clase de un diccionario"
   ]
  },
  {
   "cell_type": "code",
   "execution_count": 74,
   "metadata": {},
   "outputs": [
    {
     "data": {
      "text/plain": [
       "dict"
      ]
     },
     "execution_count": 74,
     "metadata": {},
     "output_type": "execute_result"
    }
   ],
   "source": [
    "type(my_dict)"
   ]
  },
  {
   "cell_type": "markdown",
   "metadata": {},
   "source": [
    "### Ejercicio 8.\n",
    "\n",
    "Escribe un programa que solicite un número entero leido por teclado y genere un diccionario de datos en el que los campos clave sean los valores introducios por teclado y, los campos valor el valor al cubo de los mismos.\n",
    "\n",
    "#### Solución."
   ]
  },
  {
   "cell_type": "code",
   "execution_count": null,
   "metadata": {},
   "outputs": [],
   "source": [
    "# Lo primero necesitamos un diccionario vacío\n",
    "dict_numbers = {}"
   ]
  },
  {
   "cell_type": "code",
   "execution_count": null,
   "metadata": {},
   "outputs": [],
   "source": [
    "# Solicitamos un número entero\n",
    "numero = 0\n",
    "\n",
    "# Mientras que no sea mayor que cero, solicitamos el número\n",
    "while numero <= 0:\n",
    "    numero = int(input(\"Introduce un número entero \"))\n",
    "    \n",
    "    # Si el número es menor o igual que cero mostramos mensaje de error\n",
    "    if numero <= 0:\n",
    "        print(\"¡ Error, el número debe ser mayor que cero !\")\n",
    "    else:\n",
    "        pass"
   ]
  },
  {
   "cell_type": "code",
   "execution_count": null,
   "metadata": {},
   "outputs": [],
   "source": [
    "numero"
   ]
  },
  {
   "cell_type": "code",
   "execution_count": null,
   "metadata": {},
   "outputs": [],
   "source": [
    "# Generamos una secuencia de 0 a 3\n",
    "for campo_clave in range(0, numero + 1):\n",
    "    # Con dict_numbers[campo_clave], vamos generando el campo clave de 0..3\n",
    "    dict_numbers[campo_clave] = campo_clave ** 3"
   ]
  },
  {
   "cell_type": "code",
   "execution_count": null,
   "metadata": {},
   "outputs": [],
   "source": [
    "dict_numbers"
   ]
  },
  {
   "cell_type": "code",
   "execution_count": null,
   "metadata": {},
   "outputs": [],
   "source": [
    "dict_numbers.keys()"
   ]
  },
  {
   "cell_type": "code",
   "execution_count": null,
   "metadata": {},
   "outputs": [],
   "source": [
    "dict_numbers.values()"
   ]
  },
  {
   "cell_type": "markdown",
   "metadata": {},
   "source": [
    "### Ejercicio 8\n",
    "\n",
    "Escribe un programa que solicite al usuario una frase, después, genere un diccionario de datos en el que los campos clave sean las palabras y, los campos valor el número de veces que aparece dicha palabra en la frase\n",
    "\n",
    "#### Solución"
   ]
  },
  {
   "cell_type": "code",
   "execution_count": null,
   "metadata": {},
   "outputs": [],
   "source": [
    "# Solicitamos una frase\n",
    "\n",
    "frase = \"\"\n",
    "\n",
    "while frase == \"\":\n",
    "    frase = input(\"Introduce una frase \")\n",
    "    # Borramos espacios por si el usuario se ha equivocado al introducir la frase\n",
    "    frase = frase.strip()\n",
    "    \n",
    "    if frase == \"\":\n",
    "        print(\"¡ Error la frase no puede ser vacía !\")\n",
    "    else:\n",
    "        pass"
   ]
  },
  {
   "cell_type": "code",
   "execution_count": null,
   "metadata": {},
   "outputs": [],
   "source": [
    "frase"
   ]
  },
  {
   "cell_type": "code",
   "execution_count": null,
   "metadata": {},
   "outputs": [],
   "source": [
    "# Recordad, para buscar una sub-string... count\n",
    "frase.count('hola')"
   ]
  },
  {
   "cell_type": "code",
   "execution_count": null,
   "metadata": {},
   "outputs": [],
   "source": [
    "# Dividimos la frase en espacios\n",
    "frase_split = frase.split(\" \")\n",
    "\n",
    "# Generamos un diccionario de datos vacío\n",
    "diccionario_palabras = {}\n",
    "\n",
    "# Recorremos por cada palabra\n",
    "for palabra in frase_split:\n",
    "    # Si la palabra no ha sido añadida previamente como campo clave, se añade\n",
    "    if palabra not in diccionario_palabras.keys():\n",
    "        # Añadimos al diccionario como campo clave la frecuencia de la palabra\n",
    "        diccionario_palabras[palabra] = frase.count(palabra)\n",
    "    else:\n",
    "        pass # Si ya es campo clave no hacemos nada"
   ]
  },
  {
   "cell_type": "code",
   "execution_count": null,
   "metadata": {},
   "outputs": [],
   "source": [
    "diccionario_palabras"
   ]
  },
  {
   "cell_type": "markdown",
   "metadata": {},
   "source": [
    "### Ejercicio 9.\n",
    "\n",
    "Toma el diccionario resultante del ejercicio anterior y, borra cualquier palabra que tenga una frecuencia de 1\n",
    "\n",
    "#### Solución."
   ]
  },
  {
   "cell_type": "code",
   "execution_count": null,
   "metadata": {},
   "outputs": [],
   "source": [
    "# Lo más importante en este ejercicio es saber \n",
    "#  como iterar sobre el diccionario\n",
    "\n",
    "# Vamos a iterar sobre los campos clave.\n",
    "\n",
    "for campo_clave in diccionario_palabras.keys():\n",
    "    print(campo_clave)"
   ]
  },
  {
   "cell_type": "code",
   "execution_count": null,
   "metadata": {},
   "outputs": [],
   "source": [
    "# Ahora, vamos a mostrar cada value asociado a cada key\n",
    "for campo_clave in diccionario_palabras.keys():\n",
    "    print(campo_clave, ' --> ', diccionario_palabras[campo_clave])"
   ]
  },
  {
   "cell_type": "code",
   "execution_count": null,
   "metadata": {},
   "outputs": [],
   "source": [
    "# Por lo tanto, ya sabemos acceder a cada campo clave.\n",
    "# Ahora utilizaremos la función pop para borrar el campo clave\n",
    "for campo_clave in diccionario_palabras.keys():\n",
    "    # Vemos el valor de frecuencia de cada value\n",
    "    if diccionario_palabras[campo_clave] < 2:\n",
    "        # Borramos el registro del diccionario\n",
    "        diccionario_palabras.pop(campo_clave)\n",
    "        "
   ]
  },
  {
   "cell_type": "code",
   "execution_count": null,
   "metadata": {},
   "outputs": [],
   "source": [
    "# No podemos cambiar en tiempo de ejecución el tamaño del diccionario\n",
    "# solución, guardar cada campo a borrar en una lista\n",
    "\n",
    "to_delete = []\n",
    "\n",
    "for campo_clave in diccionario_palabras.keys():\n",
    "    # Vemos el valor de frecuencia de cada value\n",
    "    if diccionario_palabras[campo_clave] < 2:\n",
    "        # Borramos el registro del diccionario\n",
    "        to_delete.append(campo_clave)\n",
    "        "
   ]
  },
  {
   "cell_type": "code",
   "execution_count": null,
   "metadata": {},
   "outputs": [],
   "source": [
    "to_delete"
   ]
  },
  {
   "cell_type": "code",
   "execution_count": null,
   "metadata": {},
   "outputs": [],
   "source": [
    "for item in to_delete:\n",
    "    diccionario_palabras.pop(item)"
   ]
  },
  {
   "cell_type": "code",
   "execution_count": null,
   "metadata": {},
   "outputs": [],
   "source": [
    "diccionario_palabras"
   ]
  },
  {
   "cell_type": "markdown",
   "metadata": {},
   "source": [
    "# Consideraciones para iterar sobre estructuras de datos\n",
    "\n",
    "Tanto en una cadena, como una tupla, como una lista podemos iterar directamente sobre sus elementos (en columnas de un dataframe y arrays de Numpy también, pero los veremos más adelante)"
   ]
  },
  {
   "cell_type": "code",
   "execution_count": null,
   "metadata": {},
   "outputs": [],
   "source": [
    "cadena = 'hola mundo'\n",
    "\n",
    "for letra in cadena:\n",
    "    print(letra)"
   ]
  },
  {
   "cell_type": "code",
   "execution_count": null,
   "metadata": {},
   "outputs": [],
   "source": [
    "lista_nums = [1, 100, 1000, 2, 200, 2000]\n",
    "\n",
    "for num in lista_nums:\n",
    "    print(num)"
   ]
  },
  {
   "cell_type": "code",
   "execution_count": null,
   "metadata": {},
   "outputs": [],
   "source": [
    "mi_tupla = (1, 100, 1000, 2, 200, 2000)\n",
    "\n",
    "for num in mi_tupla:\n",
    "    print(num)"
   ]
  },
  {
   "cell_type": "markdown",
   "metadata": {},
   "source": [
    "Lo mismo ocurre cuando indexamos con range()"
   ]
  },
  {
   "cell_type": "code",
   "execution_count": null,
   "metadata": {},
   "outputs": [],
   "source": [
    "for letra in range(len(cadena)):\n",
    "    print(letra, ' ', cadena[letra])"
   ]
  },
  {
   "cell_type": "code",
   "execution_count": null,
   "metadata": {},
   "outputs": [],
   "source": [
    "for num in range(len(lista_nums)):\n",
    "    print(lista_nums[num])"
   ]
  },
  {
   "cell_type": "code",
   "execution_count": null,
   "metadata": {},
   "outputs": [],
   "source": [
    "for num in range(len(mi_tupla)):\n",
    "    print(mi_tupla[num])"
   ]
  },
  {
   "cell_type": "markdown",
   "metadata": {},
   "source": [
    "Podemos limitar también la posición desde la que queremos comenzar a iterar, por ejemplo de 2 a la longitud"
   ]
  },
  {
   "cell_type": "code",
   "execution_count": null,
   "metadata": {},
   "outputs": [],
   "source": [
    "for num in range(2, len(lista_nums)):\n",
    "    print(lista_nums[num])"
   ]
  },
  {
   "cell_type": "markdown",
   "metadata": {},
   "source": [
    "El caso más especial para iterar son los diccionarios de datos, ya que disponenen de llaves (keys) y, valores (values)"
   ]
  },
  {
   "cell_type": "code",
   "execution_count": null,
   "metadata": {},
   "outputs": [],
   "source": [
    "my_dict = {\n",
    "    'DNI':        '00000001A',\n",
    "    'Nombre':     'Homer Jay',\n",
    "    'Apellidos':  'Simpson',\n",
    "    'Direccion':  '742 Evergreen Terrace',\n",
    "    'Trabajo':    'Central Nuclear, sector 7G',\n",
    "    'Sueldo':     55000   \n",
    "}"
   ]
  },
  {
   "cell_type": "code",
   "execution_count": null,
   "metadata": {},
   "outputs": [],
   "source": [
    "# Keys\n",
    "for campo_clave in my_dict.keys():\n",
    "    print(campo_clave)"
   ]
  },
  {
   "cell_type": "code",
   "execution_count": null,
   "metadata": {},
   "outputs": [],
   "source": [
    "# Valores\n",
    "for campo_valor in my_dict.values():\n",
    "    print(campo_valor)"
   ]
  },
  {
   "cell_type": "code",
   "execution_count": null,
   "metadata": {},
   "outputs": [],
   "source": [
    "# Mostrar un campo valor a través de su clave\n",
    "for campo_clave in my_dict.keys():\n",
    "    print(my_dict[campo_clave])"
   ]
  },
  {
   "cell_type": "code",
   "execution_count": null,
   "metadata": {},
   "outputs": [],
   "source": [
    "# Iterar en keys, values\n",
    "for campo_clave, campo_valor in my_dict.items():\n",
    "    print('KEY --> ', campo_clave, ' VALOR --> ', campo_valor)"
   ]
  },
  {
   "cell_type": "code",
   "execution_count": null,
   "metadata": {},
   "outputs": [],
   "source": [
    "# Por ejemplo, vamos a actualizar el campo 'Sueldo'\n",
    "if 'Sueldo' in my_dict.keys():\n",
    "    my_dict['Sueldo'] = 100000"
   ]
  },
  {
   "cell_type": "code",
   "execution_count": null,
   "metadata": {},
   "outputs": [],
   "source": [
    "my_dict"
   ]
  },
  {
   "cell_type": "code",
   "execution_count": null,
   "metadata": {},
   "outputs": [],
   "source": [
    "# Añadimos un campo más, número de hijos\n",
    "my_dict.update({'N hijos': 2})"
   ]
  },
  {
   "cell_type": "code",
   "execution_count": null,
   "metadata": {},
   "outputs": [],
   "source": [
    "my_dict"
   ]
  }
 ],
 "metadata": {
  "kernelspec": {
   "display_name": "Python 3 (ipykernel)",
   "language": "python",
   "name": "python3"
  },
  "language_info": {
   "codemirror_mode": {
    "name": "ipython",
    "version": 3
   },
   "file_extension": ".py",
   "mimetype": "text/x-python",
   "name": "python",
   "nbconvert_exporter": "python",
   "pygments_lexer": "ipython3",
   "version": "3.10.9"
  }
 },
 "nbformat": 4,
 "nbformat_minor": 2
}
