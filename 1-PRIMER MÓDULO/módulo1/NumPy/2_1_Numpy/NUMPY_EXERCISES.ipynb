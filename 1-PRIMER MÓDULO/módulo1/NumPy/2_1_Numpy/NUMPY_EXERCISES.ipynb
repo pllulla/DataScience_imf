{
 "cells": [
  {
   "cell_type": "markdown",
   "metadata": {},
   "source": [
    "# Exercise 1\n",
    "\n",
    "We work for a store that has give to us the following table with the sales of different products\n",
    " \n",
    "| Day | Bananas (quantity) | Apples (quantity) | Oranges (quantity) | Total amount |\n",
    "| --- |  --- | --- | --- | --- |\n",
    "| Monday | 5 | 32 | 16 | ? | \n",
    "| Tuesday | 8 | 25 | 14 | ? | \n",
    "| Wednesday | 12 | 15 | 15 | ? | \n",
    "| Thursday | 6 | 36 | 20 | ? | \n",
    "| Friday | 9 | 45 | 21 | ? | \n",
    "| Saturday | 4 | 22 | 25 | ? | \n",
    "| Sunday | 7 | 17 | 10 | ? | \n",
    "\n",
    " \n",
    "We don’t have the benefits of the store but, they give to us another table that shows the unit price for each vegetable.\n",
    "\n",
    "| Fruit      |  unit price | \n",
    "| :---       |    :----:   | \n",
    "| Banana | 5 |\n",
    "| Apple  | 2 |\n",
    "| Orange | 3 |\n",
    " \n",
    "With this, two tables try to obtain the following insights about the data:\n",
    " Get the total amount of the store multiplying each element with their own price.\n",
    "Get the total of benefits\n",
    "Get the total by each vegetable.\n",
    "Get the mean of units sold by vegetable.\n",
    "Get the mean of units sold by day.\n"
   ]
  },
  {
   "cell_type": "code",
   "execution_count": 1,
   "metadata": {},
   "outputs": [],
   "source": [
    "import numpy as np"
   ]
  },
  {
   "cell_type": "code",
   "execution_count": 2,
   "metadata": {},
   "outputs": [],
   "source": [
    "bananas = np.array([5, 8, 12, 6, 9, 4, 7])"
   ]
  },
  {
   "cell_type": "code",
   "execution_count": 3,
   "metadata": {},
   "outputs": [],
   "source": [
    "apples = np.array([32, 25, 15, 36, 45, 22, 17])"
   ]
  },
  {
   "cell_type": "code",
   "execution_count": 4,
   "metadata": {},
   "outputs": [],
   "source": [
    "oranges = np.array([16, 14, 15, 20, 21, 25, 10])"
   ]
  },
  {
   "cell_type": "code",
   "execution_count": 5,
   "metadata": {},
   "outputs": [
    {
     "data": {
      "text/plain": [
       "array([[ 5, 32, 16],\n",
       "       [ 8, 25, 14],\n",
       "       [12, 15, 15],\n",
       "       [ 6, 36, 20],\n",
       "       [ 9, 45, 21],\n",
       "       [ 4, 22, 25],\n",
       "       [ 7, 17, 10]])"
      ]
     },
     "execution_count": 5,
     "metadata": {},
     "output_type": "execute_result"
    }
   ],
   "source": [
    "# First create the table with all the quantities\n",
    "products_sold = np.concatenate([bananas, apples, oranges], 0).reshape(3, 7).T\n",
    "products_sold"
   ]
  },
  {
   "cell_type": "code",
   "execution_count": 6,
   "metadata": {},
   "outputs": [
    {
     "data": {
      "text/plain": [
       "array([5, 3, 2])"
      ]
     },
     "execution_count": 6,
     "metadata": {},
     "output_type": "execute_result"
    }
   ],
   "source": [
    "# Create the table prices\n",
    "prices = np.array([5, 3, 2])\n",
    "prices"
   ]
  },
  {
   "cell_type": "code",
   "execution_count": 7,
   "metadata": {},
   "outputs": [],
   "source": [
    "total_amount = prices.dot(products_sold.T)"
   ]
  },
  {
   "cell_type": "code",
   "execution_count": 8,
   "metadata": {},
   "outputs": [
    {
     "data": {
      "text/plain": [
       "array([153, 143, 135, 178, 222, 136, 106])"
      ]
     },
     "execution_count": 8,
     "metadata": {},
     "output_type": "execute_result"
    }
   ],
   "source": [
    "# Total amount by day\n",
    "total_amount"
   ]
  },
  {
   "cell_type": "code",
   "execution_count": 9,
   "metadata": {},
   "outputs": [],
   "source": [
    "# We can check that (5*5 + 32*2 + 16*2) = 153"
   ]
  },
  {
   "cell_type": "markdown",
   "metadata": {},
   "source": [
    "Total of benefits"
   ]
  },
  {
   "cell_type": "code",
   "execution_count": 10,
   "metadata": {},
   "outputs": [
    {
     "data": {
      "text/plain": [
       "1073"
      ]
     },
     "execution_count": 10,
     "metadata": {},
     "output_type": "execute_result"
    }
   ],
   "source": [
    "total_amount.sum()"
   ]
  },
  {
   "cell_type": "markdown",
   "metadata": {},
   "source": [
    "Now, we are going to get the total amount by product"
   ]
  },
  {
   "cell_type": "code",
   "execution_count": 11,
   "metadata": {},
   "outputs": [
    {
     "data": {
      "text/plain": [
       "array([[5],\n",
       "       [3],\n",
       "       [2]])"
      ]
     },
     "execution_count": 11,
     "metadata": {},
     "output_type": "execute_result"
    }
   ],
   "source": [
    "np.array(np.split(prices, 3))"
   ]
  },
  {
   "cell_type": "code",
   "execution_count": 12,
   "metadata": {},
   "outputs": [],
   "source": [
    "total_beneficts_day = np.array(np.split(prices, 3))*(products_sold.T)"
   ]
  },
  {
   "cell_type": "code",
   "execution_count": 13,
   "metadata": {},
   "outputs": [
    {
     "data": {
      "text/plain": [
       "array([255, 576, 242])"
      ]
     },
     "execution_count": 13,
     "metadata": {},
     "output_type": "execute_result"
    }
   ],
   "source": [
    "total_beneficts_day.sum(axis=1)"
   ]
  },
  {
   "cell_type": "markdown",
   "metadata": {},
   "source": [
    "Get the mean of units sold by vegetable."
   ]
  },
  {
   "cell_type": "code",
   "execution_count": 14,
   "metadata": {},
   "outputs": [
    {
     "data": {
      "text/plain": [
       "array([ 7.28571429, 27.42857143, 17.28571429])"
      ]
     },
     "execution_count": 14,
     "metadata": {},
     "output_type": "execute_result"
    }
   ],
   "source": [
    "products_sold.mean(0)"
   ]
  },
  {
   "cell_type": "code",
   "execution_count": 15,
   "metadata": {},
   "outputs": [
    {
     "name": "stdout",
     "output_type": "stream",
     "text": [
      "Mean of units sold of Bananas  7.29\n"
     ]
    }
   ],
   "source": [
    "print(\"Mean of units sold of Bananas \", round(products_sold.mean(0)[0], 2))"
   ]
  },
  {
   "cell_type": "markdown",
   "metadata": {},
   "source": [
    "Get the mean of units sold by day."
   ]
  },
  {
   "cell_type": "code",
   "execution_count": 16,
   "metadata": {},
   "outputs": [
    {
     "data": {
      "text/plain": [
       "array([17.66666667, 15.66666667, 14.        , 20.66666667, 25.        ,\n",
       "       17.        , 11.33333333])"
      ]
     },
     "execution_count": 16,
     "metadata": {},
     "output_type": "execute_result"
    }
   ],
   "source": [
    "products_sold.mean(1)"
   ]
  },
  {
   "cell_type": "code",
   "execution_count": 17,
   "metadata": {},
   "outputs": [
    {
     "name": "stdout",
     "output_type": "stream",
     "text": [
      "Mean of units sold in Monday  17.67\n"
     ]
    }
   ],
   "source": [
    "print(\"Mean of units sold in Monday \", round(products_sold.mean(1)[0], 2))"
   ]
  },
  {
   "cell_type": "code",
   "execution_count": null,
   "metadata": {},
   "outputs": [],
   "source": []
  },
  {
   "cell_type": "markdown",
   "metadata": {},
   "source": [
    "# Exercise 2\n",
    "\n",
    "Generate an array of 4 rows with the following restrictions:\n",
    "* The first row must contains the numbers 6, 55, 12, 32, 20, 15\n",
    "* The elements of the second row must be the first row *2\n",
    "* The elements of the third row must be the second row -5\n",
    "* The elements of the fourth row must be the square of the third row\n",
    "\n",
    "After generate the array, filter it by only pair values\n"
   ]
  },
  {
   "cell_type": "code",
   "execution_count": 18,
   "metadata": {},
   "outputs": [
    {
     "data": {
      "text/plain": [
       "array([[    6,    55,    12,    32,    20,    15],\n",
       "       [   12,   110,    24,    64,    40,    30],\n",
       "       [    7,   105,    19,    59,    35,    25],\n",
       "       [   49, 11025,   361,  3481,  1225,   625]])"
      ]
     },
     "execution_count": 18,
     "metadata": {},
     "output_type": "execute_result"
    }
   ],
   "source": [
    "first_row = np.array([6, 55, 12, 32, 20, 15])\n",
    "second_row = np.array(first_row) *2\n",
    "third_row = np.array(second_row) -5 \n",
    "fourth_row = np.array(third_row)**2\n",
    "\n",
    "matrix = np.array([\n",
    "    first_row,\n",
    "    second_row,\n",
    "    third_row,\n",
    "    fourth_row\n",
    "])\n",
    "\n",
    "matrix"
   ]
  },
  {
   "cell_type": "code",
   "execution_count": 19,
   "metadata": {},
   "outputs": [
    {
     "data": {
      "text/plain": [
       "array([   55,    15,     7,   105,    19,    59,    35,    25,    49,\n",
       "       11025,   361,  3481,  1225,   625])"
      ]
     },
     "execution_count": 19,
     "metadata": {},
     "output_type": "execute_result"
    }
   ],
   "source": [
    "# odd\n",
    "matrix[(matrix % 2 != 0)]"
   ]
  },
  {
   "cell_type": "code",
   "execution_count": 20,
   "metadata": {},
   "outputs": [
    {
     "data": {
      "text/plain": [
       "array([  6,  12,  32,  20,  12, 110,  24,  64,  40,  30])"
      ]
     },
     "execution_count": 20,
     "metadata": {},
     "output_type": "execute_result"
    }
   ],
   "source": [
    "# pairs\n",
    "matrix[(matrix % 2 != 1)]"
   ]
  },
  {
   "cell_type": "code",
   "execution_count": null,
   "metadata": {},
   "outputs": [],
   "source": []
  },
  {
   "cell_type": "markdown",
   "metadata": {},
   "source": [
    "# Exercise 3\n",
    "\n",
    "Solve the following system of linear equations\n",
    "* x + (-7y) -z = 5\n",
    "* 2x +y +6z = 12\n",
    "* -x +2y -z = 6\n",
    "\n",
    "Linear matrix equation are solved by the function linalg, find the correct function to solve the problem https://numpy.org/doc/stable/reference/routines.linalg.html"
   ]
  },
  {
   "cell_type": "code",
   "execution_count": 21,
   "metadata": {},
   "outputs": [],
   "source": [
    "a = np.array([\n",
    "    [1, -7, -1],\n",
    "    [2, +1, +6],\n",
    "    [-1, +2, -1]\n",
    "])\n",
    "\n",
    "# Independent term\n",
    "b = np.array([5, 12, 6])"
   ]
  },
  {
   "cell_type": "code",
   "execution_count": 22,
   "metadata": {},
   "outputs": [
    {
     "name": "stdout",
     "output_type": "stream",
     "text": [
      "X, Y, Z values  [-41.9  -9.2  17.5]\n"
     ]
    }
   ],
   "source": [
    "print(\"X, Y, Z values \",np.linalg.solve(a, b))"
   ]
  },
  {
   "cell_type": "markdown",
   "metadata": {},
   "source": [
    "# Exercise 4\n",
    "\n",
    "* Create a 1-dimensional NumPy array using np.array(), check the number of dimensions with ndim\n",
    "* Create a 2-dimensional NumPy array using np.array(), check the number of dimensions with ndim\n",
    "* Create a 3-dimensional Numpy array using np.array(), check the number of dimensions with ndim\n",
    "* Create an array of shape (7, 2, 3) of only zeros\n",
    "* Create an array within a range of 0 and 100 with step 3\n",
    "* Explore the random functions and create the following arrays\n",
    "    * Create a random array with numbers between 0 and 10 of size (7, 2)\n",
    "    * Create an array of normally distributed random numbers\n",
    "    * Create an array of 20 numbers of a Beta distribution with parameters 0.2 and 0.5\n",
    "    * Create an array of 100 numbers of a Binomial distribution with parameters 0.5\n",
    "    * Create a matrix of 3x3x3 with np.random.random\n"
   ]
  },
  {
   "cell_type": "code",
   "execution_count": 23,
   "metadata": {},
   "outputs": [],
   "source": [
    "# Create a 1-dimensional NumPy array using np.array()\n",
    "a1 = np.array([1, 2, 3])"
   ]
  },
  {
   "cell_type": "code",
   "execution_count": 24,
   "metadata": {},
   "outputs": [],
   "source": [
    "# Create a 2-dimensional NumPy array using np.array()\n",
    "a2 = np.array([[1, 2, 3],\n",
    "                [4, 5, 6]])"
   ]
  },
  {
   "cell_type": "code",
   "execution_count": 25,
   "metadata": {},
   "outputs": [],
   "source": [
    "# Create a 3-dimensional Numpy array using np.array()\n",
    "a3 = np.array([[[1, 2, 3],\n",
    "                [4, 5, 6],\n",
    "                [7, 8, 9]],\n",
    "                [[10, 11, 12],\n",
    "                 [13, 14, 15],\n",
    "                 [16, 17, 18]]])"
   ]
  },
  {
   "cell_type": "code",
   "execution_count": 26,
   "metadata": {},
   "outputs": [
    {
     "name": "stdout",
     "output_type": "stream",
     "text": [
      "1\n",
      "2\n",
      "3\n"
     ]
    }
   ],
   "source": [
    "print(a1.ndim)\n",
    "print(a2.ndim)\n",
    "print(a3.ndim)"
   ]
  },
  {
   "cell_type": "code",
   "execution_count": 27,
   "metadata": {},
   "outputs": [
    {
     "data": {
      "text/plain": [
       "array([[[0., 0., 0.],\n",
       "        [0., 0., 0.]],\n",
       "\n",
       "       [[0., 0., 0.],\n",
       "        [0., 0., 0.]],\n",
       "\n",
       "       [[0., 0., 0.],\n",
       "        [0., 0., 0.]],\n",
       "\n",
       "       [[0., 0., 0.],\n",
       "        [0., 0., 0.]],\n",
       "\n",
       "       [[0., 0., 0.],\n",
       "        [0., 0., 0.]],\n",
       "\n",
       "       [[0., 0., 0.],\n",
       "        [0., 0., 0.]],\n",
       "\n",
       "       [[0., 0., 0.],\n",
       "        [0., 0., 0.]]])"
      ]
     },
     "execution_count": 27,
     "metadata": {},
     "output_type": "execute_result"
    }
   ],
   "source": [
    "# Create an array of shape (7, 2, 3) of only zeros\n",
    "zeros = np.zeros((7, 2, 3))\n",
    "zeros"
   ]
  },
  {
   "cell_type": "code",
   "execution_count": 28,
   "metadata": {},
   "outputs": [
    {
     "data": {
      "text/plain": [
       "array([ 0,  3,  6,  9, 12, 15, 18, 21, 24, 27, 30, 33, 36, 39, 42, 45, 48,\n",
       "       51, 54, 57, 60, 63, 66, 69, 72, 75, 78, 81, 84, 87, 90, 93, 96, 99])"
      ]
     },
     "execution_count": 28,
     "metadata": {},
     "output_type": "execute_result"
    }
   ],
   "source": [
    "# Create an array within a range of 0 and 100 with step 3\n",
    "range_array = np.arange(0, 100, 3)\n",
    "range_array"
   ]
  },
  {
   "cell_type": "code",
   "execution_count": 29,
   "metadata": {},
   "outputs": [
    {
     "data": {
      "text/plain": [
       "array([[1, 6],\n",
       "       [1, 2],\n",
       "       [8, 9],\n",
       "       [6, 4],\n",
       "       [4, 8],\n",
       "       [8, 8],\n",
       "       [3, 9]])"
      ]
     },
     "execution_count": 29,
     "metadata": {},
     "output_type": "execute_result"
    }
   ],
   "source": [
    "# Create a random array with numbers between 0 and 10 of size (7, 2)\n",
    "random_array = np.random.randint(10, size=(7, 2))\n",
    "random_array"
   ]
  },
  {
   "cell_type": "markdown",
   "metadata": {},
   "source": [
    "* Create an array of normally distributed random numbers"
   ]
  },
  {
   "cell_type": "code",
   "execution_count": 30,
   "metadata": {},
   "outputs": [
    {
     "data": {
      "text/plain": [
       "array([ 1.00518482,  1.7188176 ,  1.16057521, -0.68248057,  0.26352791,\n",
       "        0.49404848,  0.57950401, -2.67505221, -1.26770356, -1.34064672])"
      ]
     },
     "execution_count": 30,
     "metadata": {},
     "output_type": "execute_result"
    }
   ],
   "source": [
    "randn = np.random.randn(10)\n",
    "randn"
   ]
  },
  {
   "cell_type": "markdown",
   "metadata": {},
   "source": [
    "* Create an array of 20 numbers of a Beta distribution with parameters 0.2 and 0.5"
   ]
  },
  {
   "cell_type": "code",
   "execution_count": 31,
   "metadata": {},
   "outputs": [
    {
     "data": {
      "text/plain": [
       "array([4.78233691e-01, 4.32122621e-04, 8.77070018e-01, 1.04405386e-03,\n",
       "       6.41872431e-01, 4.48435951e-03, 9.45919313e-07, 5.52022379e-01,\n",
       "       5.54846623e-01, 2.73146131e-01])"
      ]
     },
     "execution_count": 31,
     "metadata": {},
     "output_type": "execute_result"
    }
   ],
   "source": [
    "beta = np.random.beta(0.2, 0.5, 10)\n",
    "beta"
   ]
  },
  {
   "cell_type": "markdown",
   "metadata": {},
   "source": [
    "* Create an array of 100 numbers of a Binomial distribution with parameters 0.5"
   ]
  },
  {
   "cell_type": "code",
   "execution_count": 32,
   "metadata": {},
   "outputs": [
    {
     "data": {
      "text/plain": [
       "array([5, 4, 6, 6, 6, 5, 4, 4, 1, 6])"
      ]
     },
     "execution_count": 32,
     "metadata": {},
     "output_type": "execute_result"
    }
   ],
   "source": [
    "binomial = np.random.binomial(10, 0.5, 10)\n",
    "binomial"
   ]
  },
  {
   "cell_type": "markdown",
   "metadata": {},
   "source": [
    "* Create a matrix of 3x3x3 with np.random.random"
   ]
  },
  {
   "cell_type": "code",
   "execution_count": 33,
   "metadata": {},
   "outputs": [
    {
     "data": {
      "text/plain": [
       "array([[[0.85219945, 0.43402141, 0.88947546],\n",
       "        [0.36294029, 0.28355433, 0.48875951],\n",
       "        [0.89194731, 0.14493895, 0.88190529]],\n",
       "\n",
       "       [[0.54314788, 0.37728041, 0.81570396],\n",
       "        [0.52658318, 0.06368654, 0.79808997],\n",
       "        [0.42628866, 0.0108255 , 0.91427146]],\n",
       "\n",
       "       [[0.20396471, 0.27212036, 0.98652557],\n",
       "        [0.22434271, 0.36842623, 0.3444986 ],\n",
       "        [0.32950887, 0.23909552, 0.79442917]]])"
      ]
     },
     "execution_count": 33,
     "metadata": {},
     "output_type": "execute_result"
    }
   ],
   "source": [
    "my_array = np.random.random((3, 3, 3))\n",
    "my_array"
   ]
  }
 ],
 "metadata": {
  "kernelspec": {
   "display_name": "Python 3",
   "language": "python",
   "name": "python3"
  },
  "language_info": {
   "codemirror_mode": {
    "name": "ipython",
    "version": 3
   },
   "file_extension": ".py",
   "mimetype": "text/x-python",
   "name": "python",
   "nbconvert_exporter": "python",
   "pygments_lexer": "ipython3",
   "version": "3.7.6"
  }
 },
 "nbformat": 4,
 "nbformat_minor": 4
}
