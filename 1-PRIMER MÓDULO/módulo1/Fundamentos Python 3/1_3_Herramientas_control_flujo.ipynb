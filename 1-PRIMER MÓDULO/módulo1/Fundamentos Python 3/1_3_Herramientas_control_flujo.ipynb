{
 "cells": [
  {
   "cell_type": "markdown",
   "metadata": {},
   "source": [
    "# 1. CONDICIONALES"
   ]
  },
  {
   "cell_type": "markdown",
   "metadata": {},
   "source": [
    "### 1.1 If simple"
   ]
  },
  {
   "cell_type": "code",
   "execution_count": 1,
   "metadata": {},
   "outputs": [
    {
     "name": "stdout",
     "output_type": "stream",
     "text": [
      "El valor  5  positivo\n"
     ]
    }
   ],
   "source": [
    "x = 5\n",
    "\n",
    "if x > 0:\n",
    "    print('El valor ', x, ' positivo')"
   ]
  },
  {
   "cell_type": "code",
   "execution_count": 2,
   "metadata": {},
   "outputs": [
    {
     "name": "stdout",
     "output_type": "stream",
     "text": [
      "El valor  5  positivo\n"
     ]
    }
   ],
   "source": [
    "x = 5\n",
    "\n",
    "if x > 0:\n",
    "    print('El valor ', x, ' positivo')\n",
    "else:\n",
    "    pass"
   ]
  },
  {
   "cell_type": "code",
   "execution_count": 3,
   "metadata": {},
   "outputs": [
    {
     "name": "stdout",
     "output_type": "stream",
     "text": [
      "El valor  5  es impar\n"
     ]
    }
   ],
   "source": [
    "if x % 2 == 0:\n",
    "    print('El valor ', x, ' es par')\n",
    "else:\n",
    "    print('El valor ', x , ' es impar')"
   ]
  },
  {
   "cell_type": "markdown",
   "metadata": {},
   "source": [
    "### Ejercicio 1.\n",
    "\n",
    "Escribe un programa que evalúe si una persona es mayor de 18 años o no\n",
    "\n",
    "#### Solución"
   ]
  },
  {
   "cell_type": "code",
   "execution_count": 7,
   "metadata": {},
   "outputs": [
    {
     "name": "stdout",
     "output_type": "stream",
     "text": [
      "Escribe la edad de una persona: 5\n",
      "Tiene menos de  18  años\n"
     ]
    }
   ],
   "source": [
    "edad_evaluar = 18\n",
    "edad = int(input(\"Escribe la edad de una persona: \"))\n",
    "if ( edad >= edad_evaluar ):\n",
    "    print (\"Tiene más de \",edad_evaluar,' años')\n",
    "else:\n",
    "    print (\"Tiene menos de \",edad_evaluar,' años')"
   ]
  },
  {
   "cell_type": "markdown",
   "metadata": {},
   "source": [
    "### Ejercicio 2.\n",
    "\n",
    "Escribe un programa que calcule el nuevo salario de un trabajador, tomaremos un aumento del sueldo del 10% si el salario es mayor que 1000 euros, si es menor, un 15%\n",
    "\n",
    "#### Solución"
   ]
  },
  {
   "cell_type": "code",
   "execution_count": 9,
   "metadata": {},
   "outputs": [
    {
     "name": "stdout",
     "output_type": "stream",
     "text": [
      "Escribe el sueldo del trabajador: 1400\n",
      "Subida de  140.0\n",
      "El nuevo salarío que recibirá es:  1540.0\n"
     ]
    }
   ],
   "source": [
    "sueldo = int(input(\"Escribe el sueldo del trabajador: \"))\n",
    "if (sueldo <= 1000):\n",
    "    print (\"Subida de \", sueldo*0.15)\n",
    "    print (\"El nuevo salarío que recibirá es: \",(sueldo*0.15)+sueldo)\n",
    "else:\n",
    "    print (\"Subida de \", sueldo*0.10)\n",
    "    print (\"El nuevo salarío que recibirá es: \",(sueldo*0.10)+sueldo)"
   ]
  },
  {
   "cell_type": "markdown",
   "metadata": {},
   "source": [
    "### Ejercicio 3\n",
    "\n",
    "Escribir un programa que teniendo en cuenta una contraseña ya almacenada, solicite al usuario que ingrese una contraseña, en caso de ser iguales, le daremos la bienvenida, en caso contrario mostraremos un mensaje de contraseña incorrecta.\n",
    "\n",
    "NOTA: Es importante que estandaricemos las cadenas de texto a minúsculas.\n",
    "\n",
    "#### Solución"
   ]
  },
  {
   "cell_type": "code",
   "execution_count": 11,
   "metadata": {},
   "outputs": [
    {
     "name": "stdout",
     "output_type": "stream",
     "text": [
      "Introduce la contraseña: mipassword\n",
      "Bienvenido usuario\n"
     ]
    }
   ],
   "source": [
    "key = \"mipassword\"\n",
    "\n",
    "password = input(\"Introduce la contraseña: \")\n",
    "\n",
    "if key == password.lower():\n",
    "    print(\"Bienvenido usuario\")\n",
    "else:\n",
    "    print(\"La contraseña no es correcta\")"
   ]
  },
  {
   "cell_type": "markdown",
   "metadata": {},
   "source": [
    "### Ejercicio 4.\n",
    "\n",
    "Escribe un programa que solicite al usuario dos números, para realizar una división, si el segundo número es cero, indicar un mensaje advirtiendo de que no se puede dividir entre cero, en caso contrario mostrar el resultado de la división.\n",
    "\n",
    "#### Solución"
   ]
  },
  {
   "cell_type": "code",
   "execution_count": 13,
   "metadata": {},
   "outputs": [
    {
     "name": "stdout",
     "output_type": "stream",
     "text": [
      "Introduce un número: 8\n",
      "Introduce un divisior: 4\n",
      "2.0\n"
     ]
    }
   ],
   "source": [
    "num = float(input(\"Introduce un número: \"))\n",
    "divisor = float(input(\"Introduce un divisior: \"))\n",
    "\n",
    "if divisor == 0:\n",
    "    print(\"No se puede dividir entre 0\")\n",
    "else:\n",
    "    print(num/divisor)"
   ]
  },
  {
   "cell_type": "markdown",
   "metadata": {},
   "source": [
    "### 1.2 if encadenados"
   ]
  },
  {
   "cell_type": "code",
   "execution_count": 14,
   "metadata": {},
   "outputs": [
    {
     "name": "stdout",
     "output_type": "stream",
     "text": [
      "El x es menor que y\n"
     ]
    }
   ],
   "source": [
    "x = 5\n",
    "y = 10\n",
    "\n",
    "if x < y:\n",
    "    print('El x es menor que y')\n",
    "elif x > y:\n",
    "    print('El x es mayor que y')\n",
    "else: \n",
    "    print('El x e y son iguales')"
   ]
  },
  {
   "cell_type": "markdown",
   "metadata": {},
   "source": [
    "### Ejercicio 5.\n",
    "\n",
    "La entrada a un parqute temático es de 30€ por persona, no osbtante, existen algunos descuentos especiales como los siguientes:\n",
    "\n",
    "* Niños menores de 3 años, un descuento del 70%\n",
    "* Niños entre 3 y 10 años, un descuento del 50%\n",
    "* Niños mayores de 10 y menores de 12, un descuento del 20%\n",
    "* Para el resto de personas, sin descuento.\n",
    "\n",
    "#### Solución"
   ]
  },
  {
   "cell_type": "code",
   "execution_count": null,
   "metadata": {},
   "outputs": [],
   "source": [
    "costo = 30\n",
    "edad = int(input(\"Escribe la edad del visitante: \"))\n",
    "if (edad < 3):\n",
    "    print (\"El precio de la entrada es: \", costo - (costo*0.70))\n",
    "    \n",
    "elif  (edad >= 3 and edad <= 10) :\n",
    "    print (\"El precio de la entrada es: \", costo - (costo*.50) )\n",
    "    \n",
    "elif (edad >=10 and edad <=12):\n",
    "    print (\"El precio de la entrada es: \", costo - (costo*.20) )\n",
    "    \n",
    "else :\n",
    "    print (\"El precio de la entrada es: \",costo)"
   ]
  },
  {
   "cell_type": "markdown",
   "metadata": {},
   "source": [
    "#### Ejercicio 6\n",
    "\n",
    "tomar como referencia los siguientes tramos impositivos en la campaña de la renta:\n",
    "\n",
    "|         Renta          | Tipo impositivo |\n",
    "| :--------------------: | :-------------: |\n",
    "|    Menos de 10000€     |       5%        |\n",
    "| Entre 10000€ y 20000€  |       15%       |\n",
    "| Entre 20000€ y 35000€ |       20%       |\n",
    "| Entre 35000€ y 60000€ |       30%       |\n",
    "|     Más de 60000€      |       45%       |\n",
    "\n",
    "Escribir un programa que pregunte al usuario su renta anual y muestre por pantalla el tipo impositivo que le corresponde.\n",
    "\n",
    "#### Solución"
   ]
  },
  {
   "cell_type": "code",
   "execution_count": null,
   "metadata": {},
   "outputs": [],
   "source": [
    "renta = float(input(\"¿Cuál es tu renta anual? \"))\n",
    "if renta < 10000:\n",
    "    impuesto = 5\n",
    "elif renta < 20000:\n",
    "    impuesto = 15\n",
    "elif renta < 35000:\n",
    "    impuesto = 20\n",
    "elif renta < 60000:\n",
    "    impuesto = 30\n",
    "else:\n",
    "    impuesto = 45\n",
    "print(\"Tu tipo impositivo es \" + str(impuesto) + \"%\")"
   ]
  },
  {
   "cell_type": "markdown",
   "metadata": {},
   "source": [
    "#### Ejercicio 7\n",
    "\n",
    "Tomar como referencia las siguientes tabla de calificaciones:\n",
    "\n",
    "|         Nota          | Calificación |\n",
    "| :--------------------: | :-------------: |\n",
    "|    0 y 4.99     |       Suspenso        |\n",
    "| 5.00 y 5.99  |       Suficiente      |\n",
    "| 6.00 y 7.99 |       Notable       |\n",
    "| 8.00 y 8.99 |       Notable alto       |\n",
    "|     9 y 9.99      |       Sobresaliente       |\n",
    "| Exactamente 10 | Matrícula de honor |\n",
    "\n",
    "Escribir un programa que pregunte al usuario su nota y devuelva su calificación.\n",
    "\n",
    "#### Solución"
   ]
  },
  {
   "cell_type": "code",
   "execution_count": null,
   "metadata": {},
   "outputs": [],
   "source": [
    "nota = float(input(\"Introduce tu nota \"))\n",
    "\n",
    "if nota < 4.99:\n",
    "    print('Suspenso')\n",
    "elif nota >= 5.00 and nota <= 5.99:\n",
    "    print('Suficiente')\n",
    "    \n",
    "elif nota >=6.00 and nota <=7.99:\n",
    "    print('Notable')\n",
    "    \n",
    "elif nota >=8.00 and nota <=8.99:\n",
    "    print('Notable alto')\n",
    "    \n",
    "elif nota >=9.00 and nota <=9.99:\n",
    "    print('Sobresaliente')\n",
    "    \n",
    "elif nota == 10.00:\n",
    "    print('Matrícula de honor')"
   ]
  },
  {
   "cell_type": "markdown",
   "metadata": {},
   "source": [
    "### 1.3 if anidados"
   ]
  },
  {
   "cell_type": "code",
   "execution_count": null,
   "metadata": {},
   "outputs": [],
   "source": [
    "if x == y:\n",
    "    print('x e y son iguales')\n",
    "else:\n",
    "    if x < y:\n",
    "        print('x es menor que y')\n",
    "    else: # x > y\n",
    "        print('x es mayor que y')"
   ]
  },
  {
   "cell_type": "markdown",
   "metadata": {},
   "source": [
    "### Ejercicio 7 \n",
    "\n",
    "La pizzería Teledomino's ofrece pizzas vegetarianas y no vegetarianas a sus clientes.\n",
    "Los ingredientes para cada tipo de pizza aparecen a continuación.\n",
    "\n",
    "- Ingredientes vegetarianos: Pimiento y tofu.\n",
    "- Ingredientes no vegetarianos: Peperoni, Jamón y Salmón.\n",
    "\n",
    "Escribir un programa que pregunte al usuario si quiere una pizza vegetariana o no, y en función de su respuesta le muestre un menú con los ingredientes disponibles para que elija.\n",
    "Solo se puede eligir un ingrediente además de la mozzarella y el tomate que están en todas la pizzas.\n",
    "Al final se debe mostrar por pantalla si la pizza elegida es vegetariana o no y todos los ingredientes que lleva.\n"
   ]
  },
  {
   "cell_type": "code",
   "execution_count": 4,
   "metadata": {},
   "outputs": [
    {
     "name": "stdout",
     "output_type": "stream",
     "text": [
      "Bienvenido a la pizzeria Teledomino's.\n",
      "Tipos de pizza\n",
      "\t1- Vegetariana\n",
      "\t2- No vegetariana\n",
      "\n",
      "Introduce el número correspondiente al tipo de pizza que quieres:2\n",
      "Ingredientes de pizzas no vegetarianas\n",
      "\t1- Peperoni\n",
      "\t2- Jamón\n",
      "\t3- Salmón\n",
      "\n",
      "Introduce el ingrediente que deseas: 1\n",
      "Pizza no vegetarina con mozarrella, tomate y peperoni\n"
     ]
    }
   ],
   "source": [
    "print(\"Bienvenido a la pizzeria Teledomino's.\\nTipos de pizza\\n\\t1- Vegetariana\\n\\t2- No vegetariana\\n\")\n",
    "\n",
    "tipo = int(input(\"Introduce el número correspondiente al tipo de pizza que quieres:\"))\n",
    "\n",
    "if tipo == 1:\n",
    "    print(\"Ingredientes de pizzas vegetarianas\\n\\t 1- Pimiento\\n\\t2- Tofu\\n\")\n",
    "    ingrediente = input(\"Introduce el ingrediente que deseas: \")\n",
    "    print(\"Pizza vegetariana con mozzarella, tomate y \", end=\"\")\n",
    "    if ingrediente == \"1\":\n",
    "        print(\"pimiento\")\n",
    "    else: \n",
    "        print(\"tofu\")\n",
    "else:\n",
    "    print(\"Ingredientes de pizzas no vegetarianas\\n\\t1- Peperoni\\n\\t2- Jamón\\n\\t3- Salmón\\n\")\n",
    "    ingrediente = input(\"Introduce el ingrediente que deseas: \")\n",
    "    print(\"Pizza no vegetarina con mozarrella, tomate y \", end=\"\")\n",
    "    if ingrediente == \"1\":\n",
    "        print(\"peperoni\")\n",
    "    elif ingrediente == \"2\":\n",
    "        print(\"jamón\")\n",
    "    else:\n",
    "        print(\"salmón\")\n",
    "\n"
   ]
  },
  {
   "cell_type": "markdown",
   "metadata": {},
   "source": [
    "### Ejercicio 8.\n",
    "\n",
    "Al término de unos trabajos de construcción, antes de entregar la factura al cliente, se debe cotejar cuál ha sido el coste final de la obra y en función del mismo aplicar un impuesto especial del 10% o, un descuento del 15. Si el precio de la obra es mayor de 150.000 se aplicará el impuesto y si es menor el descuento."
   ]
  },
  {
   "cell_type": "code",
   "execution_count": 13,
   "metadata": {},
   "outputs": [
    {
     "name": "stdout",
     "output_type": "stream",
     "text": [
      "Introduce el coste final de la obra: 100000\n",
      "Se aplica el descuento del 15%, por lo que el coste total sería de:  85000.0\n"
     ]
    }
   ],
   "source": [
    "coste=float(input(\"Introduce el coste final de la obra: \"))\n",
    "\n",
    "if coste <= 150000:\n",
    "    print(\"Se aplica el descuento del 15%, por lo que el coste total sería de: \", coste-(coste*0.15))\n",
    "else:\n",
    "    print(\"Se aplica el impuesto del 10%, por lo que el coste total sería de: \", coste+(coste*0.10))"
   ]
  },
  {
   "cell_type": "markdown",
   "metadata": {},
   "source": [
    "# 2. BUCLES"
   ]
  },
  {
   "cell_type": "markdown",
   "metadata": {},
   "source": [
    "### 2.1 FOR"
   ]
  },
  {
   "cell_type": "code",
   "execution_count": 14,
   "metadata": {},
   "outputs": [
    {
     "name": "stdout",
     "output_type": "stream",
     "text": [
      "E\n",
      "s\n",
      "t\n",
      "o\n",
      " \n",
      "e\n",
      "s\n",
      " \n",
      "u\n",
      "n\n",
      "a\n",
      " \n",
      "f\n",
      "r\n",
      "a\n",
      "s\n",
      "e\n"
     ]
    }
   ],
   "source": [
    "cadena = 'Esto es una frase'\n",
    "\n",
    "for palabra in cadena:\n",
    "    print(palabra)"
   ]
  },
  {
   "cell_type": "code",
   "execution_count": 15,
   "metadata": {},
   "outputs": [
    {
     "name": "stdout",
     "output_type": "stream",
     "text": [
      "0\n",
      "1\n",
      "2\n",
      "3\n",
      "4\n"
     ]
    }
   ],
   "source": [
    "secuencia = range(5)\n",
    "\n",
    "for sec in secuencia:\n",
    "    print(sec)"
   ]
  },
  {
   "cell_type": "code",
   "execution_count": 16,
   "metadata": {},
   "outputs": [
    {
     "name": "stdout",
     "output_type": "stream",
     "text": [
      "Recorre de 0 a 9\n",
      "0\n",
      "1\n",
      "2\n",
      "3\n",
      "4\n",
      "5\n",
      "6\n",
      "7\n",
      "8\n",
      "9\n"
     ]
    }
   ],
   "source": [
    "print(\"Recorre de 0 a 9\")\n",
    "for num in range(10): \n",
    "    print(num)"
   ]
  },
  {
   "cell_type": "code",
   "execution_count": 17,
   "metadata": {},
   "outputs": [
    {
     "name": "stdout",
     "output_type": "stream",
     "text": [
      "Recorre de 5 a 9\n",
      "5\n",
      "6\n",
      "7\n",
      "8\n",
      "9\n"
     ]
    }
   ],
   "source": [
    "print(\"Recorre de 5 a 9\")\n",
    "for num in range(5,10): \n",
    "    print(num)"
   ]
  },
  {
   "cell_type": "code",
   "execution_count": 18,
   "metadata": {},
   "outputs": [
    {
     "name": "stdout",
     "output_type": "stream",
     "text": [
      "De 10 a 45 de 5 en 5\n",
      "10\n",
      "15\n",
      "20\n",
      "25\n",
      "30\n",
      "35\n",
      "40\n",
      "45\n"
     ]
    }
   ],
   "source": [
    "print(\"De 10 a 45 de 5 en 5\")\n",
    "for num in range(10,50,5): \n",
    "    print(num) "
   ]
  },
  {
   "cell_type": "code",
   "execution_count": 19,
   "metadata": {},
   "outputs": [
    {
     "name": "stdout",
     "output_type": "stream",
     "text": [
      "De 0 a -4 de -1 en -1\n",
      "0\n",
      "-1\n",
      "-2\n",
      "-3\n",
      "-4\n"
     ]
    }
   ],
   "source": [
    "print(\"De 0 a -4 de -1 en -1\")\n",
    "for num in range(0,-5,-1): \n",
    "    print(num)  "
   ]
  },
  {
   "cell_type": "markdown",
   "metadata": {},
   "source": [
    "### Ejercicio 9.\n",
    "\n",
    "Mediante una secuencia de números del 0 al 10, si el número es par, se devuelve su valor al cuadrado, si es impar, se devuelve su valor entre dos.\n",
    "\n",
    "#### Solución"
   ]
  },
  {
   "cell_type": "code",
   "execution_count": 20,
   "metadata": {},
   "outputs": [
    {
     "name": "stdout",
     "output_type": "stream",
     "text": [
      "El item  0  es par, exponencial de dos  0 \n",
      "\n",
      "El item  1  es impar, división entre dos  0.5 \n",
      "\n",
      "El item  2  es par, exponencial de dos  4 \n",
      "\n",
      "El item  3  es impar, división entre dos  1.5 \n",
      "\n",
      "El item  4  es par, exponencial de dos  16 \n",
      "\n",
      "El item  5  es impar, división entre dos  2.5 \n",
      "\n",
      "El item  6  es par, exponencial de dos  36 \n",
      "\n",
      "El item  7  es impar, división entre dos  3.5 \n",
      "\n",
      "El item  8  es par, exponencial de dos  64 \n",
      "\n",
      "El item  9  es impar, división entre dos  4.5 \n",
      "\n",
      "El item  10  es par, exponencial de dos  100 \n",
      "\n"
     ]
    }
   ],
   "source": [
    "for item in range(11): # 10 + 1\n",
    "    if item % 2 == 0:\n",
    "        print('El item ', item, ' es par, exponencial de dos ', item ** 2, '\\n')\n",
    "    else:\n",
    "        print('El item ', item, ' es impar, división entre dos ', item / 2, '\\n')"
   ]
  },
  {
   "cell_type": "markdown",
   "metadata": {},
   "source": [
    "#### Ejercicio 10.\n",
    "\n",
    "Escribe un programa que muestre la tabla de multiplicar del 1 al 9.\n",
    "\n",
    "#### Solución."
   ]
  },
  {
   "cell_type": "code",
   "execution_count": 21,
   "metadata": {},
   "outputs": [
    {
     "name": "stdout",
     "output_type": "stream",
     "text": [
      "1  *  0  =  0\n",
      "1  *  1  =  1\n",
      "1  *  2  =  2\n",
      "1  *  3  =  3\n",
      "1  *  4  =  4\n",
      "1  *  5  =  5\n",
      "1  *  6  =  6\n",
      "1  *  7  =  7\n",
      "1  *  8  =  8\n",
      "1  *  9  =  9\n",
      "\n",
      "\n",
      "2  *  0  =  0\n",
      "2  *  1  =  2\n",
      "2  *  2  =  4\n",
      "2  *  3  =  6\n",
      "2  *  4  =  8\n",
      "2  *  5  =  10\n",
      "2  *  6  =  12\n",
      "2  *  7  =  14\n",
      "2  *  8  =  16\n",
      "2  *  9  =  18\n",
      "\n",
      "\n",
      "3  *  0  =  0\n",
      "3  *  1  =  3\n",
      "3  *  2  =  6\n",
      "3  *  3  =  9\n",
      "3  *  4  =  12\n",
      "3  *  5  =  15\n",
      "3  *  6  =  18\n",
      "3  *  7  =  21\n",
      "3  *  8  =  24\n",
      "3  *  9  =  27\n",
      "\n",
      "\n",
      "4  *  0  =  0\n",
      "4  *  1  =  4\n",
      "4  *  2  =  8\n",
      "4  *  3  =  12\n",
      "4  *  4  =  16\n",
      "4  *  5  =  20\n",
      "4  *  6  =  24\n",
      "4  *  7  =  28\n",
      "4  *  8  =  32\n",
      "4  *  9  =  36\n",
      "\n",
      "\n",
      "5  *  0  =  0\n",
      "5  *  1  =  5\n",
      "5  *  2  =  10\n",
      "5  *  3  =  15\n",
      "5  *  4  =  20\n",
      "5  *  5  =  25\n",
      "5  *  6  =  30\n",
      "5  *  7  =  35\n",
      "5  *  8  =  40\n",
      "5  *  9  =  45\n",
      "\n",
      "\n",
      "6  *  0  =  0\n",
      "6  *  1  =  6\n",
      "6  *  2  =  12\n",
      "6  *  3  =  18\n",
      "6  *  4  =  24\n",
      "6  *  5  =  30\n",
      "6  *  6  =  36\n",
      "6  *  7  =  42\n",
      "6  *  8  =  48\n",
      "6  *  9  =  54\n",
      "\n",
      "\n",
      "7  *  0  =  0\n",
      "7  *  1  =  7\n",
      "7  *  2  =  14\n",
      "7  *  3  =  21\n",
      "7  *  4  =  28\n",
      "7  *  5  =  35\n",
      "7  *  6  =  42\n",
      "7  *  7  =  49\n",
      "7  *  8  =  56\n",
      "7  *  9  =  63\n",
      "\n",
      "\n",
      "8  *  0  =  0\n",
      "8  *  1  =  8\n",
      "8  *  2  =  16\n",
      "8  *  3  =  24\n",
      "8  *  4  =  32\n",
      "8  *  5  =  40\n",
      "8  *  6  =  48\n",
      "8  *  7  =  56\n",
      "8  *  8  =  64\n",
      "8  *  9  =  72\n",
      "\n",
      "\n",
      "9  *  0  =  0\n",
      "9  *  1  =  9\n",
      "9  *  2  =  18\n",
      "9  *  3  =  27\n",
      "9  *  4  =  36\n",
      "9  *  5  =  45\n",
      "9  *  6  =  54\n",
      "9  *  7  =  63\n",
      "9  *  8  =  72\n",
      "9  *  9  =  81\n",
      "\n",
      "\n"
     ]
    }
   ],
   "source": [
    "for item in range(10):\n",
    "    if item == 0:\n",
    "        pass\n",
    "    else:\n",
    "        for multiplicador in range(10):\n",
    "            print(item, ' * ', multiplicador, ' = ', item * multiplicador)\n",
    "\n",
    "        print('\\n')"
   ]
  },
  {
   "cell_type": "markdown",
   "metadata": {},
   "source": [
    "### Ejercicio 11.\n",
    "\n",
    "Escribe un programa que solicite dos número enteros y, escriba la suma de todos los números enteros entre amgos números.\n",
    "\n",
    "#### Solución"
   ]
  },
  {
   "cell_type": "code",
   "execution_count": 1,
   "metadata": {},
   "outputs": [
    {
     "name": "stdout",
     "output_type": "stream",
     "text": [
      "Escribe un número entero positivo: 4\n",
      "Escribe un número entero positivo mayor que el primero 6\n",
      "4  \n",
      "5  \n",
      "6  \n",
      "La suma es:  15\n"
     ]
    }
   ],
   "source": [
    "numero1 = int(input(\"Escribe un número entero positivo: \"))\n",
    "if numero1 < 0 :\n",
    "    print(\"¡Debías escribir un número entero positivo!\")\n",
    "else:\n",
    "    numero2 = int( input(\"Escribe un número entero positivo mayor que el primero \") )\n",
    "    if numero2 < 0 or numero1 >= numero2 :\n",
    "        print(\"Debias escribir un número entero positivo mayor que \", numero1)\n",
    "    else:\n",
    "        suma = 0\n",
    "        for i in range(numero1, numero2 + 1):\n",
    "            suma += i\n",
    "            print ( i,\" \" )\n",
    "        print ( \"La suma es: \", suma )\n",
    "        "
   ]
  },
  {
   "cell_type": "markdown",
   "metadata": {},
   "source": [
    "### Ejercicio 12.\n",
    "\n",
    "Escribe un programa que solicite un número entero mayor que cero y cualcule su factorial.\n",
    "\n",
    "NOTA: La función factorial se representa con un signo de exclamación “!” detrás de un número. Esta exclamación quiere decir que hay que multiplicar todos los números enteros positivos que hay entre ese número y el 1.\n",
    "\n",
    "6! = 1\\*2\\*3\\*4\\*5\\*6 = 720\n",
    "\n",
    "#### Solución"
   ]
  },
  {
   "cell_type": "code",
   "execution_count": 4,
   "metadata": {},
   "outputs": [
    {
     "name": "stdout",
     "output_type": "stream",
     "text": [
      "Escribe un número entero positivo: 5\n",
      "\tValor del factorial 1 proximo valor factorial 2\n",
      "\tValor del factorial 2 proximo valor factorial 3\n",
      "\tValor del factorial 6 proximo valor factorial 7\n",
      "\tValor del factorial 24 proximo valor factorial 25\n",
      "\tValor del factorial 120 proximo valor factorial 121\n",
      "El factorial de 5 es 120\n"
     ]
    }
   ],
   "source": [
    "numero = int(input(\"Escribe un número entero positivo: \"))\n",
    "if numero <= 0 :\n",
    "    print(\"¡Debías escribir un número entero positivo!\")\n",
    "else:\n",
    "    factorial = 1\n",
    "    for i in range(1, numero + 1):\n",
    "        factorial = factorial * i\n",
    "        print(\"\\tValor del factorial {} proximo valor factorial {}\".format(factorial, factorial + 1))\n",
    "    print(\"El factorial de {} es {}\".format(numero, factorial))"
   ]
  },
  {
   "cell_type": "markdown",
   "metadata": {},
   "source": [
    "### 2.2 WHILE"
   ]
  },
  {
   "cell_type": "code",
   "execution_count": 24,
   "metadata": {},
   "outputs": [
    {
     "name": "stdout",
     "output_type": "stream",
     "text": [
      "ERROR !\n",
      "ERROR !\n",
      "ERROR !\n",
      "ERROR !\n",
      "ERROR !\n",
      "ERROR !\n",
      "ERROR !\n",
      "ERROR !\n",
      "ERROR !\n",
      "La variable a ya tiene un valor de  10\n"
     ]
    }
   ],
   "source": [
    "a = 1\n",
    "\n",
    "while a != 10:\n",
    "    print('ERROR !')\n",
    "    a += 1\n",
    "else:\n",
    "    print('La variable a ya tiene un valor de ', a)"
   ]
  },
  {
   "cell_type": "markdown",
   "metadata": {},
   "source": [
    "#### Ejercicio 13.\n",
    "\n",
    "Solicita al usuario una palabra hasta que la palabra introducida sea 'fin'\n",
    "\n",
    "#### Solución"
   ]
  },
  {
   "cell_type": "code",
   "execution_count": 25,
   "metadata": {},
   "outputs": [
    {
     "name": "stdout",
     "output_type": "stream",
     "text": [
      "Introduce una palabra r\n",
      "La palabra introducida  r  no es fin\n",
      "Introduce una nueva palabra yy\n",
      "La palabra introducida  yy  no es fin\n",
      "Introduce una nueva palabra fin\n",
      "fin\n"
     ]
    }
   ],
   "source": [
    "cad = input('Introduce una palabra ')\n",
    "\n",
    "while not cad == 'fin': # Equivalente a while cad != 'fin'\n",
    "    print('La palabra introducida ', cad, ' no es fin')\n",
    "    cad = input('Introduce una nueva palabra ')\n",
    "else:\n",
    "    print(cad)"
   ]
  },
  {
   "cell_type": "markdown",
   "metadata": {},
   "source": [
    "### Ejercicio 14.\n",
    "\n",
    "Programa que lee del teclado un número entero, comprueba si el número es mayor que 10. Si no lo es, volver a leer el número  hasta que el usuario escriba un valor correcto.\n",
    "\n",
    "#### Solución"
   ]
  },
  {
   "cell_type": "code",
   "execution_count": 26,
   "metadata": {},
   "outputs": [
    {
     "name": "stdout",
     "output_type": "stream",
     "text": [
      "Escribe un número mayor a 10: 9\n",
      "Escribe un número mayor a 10: 7\n",
      "Escribe un número mayor a 10: 55\n",
      "55\n"
     ]
    }
   ],
   "source": [
    "numero = int(input(\"Escribe un número mayor a 10: \"))\n",
    "while numero <= 10:\n",
    "    numero = int(input(\"Escribe un número mayor a 10: \"))\n",
    "print (numero)"
   ]
  },
  {
   "cell_type": "markdown",
   "metadata": {},
   "source": [
    "#### Ejercicio 15.\n",
    "\n",
    "Tomando como referencia el ejercicio anterior, además de comprobar si el número es mayor 10, cuando se obtenga un número mayor que 10, mostrar la suma de todos los números introducidos por el usuario."
   ]
  },
  {
   "cell_type": "code",
   "execution_count": 11,
   "metadata": {},
   "outputs": [
    {
     "name": "stdout",
     "output_type": "stream",
     "text": [
      "Escribe un número mayor a 10: 3\n",
      "Escribe un número mayor a 10: 4\n",
      "Escribe un número mayor a 10: 55\n",
      "55\n",
      "La suma es -->  62\n"
     ]
    }
   ],
   "source": [
    "numero1 = 0\n",
    "suma = 0 # Inicializamos en cero.\n",
    "\n",
    "while numero1 <= 10:\n",
    "    numero1 = int(input(\"Escribe un número mayor a 10: \"))\n",
    "    suma = suma + numero1\n",
    "    \n",
    "print (numero1)\n",
    "print(\"La suma es --> \", suma)"
   ]
  },
  {
   "cell_type": "markdown",
   "metadata": {},
   "source": [
    "### Ejercicio 16.\n",
    "\n",
    "Programa que solicita un número entero mayor que cero y que escriba sus divisores\n",
    "\n",
    "#### Solución."
   ]
  },
  {
   "cell_type": "code",
   "execution_count": 35,
   "metadata": {},
   "outputs": [
    {
     "name": "stdout",
     "output_type": "stream",
     "text": [
      "Escribe un número entero mayor que cero: -5\n",
      "Escribe un número entero mayor que cero: 8\n",
      "Los divisores de 8 son: \n",
      "1\n",
      "2\n",
      "4\n",
      "8\n"
     ]
    }
   ],
   "source": [
    "numero = 0\n",
    "while numero <= 0:\n",
    "    numero = int(input(\"Escribe un número entero mayor que cero: \"))\n",
    "   # if numero <= 0:\n",
    "     #   print(\"¡Debes escribir un número entero mayor que cero!\")\n",
    "print(\"Los divisores de\", numero ,\"son: \")\n",
    "for i in range(1, numero + 1):\n",
    "        if numero % i == 0:\n",
    "            print(i)"
   ]
  },
  {
   "cell_type": "markdown",
   "metadata": {},
   "source": [
    "### Ejercicio 17.\n",
    "\n",
    "Programa que muestre al usuario sumas de dos números positivos (entre 1 y 20), el usuario debe responder, el programa debe comprobar la respuesta y  continuará hasta que se acierten tres sumas.\n",
    "\n",
    "NOTA: Para generar números aleatorios importar la librería random con la función <code>randrange(min, max)</code> \n",
    "\n",
    "#### Solución."
   ]
  },
  {
   "cell_type": "code",
   "execution_count": 38,
   "metadata": {},
   "outputs": [
    {
     "name": "stdout",
     "output_type": "stream",
     "text": [
      "Escribe el resultado de las siguientes operaciones: \n",
      "4 + 7 = 11\n",
      "¡Correcto!\n",
      "11 + 15 = 14\n",
      "¡Incorrecto!\n",
      "2 + 9 = 11\n",
      "¡Correcto!\n",
      "15 + 8 = 23\n",
      "¡Correcto!\n",
      "Reto superado.\n"
     ]
    }
   ],
   "source": [
    "import random\n",
    "print(\"Escribe el resultado de las siguientes operaciones: \")\n",
    "sumas_correctas = 0\n",
    "\n",
    "while sumas_correctas < 3:\n",
    "    x = random.randrange(1, 21)\n",
    "    y = random.randrange(1, 21)\n",
    "    respuesta = int(input(f\"{x} + {y} = \"))\n",
    "    if respuesta == x + y:\n",
    "        sumas_correctas += 1\n",
    "        print(\"¡Correcto!\")\n",
    "    else:\n",
    "        print(\"¡Incorrecto!\")\n",
    "print(\"Reto superado.\")"
   ]
  },
  {
   "cell_type": "markdown",
   "metadata": {},
   "source": [
    "### Ejercicio 18. \n",
    "\n",
    "Variación del programa anterior, en este caso, se preguntará al usuario cuántas sumas son correctas para superar el reto, una vez finalizado el resto, se mostrará el número de intentos empleados, entendiendo como intento tanto si el usuario acierta como si falla la suma."
   ]
  },
  {
   "cell_type": "code",
   "execution_count": 12,
   "metadata": {},
   "outputs": [
    {
     "name": "stdout",
     "output_type": "stream",
     "text": [
      "¿Cuántas operaciónes quieres acertar para terminar el juego? 2\n",
      "Escribe el resultado de las siguientes operaciones: \n",
      "13 + 7 = 20\n",
      "¡Correcto!\n",
      "7 + 15 = 2\n",
      "¡Incorrecto!\n",
      "3 + 19 = 2\n",
      "¡Incorrecto!\n",
      "16 + 19 = 4\n",
      "¡Incorrecto!\n",
      "6 + 7 = 13\n",
      "¡Correcto!\n",
      "Reto superado.\n",
      "Total de intentos:  5\n"
     ]
    }
   ],
   "source": [
    "import random\n",
    "ncorrectas=int(input(\"¿Cuántas operaciónes quieres acertar para terminar el juego? \"))\n",
    "print(\"Escribe el resultado de las siguientes operaciones: \")\n",
    "sumas_correctas = 0\n",
    "sumas_incorrectas = 0\n",
    "\n",
    "while sumas_correctas < ncorrectas:\n",
    "    x = random.randrange(1, 21)\n",
    "    y = random.randrange(1, 21)\n",
    "    respuesta = int(input(f\"{x} + {y} = \"))\n",
    "    if respuesta == x + y:\n",
    "        sumas_correctas += 1\n",
    "        print(\"¡Correcto!\")\n",
    "    else:\n",
    "        sumas_incorrectas += 1\n",
    "        print(\"¡Incorrecto!\")\n",
    "print(\"Reto superado.\")\n",
    "print(\"Total de intentos: \", sumas_correctas+sumas_incorrectas)"
   ]
  },
  {
   "cell_type": "code",
   "execution_count": null,
   "metadata": {},
   "outputs": [],
   "source": []
  }
 ],
 "metadata": {
  "kernelspec": {
   "display_name": "Python 3 (ipykernel)",
   "language": "python",
   "name": "python3"
  },
  "language_info": {
   "codemirror_mode": {
    "name": "ipython",
    "version": 3
   },
   "file_extension": ".py",
   "mimetype": "text/x-python",
   "name": "python",
   "nbconvert_exporter": "python",
   "pygments_lexer": "ipython3",
   "version": "3.10.9"
  }
 },
 "nbformat": 4,
 "nbformat_minor": 2
}
