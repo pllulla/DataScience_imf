{
 "cells": [
  {
   "cell_type": "markdown",
   "metadata": {},
   "source": [
    "# DATA SCIENCE & BUSINESS ANALYTICS PARA PROFESIONALES\n",
    "\n",
    "## NOTEBOOK 2 - Diccionarios de datos\n",
    "\n",
    "## Ejercicio 1\n",
    "\n",
    "Con el siguiente archivo iris.json, realiza las siguientes operaciones:\n",
    "\n",
    "* Carga el archivo con la librería json en una variable\n",
    "* Vamos a obtener una variable binaria para clasificar todo el dataset en función de si es el tipo de flor 'setosa' o no, por lo tanto, añade un nuevo campo llamado 'target' a todo el diccionario siendo 0 cuando el tipo de flor sea distinto de 'setosa' y 1 cuando la flor sea del tipo 'setosa'.\n",
    "* Construiremos un indicador 'longitud' para comprobar si la longitud del pétalo es 'GRANDE' o 'ESTANDAR' para el estudio, consideraremos 'GRANDE' a todas aquellas longitudes del pétalo igual o por encima de 3cm y 'ESTANDAR' a todas aquellas longitudes del pétalo inferiores a 3cm.\n",
    "* Obtener una lista de listas que contenga todos los campos del subdiccionario de datos, solamente se tomarán en cuenta aquellos valores del campo 'longitud' que tengan valor 'GRANDE'"
   ]
  },
  {
   "cell_type": "code",
   "execution_count": null,
   "metadata": {},
   "outputs": [],
   "source": [
    "import json"
   ]
  },
  {
   "cell_type": "code",
   "execution_count": null,
   "metadata": {},
   "outputs": [],
   "source": [
    "with open('iris.json', 'r') as datos_en_bruto:\n",
    "    my_dict = json.load(datos_en_bruto)"
   ]
  },
  {
   "cell_type": "code",
   "execution_count": null,
   "metadata": {},
   "outputs": [],
   "source": [
    "my_dict.keys() # Es una lista, hay que acceder por posición"
   ]
  },
  {
   "cell_type": "code",
   "execution_count": null,
   "metadata": {},
   "outputs": [],
   "source": [
    "my_dict[0].values()"
   ]
  },
  {
   "cell_type": "code",
   "execution_count": null,
   "metadata": {},
   "outputs": [],
   "source": [
    "my_dict[0].keys()"
   ]
  },
  {
   "cell_type": "markdown",
   "metadata": {},
   "source": [
    "## 2\n",
    "\n",
    "Vamos a obtener una variable binaria para clasificar todo el dataset en función de si es el tipo de flor 'setosa' o no, por lo tanto, añade un nuevo campo llamado 'target' a todo el diccionario siendo 0 cuando el tipo de flor sea distinto de 'setosa' y 1 cuando la flor sea del tipo 'setosa'."
   ]
  },
  {
   "cell_type": "code",
   "execution_count": null,
   "metadata": {},
   "outputs": [],
   "source": [
    "def binary_value(cadena_texto):\n",
    "    if 'setosa' in cadena_texto.lower():\n",
    "        return 1\n",
    "    else:\n",
    "        return 0"
   ]
  },
  {
   "cell_type": "code",
   "execution_count": null,
   "metadata": {},
   "outputs": [],
   "source": [
    "my_dict[120]['species']"
   ]
  },
  {
   "cell_type": "code",
   "execution_count": null,
   "metadata": {},
   "outputs": [],
   "source": [
    "for item in my_dict:\n",
    "    value_to_update = binary_value(cadena_texto=item['species'])\n",
    "    item = item.update({'target' : value_to_update})"
   ]
  },
  {
   "cell_type": "code",
   "execution_count": null,
   "metadata": {},
   "outputs": [],
   "source": [
    "my_dict[5]"
   ]
  },
  {
   "cell_type": "markdown",
   "metadata": {},
   "source": [
    "## 3\n",
    "\n",
    "Construiremos un indicador 'longitud' para comprobar si la longitud del pétalo es 'GRANDE' o 'ESTANDAR' para el estudio, consideraremos 'GRANDE' a todas aquellas longitudes del pétalo igual o por encima de 3cm y 'ESTANDAR' a todas aquellas longitudes del pétalo inferiores a 3cm."
   ]
  },
  {
   "cell_type": "code",
   "execution_count": null,
   "metadata": {},
   "outputs": [],
   "source": [
    "def get_length(petal_length):\n",
    "    if petal_length <= 3:\n",
    "        return 'ESTANDAR'\n",
    "    else:\n",
    "        return 'GRANDE'"
   ]
  },
  {
   "cell_type": "code",
   "execution_count": null,
   "metadata": {},
   "outputs": [],
   "source": [
    "for item in my_dict:\n",
    "    value_to_update = get_length(petal_length=item['petalLength'])\n",
    "    item = item.update({'longitud' : value_to_update})"
   ]
  },
  {
   "cell_type": "code",
   "execution_count": null,
   "metadata": {},
   "outputs": [],
   "source": [
    "my_dict[120]"
   ]
  },
  {
   "cell_type": "markdown",
   "metadata": {},
   "source": [
    "## 4\n",
    "\n",
    "Obtener una lista de listas que contenga todos los campos del subdiccionario de datos, solamente se tomarán en cuenta aquellos valores del campo 'longitud' que tengan valor 'GRANDE'"
   ]
  },
  {
   "cell_type": "code",
   "execution_count": null,
   "metadata": {},
   "outputs": [],
   "source": [
    "lista_general = []\n",
    "\n",
    "for item in my_dict:\n",
    "    if 'GRANDE' in item['longitud']:\n",
    "        sub_lista = []\n",
    "        \n",
    "        for sub_dict in item.keys():\n",
    "            sub_lista.append(item[sub_dict])\n",
    "            \n",
    "        lista_general.append(sub_lista)\n",
    "    \n",
    "    else:\n",
    "        pass"
   ]
  },
  {
   "cell_type": "code",
   "execution_count": null,
   "metadata": {},
   "outputs": [],
   "source": [
    "lista_general"
   ]
  }
 ],
 "metadata": {
  "kernelspec": {
   "display_name": "Python 3",
   "language": "python",
   "name": "python3"
  },
  "language_info": {
   "codemirror_mode": {
    "name": "ipython",
    "version": 3
   },
   "file_extension": ".py",
   "mimetype": "text/x-python",
   "name": "python",
   "nbconvert_exporter": "python",
   "pygments_lexer": "ipython3",
   "version": "3.7.6"
  }
 },
 "nbformat": 4,
 "nbformat_minor": 4
}
