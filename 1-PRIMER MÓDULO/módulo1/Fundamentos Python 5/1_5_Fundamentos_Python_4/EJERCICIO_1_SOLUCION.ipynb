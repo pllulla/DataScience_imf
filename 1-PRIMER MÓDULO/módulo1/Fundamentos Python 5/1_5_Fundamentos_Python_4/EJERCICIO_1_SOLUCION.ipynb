{
 "cells": [
  {
   "cell_type": "markdown",
   "metadata": {},
   "source": [
    "# CASO PRÁCTICO\n",
    "\n",
    "## Ejercicio 1\n",
    "\n",
    "Escribir una función que reciba una secuencia de números (puede ser lista o tupla, los números pueden ser enteros o decimales) y devuelve, la cantidad de números, el valor máximo, el mínimo y la media.\n",
    "\n",
    "### SOLUCIÓN\n",
    "\n",
    "Lo primero de todo, asignaremos a una variable una secuencia de números."
   ]
  },
  {
   "cell_type": "code",
   "execution_count": null,
   "metadata": {},
   "outputs": [],
   "source": [
    "secuencia = (1, 89, 54, 98, 45, 23, 32.8, 1.3, 9.5) # No hay limitación de extensión\n",
    "# Ni del tipo de número (entro o decimal)"
   ]
  },
  {
   "cell_type": "code",
   "execution_count": null,
   "metadata": {},
   "outputs": [],
   "source": [
    "print(secuencia)"
   ]
  },
  {
   "cell_type": "markdown",
   "metadata": {},
   "source": [
    "Escribimos una función que reciba como parámetro de entrada una secuencia de números y que tenga como prámetors de salida la longitud de la secuencia, mínimo, máximo y media."
   ]
  },
  {
   "cell_type": "code",
   "execution_count": null,
   "metadata": {},
   "outputs": [],
   "source": [
    "def sequence_stats(input_secuencia):\n",
    "    \"\"\"\n",
    "    Función que recibe una secuencia de números y devuelve su estadística\n",
    "    (len, min, max, mean)\n",
    "    \n",
    "    input: list\n",
    "    output: number, number, number, float\n",
    "    \"\"\"\n",
    "    \n",
    "    # Logitud de la secuencia\n",
    "    length = len(input_secuencia)\n",
    "    \n",
    "    # Valor máximo\n",
    "    max_value = max(input_secuencia)\n",
    "    \n",
    "    # Valor mínimo\n",
    "    min_value = min(input_secuencia)\n",
    "    \n",
    "    # Calculamos la media\n",
    "    # Primero inicializamos una variable para la suma de los valores\n",
    "    suma = 0\n",
    "    \n",
    "    for item in input_secuencia:\n",
    "        suma += item # Sumamos a la suma actual el siguiente valor de la secuencia\n",
    "        \n",
    "    media = round(suma/length, 2)\n",
    "    \n",
    "    return length, min_value, max_value, media"
   ]
  },
  {
   "cell_type": "markdown",
   "metadata": {},
   "source": [
    "Programa principal"
   ]
  },
  {
   "cell_type": "code",
   "execution_count": null,
   "metadata": {},
   "outputs": [],
   "source": [
    "if __name__ == '__main__':\n",
    "    # Obtenemos valores\n",
    "    longitud, minimo, maximo, media = sequence_stats(input_secuencia=secuencia)\n",
    "    \n",
    "    print('-'*25)\n",
    "    print('- La longitud de la secuencia es: {}'.format(longitud))\n",
    "    print('- El valor mínimo de la secuencia es: {}'.format(minimo))\n",
    "    print('- El valor máximo de la secuencia es: {}'.format(maximo))\n",
    "    print('- La valor medio de la secuencia es: {}'.format(media))\n",
    "    print('-'*25)"
   ]
  }
 ],
 "metadata": {
  "kernelspec": {
   "display_name": "Python 3",
   "language": "python",
   "name": "python3"
  },
  "language_info": {
   "codemirror_mode": {
    "name": "ipython",
    "version": 3
   },
   "file_extension": ".py",
   "mimetype": "text/x-python",
   "name": "python",
   "nbconvert_exporter": "python",
   "pygments_lexer": "ipython3",
   "version": "3.7.6"
  }
 },
 "nbformat": 4,
 "nbformat_minor": 2
}
