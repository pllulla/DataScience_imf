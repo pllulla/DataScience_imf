{
 "cells": [
  {
   "cell_type": "markdown",
   "metadata": {},
   "source": [
    "# Funciones"
   ]
  },
  {
   "cell_type": "markdown",
   "metadata": {},
   "source": [
    "Sin parámetros"
   ]
  },
  {
   "cell_type": "code",
   "execution_count": null,
   "metadata": {},
   "outputs": [],
   "source": [
    "def saludar():\n",
    "    print('Hola !')"
   ]
  },
  {
   "cell_type": "code",
   "execution_count": null,
   "metadata": {},
   "outputs": [],
   "source": [
    "saludar()"
   ]
  },
  {
   "cell_type": "markdown",
   "metadata": {},
   "source": [
    "Con un parámetro de entrada"
   ]
  },
  {
   "cell_type": "code",
   "execution_count": null,
   "metadata": {},
   "outputs": [],
   "source": [
    "def saluda_nombre(nombre):\n",
    "    print('Hola', nombre, '!')"
   ]
  },
  {
   "cell_type": "code",
   "execution_count": null,
   "metadata": {},
   "outputs": [],
   "source": [
    "saluda_nombre(nombre='Juan')"
   ]
  },
  {
   "cell_type": "markdown",
   "metadata": {},
   "source": [
    "Más de un parámetro de entrada."
   ]
  },
  {
   "cell_type": "code",
   "execution_count": null,
   "metadata": {},
   "outputs": [],
   "source": [
    "def aplica_iva(nombre_artículo, precio):\n",
    "    print('El precio total de', nombre_artículo, 'es: ', round(precio + (precio*0.21),2))"
   ]
  },
  {
   "cell_type": "code",
   "execution_count": null,
   "metadata": {},
   "outputs": [],
   "source": [
    "aplica_iva(nombre_artículo='NVIDIA GTX 2080', precio=2045)"
   ]
  },
  {
   "cell_type": "code",
   "execution_count": null,
   "metadata": {},
   "outputs": [],
   "source": [
    "#NO HACE FALTA EXPRESAR EL PARAMETRO COMO EN EL CASO ANTERIOR\n",
    "aplica_iva('NVIDIA GTX 2080', 2045)"
   ]
  },
  {
   "cell_type": "markdown",
   "metadata": {},
   "source": [
    "Devolver parámetro de salida"
   ]
  },
  {
   "cell_type": "code",
   "execution_count": null,
   "metadata": {},
   "outputs": [],
   "source": [
    "def obten_precio_total(precio):\n",
    "    precio_final = round(precio + (precio * 0.21), 2)\n",
    "    \n",
    "    return precio_final"
   ]
  },
  {
   "cell_type": "code",
   "execution_count": null,
   "metadata": {},
   "outputs": [],
   "source": [
    "precio_total = obten_precio_total(precio=2000)"
   ]
  },
  {
   "cell_type": "code",
   "execution_count": null,
   "metadata": {},
   "outputs": [],
   "source": [
    "print('El precio final del artículo es: ', precio_total, 'euros')"
   ]
  },
  {
   "cell_type": "markdown",
   "metadata": {},
   "source": [
    "Más de un parámetro de salida"
   ]
  },
  {
   "cell_type": "code",
   "execution_count": null,
   "metadata": {},
   "outputs": [],
   "source": [
    "# Dada una secuencia de números.\n",
    "# Almacenar todos los números pares en una lista.\n",
    "# Todos los números impares en otra lista\n",
    "# Devolver ambas listas\n",
    "\n",
    "def pares_impares(numbers):\n",
    "    \n",
    "    # Inicializamos lista pares e impares\n",
    "    pares = []\n",
    "    impares = []\n",
    "    \n",
    "    for item in numbers:\n",
    "        if item % 2 == 0:\n",
    "            # Es par\n",
    "            pares.append(item)\n",
    "        else:\n",
    "            # Es impar\n",
    "            impares.append(item)\n",
    "            \n",
    "    return pares, impares"
   ]
  },
  {
   "cell_type": "code",
   "execution_count": null,
   "metadata": {},
   "outputs": [],
   "source": [
    "tupla_números = (1, 8, 23, 0, 199, 457, 398, 5, 9, 150, 780, 7592)\n",
    "\n",
    "lista_pares, lista_impares = pares_impares(tupla_números)"
   ]
  },
  {
   "cell_type": "code",
   "execution_count": null,
   "metadata": {},
   "outputs": [],
   "source": [
    "print('Todos los números pares de la secuencia son:', lista_pares)\n",
    "print('Todos los números impares de la secuencia son:', lista_impares)"
   ]
  },
  {
   "cell_type": "markdown",
   "metadata": {},
   "source": [
    "Si solamente queremos acceder a un parámetro de salida, por ejemplo a la lista de impares."
   ]
  },
  {
   "cell_type": "code",
   "execution_count": null,
   "metadata": {},
   "outputs": [],
   "source": [
    "lista_impares = pares_impares(tupla_números)[1]\n",
    "lista_impares"
   ]
  },
  {
   "cell_type": "markdown",
   "metadata": {},
   "source": [
    "Solo la lista de pares"
   ]
  },
  {
   "cell_type": "code",
   "execution_count": null,
   "metadata": {},
   "outputs": [],
   "source": [
    "lista_pares = pares_impares(tupla_números)[0]\n",
    "lista_pares"
   ]
  },
  {
   "cell_type": "code",
   "execution_count": null,
   "metadata": {},
   "outputs": [],
   "source": [
    "#UNA FUNCION CON VARIOS VALORES A DEVOLVER, LOS DEVUELVE EN UNA TUPLA\n",
    "pares_impares(tupla_números)"
   ]
  },
  {
   "cell_type": "markdown",
   "metadata": {},
   "source": [
    "Llamar a una función dentro de otra función."
   ]
  },
  {
   "cell_type": "code",
   "execution_count": null,
   "metadata": {},
   "outputs": [],
   "source": [
    "def banner():\n",
    "    print('-'*20)\n",
    "    print('*'*20)\n",
    "    print('-'*20)"
   ]
  },
  {
   "cell_type": "code",
   "execution_count": null,
   "metadata": {},
   "outputs": [],
   "source": [
    "def programa_principal():\n",
    "    banner()\n",
    "    print('Iniciando el programa... \\n')\n",
    "    banner()\n",
    "    print('Saliendo del programa') "
   ]
  },
  {
   "cell_type": "code",
   "execution_count": null,
   "metadata": {},
   "outputs": [],
   "source": [
    "programa_principal()"
   ]
  },
  {
   "cell_type": "markdown",
   "metadata": {},
   "source": [
    "### Ejercicio 1\n",
    "\n",
    "Escribe una función que determine muestra la media de una tupla. \n",
    "\n",
    "#### Solución"
   ]
  },
  {
   "cell_type": "code",
   "execution_count": null,
   "metadata": {},
   "outputs": [],
   "source": [
    "tupla = (1, 5, 8, 9, 100, 23, 6, 10, 30)"
   ]
  },
  {
   "cell_type": "code",
   "execution_count": null,
   "metadata": {},
   "outputs": [],
   "source": [
    "def get_mean(tupla_entrada):\n",
    "    suma = 0\n",
    "    \n",
    "    for item in tupla_entrada:\n",
    "        suma += item\n",
    "    \n",
    "    media = suma/len(tupla_entrada)\n",
    "    \n",
    "    return media"
   ]
  },
  {
   "cell_type": "code",
   "execution_count": null,
   "metadata": {},
   "outputs": [],
   "source": [
    "get_mean(tupla)"
   ]
  },
  {
   "cell_type": "markdown",
   "metadata": {},
   "source": [
    "También podemos guardar el resultado"
   ]
  },
  {
   "cell_type": "code",
   "execution_count": null,
   "metadata": {},
   "outputs": [],
   "source": [
    "media = get_mean(tupla_entrada=tupla)\n",
    "print('La media es: ', media)"
   ]
  },
  {
   "cell_type": "markdown",
   "metadata": {},
   "source": [
    "### Ejercicio 2\n",
    "\n",
    "Modifica el programa anterior para devolver más estadísticas como media, valor máximo, mínimo y la longitud de la tupla.\n",
    "\n",
    "#### Solución."
   ]
  },
  {
   "cell_type": "code",
   "execution_count": null,
   "metadata": {},
   "outputs": [],
   "source": [
    "def tuple_stats(tupla_entrada):\n",
    "    suma = 0\n",
    "    \n",
    "    for item in tupla_entrada:\n",
    "        suma += item\n",
    "    \n",
    "    media = suma/len(tupla_entrada)\n",
    "    \n",
    "    valor_max = max(tupla_entrada)\n",
    "    valor_min = min(tupla_entrada)\n",
    "    longitud = len(tupla_entrada)\n",
    "    \n",
    "    return media, valor_max, valor_min, longitud"
   ]
  },
  {
   "cell_type": "code",
   "execution_count": null,
   "metadata": {},
   "outputs": [],
   "source": [
    "tupla = (1, 5, 8, 9, 100, 23, 6, 10, 30)\n",
    "\n",
    "media, maximo, minimo, longitud = tuple_stats(tupla_entrada=tupla)\n",
    "\n",
    "print('Media ', media)\n",
    "print('Max ', maximo)\n",
    "print('Minimo ', minimo)\n",
    "print('Longitud ', longitud)\n"
   ]
  },
  {
   "cell_type": "markdown",
   "metadata": {},
   "source": [
    "## Bloque Main"
   ]
  },
  {
   "cell_type": "markdown",
   "metadata": {},
   "source": [
    "Realizaremos un programa en el que el usuario vaya introduciendo frases hasta que teclee 'basta', estas frases las almacenaremos en una lista, posteriormente, iremos almacenando en una nueva lista todas las frases que contengan la letra 'a', finalmente desde el cuerpo principal del programa mostraremos estas frases por pantalla.\n",
    "\n",
    "PD: En estas funciones iremos introduciendo comentarios de varias líneas para documentar correctamente las funciones e incluir ayuda.\n",
    "\n",
    "1. Obtenemos todas las frases"
   ]
  },
  {
   "cell_type": "code",
   "execution_count": 1,
   "metadata": {},
   "outputs": [],
   "source": [
    "def get_phrases():\n",
    "    \"\"\"\n",
    "    Función que solicita frases al usuario hasta que \n",
    "    el usuario teclea 'basta'\n",
    "    \n",
    "    input: None\n",
    "    output: list[]\n",
    "    \"\"\"\n",
    "    # Lista vacía para almacenar frases\n",
    "    frases = []\n",
    "    \n",
    "    respuesta = input()\n",
    "    \n",
    "    while respuesta != 'basta':\n",
    "        frases.append(respuesta)\n",
    "        \n",
    "        respuesta = input()\n",
    "        \n",
    "    return frases      "
   ]
  },
  {
   "cell_type": "markdown",
   "metadata": {},
   "source": [
    "2. Filtraremos por todas las frases que contengan la letra 'a'"
   ]
  },
  {
   "cell_type": "code",
   "execution_count": 2,
   "metadata": {},
   "outputs": [],
   "source": [
    "def filter_phrases(lista_frases):\n",
    "    \"\"\"\n",
    "    Función que recibe una lista con frases y las \n",
    "    va filtrando iterativamente, quedándose solamente con\n",
    "    aquellas frases que tienen la letra 'a'\n",
    "    \n",
    "    input: list\n",
    "    output: list\n",
    "    \"\"\"\n",
    "    \n",
    "    # Definimos una nueva lista para almacenar todas las frases con\n",
    "    # la letra a\n",
    "    frases_con_a = []\n",
    "    \n",
    "    for item in lista_frases:\n",
    "        if 'a' in item:\n",
    "            frases_con_a.append(item)\n",
    "        else:\n",
    "            # No hacemos nada\n",
    "            pass\n",
    "        \n",
    "    return frases_con_a"
   ]
  },
  {
   "cell_type": "markdown",
   "metadata": {},
   "source": [
    "3. Creamos una función que simplemente irá mostrando por pantalla cada frase de la lista filtrada anteriormente"
   ]
  },
  {
   "cell_type": "code",
   "execution_count": 3,
   "metadata": {},
   "outputs": [],
   "source": [
    "def show_filtered_phrases(frases_filtradas):\n",
    "    \"\"\"\n",
    "    Función que devuelve iterativamente todas las \n",
    "    frases filtradas.\n",
    "    \n",
    "    input: list\n",
    "    output: None\n",
    "    \"\"\"\n",
    "    \n",
    "    # Utilizamos un bucle for para mostrar todas las palabras\n",
    "    \n",
    "    for frase in range(len(frases_filtradas)):\n",
    "        print('Frase en posición {} --> {} '.format(frase, frases_filtradas[frase]))\n",
    "        \n",
    "    # Como se puede comprobar aquí estamos utilizando format\n",
    "    # para imprimir, lo que hacemos es mostrar más ordenado\n",
    "    # lo que esté entre corchetes.\n",
    "    \n",
    "    # No return"
   ]
  },
  {
   "cell_type": "markdown",
   "metadata": {},
   "source": [
    "4. Definimos el bloque main"
   ]
  },
  {
   "cell_type": "code",
   "execution_count": 4,
   "metadata": {},
   "outputs": [
    {
     "name": "stdout",
     "output_type": "stream",
     "text": [
      "Hola cómo estas?\n",
      "Solo con money\n",
      "Quiero un helado\n",
      "basta\n",
      "Frase en posición 0 --> Hola cómo estas? \n",
      "Frase en posición 1 --> Quiero un helado \n"
     ]
    }
   ],
   "source": [
    "if __name__ == '__main__':\n",
    "    todas_las_frases = get_phrases()\n",
    "    frases_clean = filter_phrases(todas_las_frases)\n",
    "    show_filtered_phrases(frases_clean)"
   ]
  },
  {
   "cell_type": "code",
   "execution_count": null,
   "metadata": {},
   "outputs": [],
   "source": []
  }
 ],
 "metadata": {
  "kernelspec": {
   "display_name": "Python 3 (ipykernel)",
   "language": "python",
   "name": "python3"
  },
  "language_info": {
   "codemirror_mode": {
    "name": "ipython",
    "version": 3
   },
   "file_extension": ".py",
   "mimetype": "text/x-python",
   "name": "python",
   "nbconvert_exporter": "python",
   "pygments_lexer": "ipython3",
   "version": "3.10.9"
  }
 },
 "nbformat": 4,
 "nbformat_minor": 2
}
