{
 "cells": [
  {
   "cell_type": "markdown",
   "metadata": {},
   "source": [
    "# CASO PRÁCTICO\n",
    "\n",
    "## Ejercicio 3\n",
    "\n",
    "Dado el siguiente diccionario de datos:"
   ]
  },
  {
   "cell_type": "code",
   "execution_count": null,
   "metadata": {},
   "outputs": [],
   "source": [
    "precios = {\n",
    "    'ACCIONA': [78.60, 84.95, 77.20],\n",
    "    'ACERINOX': [5.88, 51.25, 58.42],\n",
    "    'INDITEX': [49.99, 57.89, 68.5],\n",
    "    'ENEGAS': [0.5, 0.78, 48.75],\n",
    "    'FERROVIAL': [78.58, 24.25, 65.45]\n",
    "}"
   ]
  },
  {
   "cell_type": "markdown",
   "metadata": {},
   "source": [
    "Modifica cualquier precio inferior a 50, por 50 y, finalmente, devuelve el diccionario de datos actualizado por cada nombre de empresa."
   ]
  },
  {
   "cell_type": "markdown",
   "metadata": {},
   "source": [
    "### SOLUCIÓN\n",
    "\n",
    "En este caso, en cada campo **key** tenemos una lista, simplemente tenemos que ir iterativamente por cada campo clave, con un nuevo bucle for y modificando valores de índice <50 por 50.\n",
    "\n",
    "Lo primero, para modularizar el programa definiremos una función que simplemente devuelva 50 si el valor es menor que 50."
   ]
  },
  {
   "cell_type": "code",
   "execution_count": null,
   "metadata": {},
   "outputs": [],
   "source": [
    "def update_value(value):\n",
    "    \"\"\"\n",
    "    Función que actualiza un valor en función de un punto de corte.\n",
    "    \n",
    "    input\n",
    "    value: float\n",
    "    \n",
    "    output\n",
    "    value: float | new_value: int\n",
    "    \"\"\"\n",
    "    \n",
    "    if value < 50:\n",
    "        return 50\n",
    "    else:\n",
    "        return value"
   ]
  },
  {
   "cell_type": "markdown",
   "metadata": {},
   "source": [
    "El siguiente paso, será implementar una nueva función para recorrer cada elemento del diccionario de datos y cada lista del diccionario de datos."
   ]
  },
  {
   "cell_type": "code",
   "execution_count": null,
   "metadata": {},
   "outputs": [],
   "source": [
    "def update_dict(input_dict):\n",
    "    \"\"\"\n",
    "    Función que recibe como parámetro de entrada un diccionario de datos\n",
    "    y acutaliza sus valores, devolviendo el diccionario actualizado\n",
    "    \n",
    "    input \n",
    "    input_dict: dict\n",
    "    \n",
    "    output\n",
    "    input_dict: dict\n",
    "    \"\"\"\n",
    "    # Recorremos los campos clave\n",
    "    for campo_clave in input_dict.keys():\n",
    "        \n",
    "        # Obtenemos la lista\n",
    "        sub_lista = input_dict[campo_clave]\n",
    "        \n",
    "        # Recorremos cada valor de la lista\n",
    "        for item_lista in range(len(sub_lista)):\n",
    "            # Actualizamos el valor pasando como parámetro de entrada\n",
    "            # el valor de la lista en cada iteracción\n",
    "            sub_lista[item_lista] = update_value(value=sub_lista[item_lista])\n",
    "            \n",
    "        # Cuando finalizamos la actualización de la lista\n",
    "        # Sobreescribimos la lista antigua por la nueva\n",
    "        \n",
    "        input_dict[campo_clave] = sub_lista\n",
    "        \n",
    "    # Devolvemos el diccionario actualizado.\n",
    "    return input_dict "
   ]
  },
  {
   "cell_type": "markdown",
   "metadata": {},
   "source": [
    "Definimos una última lista para mostrar por pantalla los precios por el nombre de empresa."
   ]
  },
  {
   "cell_type": "code",
   "execution_count": null,
   "metadata": {},
   "outputs": [],
   "source": [
    "def show_companies(dict_object):\n",
    "    \"\"\"\n",
    "    Función que imprime los ítems de un diccionario de datos por \n",
    "    cada valor del campo clave.\n",
    "    \n",
    "    input\n",
    "    dict_object: dict\n",
    "    \n",
    "    output: None\n",
    "    \"\"\"\n",
    "    for item in dict_object.keys():\n",
    "        print('La empresa {} tiene los siguientes precios {}'.format(item, dict_object[item]))\n",
    "        \n",
    "        \n",
    "    # No return"
   ]
  },
  {
   "cell_type": "markdown",
   "metadata": {},
   "source": [
    "Programa principal"
   ]
  },
  {
   "cell_type": "code",
   "execution_count": null,
   "metadata": {},
   "outputs": [],
   "source": [
    "if __name__ == '__main__':\n",
    "    clean_dict = update_dict(input_dict = precios)\n",
    "    show_companies(dict_object=clean_dict)"
   ]
  }
 ],
 "metadata": {
  "kernelspec": {
   "display_name": "Python 3",
   "language": "python",
   "name": "python3"
  },
  "language_info": {
   "codemirror_mode": {
    "name": "ipython",
    "version": 3
   },
   "file_extension": ".py",
   "mimetype": "text/x-python",
   "name": "python",
   "nbconvert_exporter": "python",
   "pygments_lexer": "ipython3",
   "version": "3.7.6"
  }
 },
 "nbformat": 4,
 "nbformat_minor": 2
}
