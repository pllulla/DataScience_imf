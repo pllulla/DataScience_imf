{
 "cells": [
  {
   "cell_type": "markdown",
   "metadata": {},
   "source": [
    "# Ejercicio 1\n",
    "Modificar una lista de números reales que representan las calificaciones de los alumnos de una clase, para sustituir los valores numéricos por sus calificaciones alfanuméricas (Suspenso, Aprobado, etc.)"
   ]
  },
  {
   "cell_type": "code",
   "execution_count": null,
   "metadata": {},
   "outputs": [],
   "source": [
    "def nota_to_string(lista):\n",
    "    \"\"\"\n",
    "    Fumnción que recibe una lista de números reales, devolviendo su calificación literal\n",
    "    :param lista: list[float]\n",
    "    :return: list[string]\n",
    "    \"\"\"\n",
    "    #Inicializamos la calificación a una cadena vacía\n",
    "    nota_string = \"\"\n",
    "    #Iteramos cada elemento de la lista\n",
    "    for i in range(len(lista)):\n",
    "        nota_num = lista[i]\n",
    "        if (nota_num < 0) | (nota_num > 10):\n",
    "            nota_string = \"La calificación introducida no es válida\"\n",
    "        else:\n",
    "            if nota_num < 5:\n",
    "                nota_string = \"SUSPENSO\"\n",
    "            elif nota_num == 5:\n",
    "                nota_string = \"SUFICIENTE\"\n",
    "            elif nota_num < 7:\n",
    "                nota_string = \"APROBADO\"\n",
    "            elif nota_num < 9:\n",
    "                nota_string = \"NOTABLE\"\n",
    "            elif nota_num <= 10:\n",
    "                nota_string = \"SOBRESALIENTE\"\n",
    "        lista[i] = nota_string\n",
    "    return lista\n",
    "                \n",
    "calificaciones = [1,10,4,6,8,5,5.6,4,9,10,0,11,9]\n",
    "nota_to_string(calificaciones)"
   ]
  },
  {
   "cell_type": "markdown",
   "metadata": {},
   "source": [
    "# Ejercicio 2\n",
    "Implementar una función que pone en mayúsculas todas las primeras letras de las palabras de una frase."
   ]
  },
  {
   "cell_type": "code",
   "execution_count": null,
   "metadata": {},
   "outputs": [],
   "source": [
    "def strings_to_upper(texto):\n",
    "    \"\"\"\n",
    "    Función que pone en mayúsculas cada primera letra de una palabra, dentro de una frase\n",
    "    :param texto: string\n",
    "    :return: string\n",
    "    \"\"\"\n",
    "    #Dividimos el texto introducido en espacios para identificar todas las palabras\n",
    "    palabras = texto.split(\" \")\n",
    "    #Inicializamos el nuevo texto\n",
    "    texto_upper = \"\"\n",
    "    for palabra in palabras:\n",
    "        #Obtenemos la posición 0 de cada string ya que es el comienzo\n",
    "        # de cada palabra y lo forzamos a mayúsculas. Posteriormente,\n",
    "        # concatenamos el resto de la frase\n",
    "        texto_upper += palabra[0].upper() + palabra[1:]+\" \"\n",
    "    return texto_upper\n",
    "\n",
    "frase = \"Hola esto es una frase de prueba\"\n",
    "strings_to_upper(frase)"
   ]
  },
  {
   "cell_type": "markdown",
   "metadata": {},
   "source": [
    "Opción 2, con listas"
   ]
  },
  {
   "cell_type": "code",
   "execution_count": null,
   "metadata": {},
   "outputs": [],
   "source": [
    "def strings_to_upper2(texto):\n",
    "    \"\"\"\n",
    "    Función que pone en mayúsculas cada primera letra de una palabra, dentro de una frase\n",
    "    y devuelve una lista\n",
    "    :param texto: string\n",
    "    :return: list\n",
    "    \"\"\"\n",
    "    #Dividimos el texto introducido en espacios para identificar todas las palabras\n",
    "    palabras = texto.split(\" \")\n",
    "    #Inicializamos el nuevo texto\n",
    "    texto_upper = []\n",
    "    for palabra in palabras:\n",
    "        #Obtenemos la posición 0 de cada string ya que es el comienzo\n",
    "        # de cada palabra y lo forzamos a mayúsculas. Posteriormente,\n",
    "        # concatenamos el resto de la frase\n",
    "        texto_upper.append(palabra[0].upper() + palabra[1:])\n",
    "    return texto_upper\n",
    "\n",
    "frase = \"Hola esto es una frase de prueba\"\n",
    "strings_to_upper2(frase)"
   ]
  },
  {
   "cell_type": "markdown",
   "metadata": {},
   "source": [
    "# Ejercicio 3\n",
    "Implemente una función que indique si una palabra contiene las cinco vocales: por ejemplo “murciélago”. Modifique posteriormente la función para que detecte sólo aquellas palabras que contienen una única vez cada vocal."
   ]
  },
  {
   "cell_type": "code",
   "execution_count": null,
   "metadata": {},
   "outputs": [],
   "source": [
    "def vocales(palabra):\n",
    "    \"\"\"\n",
    "    Función que comprueba si una palabra introducida tiene las cinco vocales, devolviendo un booleano.\n",
    "    :param palabra: string\n",
    "    :return: bool\n",
    "    \"\"\"\n",
    "    #Tenemos que buscar las vocales con find(), la peculiaridad de esta función\n",
    "    # es que devielve -1 si no encuentra la vocal, y si la encuentra\n",
    "    # devuelve la posición en la que se encuentra, por lo que para obtener\n",
    "    # un valor booleano debemos comprobar siempre que el resultado obtenido es\n",
    "    # > -1, esto queire decir que ha encontrado la vocal. Hacemos lo mismo para todas \n",
    "    # las vocales\n",
    "    if (palabra.lower().find(\"a\") > -1) and \\\n",
    "    (palabra.lower().find(\"e\") > -1) and \\\n",
    "    (palabra.lower().find(\"i\") > -1) and \\\n",
    "    (palabra.lower().find(\"o\") > -1) and \\\n",
    "    (palabra.lower().find(\"u\") > -1):\n",
    "        return True\n",
    "    else:\n",
    "        return False\n",
    "\n",
    "print(vocales(\"Murcielago\"))\n",
    "print(\"--------\")\n",
    "print(vocales(\"AEIO\"))"
   ]
  },
  {
   "cell_type": "markdown",
   "metadata": {},
   "source": [
    "Ahora comprobamos si están únicamente una vez cada vocal, para ello además de find(), tenemos que utilizar en cada comprobación de vocal la función count() que debe ser exactamente igual a 1"
   ]
  },
  {
   "cell_type": "code",
   "execution_count": null,
   "metadata": {},
   "outputs": [],
   "source": [
    "def vocales2(palabra):\n",
    "    \"\"\"\n",
    "    Función que comprueba si una palabra introducida tiene las cinco vocales, \n",
    "    una sóla vez, devolviendo un booleano.\n",
    "    :param palabra: string\n",
    "    :return: bool\n",
    "    \"\"\"\n",
    "    #Tenemos que buscar las vocales con find(), la peculiaridad de esta función\n",
    "    # es que devielve -1 si no encuentra la vocal, y si la encuentra\n",
    "    # devuelve la posición en la que se encuentra, por lo que para obtener\n",
    "    # un valor booleano debemos comprobar siempre que el resultado obtenido es\n",
    "    # > -1, esto queire decir que ha encontrado la vocal. Hacemos lo mismo para todas \n",
    "    # las vocales\n",
    "    \n",
    "    #Además ahora count() debe ser == 1\n",
    "    if (palabra.lower().find(\"a\") > -1) and (palabra.lower().count(\"a\") == 1) and \\\n",
    "    (palabra.lower().find(\"e\") > -1) and (palabra.lower().count(\"e\") == 1) and \\\n",
    "    (palabra.lower().find(\"i\") > -1) and (palabra.lower().count(\"i\") == 1) and \\\n",
    "    (palabra.lower().find(\"o\") > -1) and (palabra.lower().count(\"o\") == 1) and \\\n",
    "    (palabra.lower().find(\"u\") > -1) and (palabra.lower().count(\"u\") == 1):\n",
    "        return True\n",
    "    else:\n",
    "        return False\n",
    "\n",
    "print(vocales2(\"Murcielago\"))\n",
    "print(\"--------\")\n",
    "print(vocales2(\"Esta cadena tiene que devolver False\"))"
   ]
  },
  {
   "cell_type": "markdown",
   "metadata": {},
   "source": [
    "# Ejercicio 4\n",
    "Escribir una función que sume dos listas de igual longitud y retorne otra lista que contenga la suma de las originales elemento a elemento."
   ]
  },
  {
   "cell_type": "code",
   "execution_count": null,
   "metadata": {},
   "outputs": [],
   "source": [
    "def suma_listas(lista1, lista2):\n",
    "    \"\"\"\n",
    "    Función que suma dos listas elemento a elemento, devolviendo una nueva lista \n",
    "    la suma resultante\n",
    "    :param lista1: list[float], len = n\n",
    "    :param lista2: list[float], len = n\n",
    "    :return: list[float], len = n\n",
    "    \"\"\"\n",
    "    lista_return = []\n",
    "    for i in range(0, len(lista1)):\n",
    "        lista_return.append(lista1[i]+lista2[i])\n",
    "    return lista_return\n",
    "\n",
    "a = [1,2,3]\n",
    "b = [1,2,3]\n",
    "\n",
    "suma_listas(a, b)"
   ]
  },
  {
   "cell_type": "markdown",
   "metadata": {},
   "source": [
    "# Ejercicio 5\n",
    "Modifique el ejercicio anterior permitiendo que las listas sean desiguales. En este caso, los elementos sobrantes de la lista más larga se añadirán al final de la lista resultante.\n",
    "\n",
    "En este caso la mecánica del ejercicio es la misma, pero ahora debemos comparar la longitud de ambas listas, la más grande será con la que iteremos dentro del blucle for."
   ]
  },
  {
   "cell_type": "code",
   "execution_count": null,
   "metadata": {},
   "outputs": [],
   "source": [
    "def suma_listas_big(lista1, lista2):\n",
    "    \"\"\"\n",
    "    Función que suma dos listas de diferente longitud elemento a elemento, \n",
    "    devolviendo una nueva lista la suma resultante\n",
    "    :param lista1: list[float], len = n\n",
    "    :param lista2: list[float], len = n\n",
    "    :return: list[float], len = n\n",
    "    \"\"\"\n",
    "    lista_return = []\n",
    "    # Comparamos la longitud de ambas listas\n",
    "    if len(lista1) >= len(lista2):\n",
    "        lista_grande = lista1\n",
    "        lista_pequeña = lista2\n",
    "    else:\n",
    "        lista_grande = lista2\n",
    "        lista_pequeña = lista1\n",
    "        \n",
    "    #Iteramos desde la lista grande\n",
    "    for i in range(0, len(lista_pequeña)):\n",
    "        #En Python los indices de distinto orden son sensibles\n",
    "        # por lo que, en este caso sólamente se sumaran hasta la\n",
    "        # posición en la que son iguales, es decir, la longitud\n",
    "        # total de la lista pequeña.\n",
    "        lista_return.append(lista_grande[i]+lista_pequeña[i])\n",
    "    \n",
    "    #Ahora hemos de concatenar el resto de la lista grande en lista_return.\n",
    "    lista_return += lista_grande[len(lista_pequeña):]\n",
    "    return lista_return\n",
    "\n",
    "a = [1,2,3]\n",
    "b = [1,2,3,4,5,100]\n",
    "\n",
    "suma_listas_big(a, b)"
   ]
  },
  {
   "cell_type": "markdown",
   "metadata": {},
   "source": [
    "# Ejercicio 6\n",
    "Crear una lista de enteros, inicializarlos según valores aleatorios en el rango 1..20 y computar la media de los valores, el valor más alto y el más bajo (todo ello utilizando listas). Utilizar las funciones para generación de números aleatorios de Python (https://docs.python.org/dev/library/random.html)"
   ]
  },
  {
   "cell_type": "code",
   "execution_count": null,
   "metadata": {},
   "outputs": [],
   "source": [
    "# Tal y como hemos visto en la documentación, importamos la librería random\n",
    "import random\n",
    "\n",
    "def random_stats(n):\n",
    "    \"\"\"\n",
    "    Función que a través de una lista de tamaño n, genera números\n",
    "    aleatorios comprendidos entre el rango [1 - 20] y devuelve la \n",
    "    media de los valores, el valor más alto y el más bajo.\n",
    "    :param n: int\n",
    "    :return: void\n",
    "    \"\"\"\n",
    "    lista_random = []\n",
    "    #Iteramos según el tamaño de lista especificado\n",
    "    for i in range(0, n):\n",
    "        #Podemos escoger cualquier tipo de generación de números \n",
    "        # aleatorios, en este caso escogemos la distribución uniforme,\n",
    "        # pero hay más opciones como randint.\n",
    "        lista_random.append(random.uniform(1,20))\n",
    "    \n",
    "    #Devolvemos los valores estadísticos\n",
    "    print(\"---------------------\")\n",
    "    print(\"El tamaño de la lista es: \",n)\n",
    "    print(\"La lista es: \",lista_random)\n",
    "    #Por el momento no importareos numpy para utilizar mean en el cálculo de la media\n",
    "    print(\"La media de la lista es: \", round(sum(lista_random)/len(lista_random),2))\n",
    "    print(\"El valor máximo de la lista es: \", max(lista_random))\n",
    "    print(\"El valor mínimo de la lista es: \", min(lista_random))\n",
    "    print(\"---------------------\")\n",
    "    \n",
    "random_stats(8)"
   ]
  },
  {
   "cell_type": "markdown",
   "metadata": {},
   "source": [
    "# Ejercicio 7\n",
    "Implementar una función que compruebe si una palabra es un palíndromo. Nota: una palabra es palíndromo si se escribe exactamente igual de la forma original, o al revés."
   ]
  },
  {
   "cell_type": "code",
   "execution_count": null,
   "metadata": {},
   "outputs": [],
   "source": [
    "def palindromo(frase):\n",
    "    \"\"\"\n",
    "    Función que recibe una frase y comprueba si es palíndromo.\n",
    "    Nota: Una palabra o frase palíndromo es aquella que se escribe igual en ambos sentidos Ej: Lavan esa base naval\n",
    "    :param frase: string\n",
    "    :return: bool\n",
    "    \"\"\"\n",
    "    \n",
    "    #Inicilizamos la frase en sentido contrario\n",
    "    frase_al_reves = \"\"\n",
    "    #Para que sean palíndromas, debemos suponer que no tienen espacios\n",
    "    # y que no sea sensibles a mayúsculas/minúsculas\n",
    "    frase_sin_espacios = frase.replace(\" \",\"\").lower()\n",
    "    \n",
    "    #Para utilizar un bucle for inverso, podemos utilizar\n",
    "    # la función reversed()\n",
    "    for i in reversed(range(0, len(frase_sin_espacios))):\n",
    "        frase_al_reves += frase_sin_espacios[i]\n",
    "    return frase_sin_espacios == frase_al_reves\n",
    "\n",
    "\n",
    "palindromo(\"Kayak\")"
   ]
  },
  {
   "cell_type": "code",
   "execution_count": null,
   "metadata": {},
   "outputs": [],
   "source": [
    "palindromo(\"Solo di sol a los idolos\")"
   ]
  },
  {
   "cell_type": "code",
   "execution_count": null,
   "metadata": {},
   "outputs": [],
   "source": [
    "palindromo(\"Yo hago yoga hoy\")"
   ]
  },
  {
   "cell_type": "code",
   "execution_count": null,
   "metadata": {},
   "outputs": [],
   "source": [
    "palindromo(\"Esta frase devuelve False\")"
   ]
  },
  {
   "cell_type": "markdown",
   "metadata": {},
   "source": [
    "# Ejercicio 8\n",
    "Crear una función que compruebe si dos cadenas de caracteres son iguales ecorriendo con un índice ambas cadenas (no puede utilizar cad1==cad2).\n",
    "\n",
    "En este ejercicio como es muy probable introducir cadenas de diferente longitud, vamos a utilizar el manejo de excepciones de índice"
   ]
  },
  {
   "cell_type": "code",
   "execution_count": null,
   "metadata": {},
   "outputs": [],
   "source": [
    "def compare_cadenas(cad1, cad2):\n",
    "    \"\"\"\n",
    "    Función que comprueba si dos cadenas son iguales\n",
    "    :param cad1: string\n",
    "    :param cad2: string\n",
    "    :return: bool\n",
    "    \"\"\"  \n",
    "    try:\n",
    "        #Inicilizamos el resultado a falso\n",
    "        result = False\n",
    "        #Eliminamos espacios\n",
    "        cad1 = cad1.replace(\" \", \"\")\n",
    "        cad2 = cad2.replace(\" \", \"\")\n",
    "\n",
    "        for i in range(len(cad1)):\n",
    "            if cad1[i].lower() == cad2[i].lower():\n",
    "                result = True\n",
    "        return result\n",
    "    except IndexError:\n",
    "        print(\"Error cadenas con longitudes diferentes\")\n",
    "\n",
    "    \n"
   ]
  },
  {
   "cell_type": "code",
   "execution_count": null,
   "metadata": {},
   "outputs": [],
   "source": [
    "compare_cadenas(\"Hola\", \"Adios\")"
   ]
  },
  {
   "cell_type": "code",
   "execution_count": null,
   "metadata": {},
   "outputs": [],
   "source": [
    "compare_cadenas(\"Hola\", \"hola\")"
   ]
  },
  {
   "cell_type": "code",
   "execution_count": null,
   "metadata": {},
   "outputs": [],
   "source": [
    "compare_cadenas(\"Hola\", \"Ho\")"
   ]
  },
  {
   "cell_type": "markdown",
   "metadata": {},
   "source": [
    "# Ejercicio 9\n",
    "Distribuir 20 datos enteros leídos por teclado en dos listas de tal manera que se vayan generando dos secuencias ordenadas, una creciente y otra decreciente."
   ]
  },
  {
   "cell_type": "code",
   "execution_count": null,
   "metadata": {},
   "outputs": [],
   "source": [
    "def insertar_descendente(num, lista):\n",
    "    \"\"\"\n",
    "    Inserta un numero en una lista, de manera descendente\n",
    "    :param num: int\n",
    "    :param lista: list[int], len = 20\n",
    "    :return: list[int], len = 20\n",
    "    \"\"\"\n",
    "    lista_salida = []\n",
    "    # Si la lista a esta vacia o el menor de la lista es mayor o igual que el numero a insertar\n",
    "    if len(lista) == 0:\n",
    "        lista_salida.append(num)\n",
    "    elif min(lista) >= num:\n",
    "        lista_salida = lista + [num]\n",
    "    # Si tiene mas elementos\n",
    "    else:\n",
    "        lista_salida = []\n",
    "        numero_insertado = False\n",
    "        for i in range(0, len(lista)):\n",
    "            # Si el numero es mas grande que el elemento y no ha sido colocado, colocarlo delante\n",
    "            if num >= lista[i] and numero_insertado is False:\n",
    "                lista_salida.append(num)\n",
    "                lista_salida.append(lista[i])\n",
    "                numero_insertado = True\n",
    "            # Si no, pasa al siguiente elemento\n",
    "            else:\n",
    "                lista_salida.append(lista[i])\n",
    "    return lista_salida"
   ]
  },
  {
   "cell_type": "code",
   "execution_count": null,
   "metadata": {},
   "outputs": [],
   "source": [
    "def insertar_ascendente(num, lista):\n",
    "    \"\"\"\n",
    "    Inserta un numero en una lista, de manera ascendente\n",
    "    :param num: int\n",
    "    :param lista: list[int], len = 20\n",
    "    :return: list[int], len = 20\n",
    "    \"\"\"\n",
    "    lista_salida = []\n",
    "    # Si la lista a esta vacia o el menor de la lista es mayor o igual que el numero a insertar\n",
    "    if len(lista) == 0:\n",
    "        lista_salida.append(num)\n",
    "    elif max(lista) <= num:\n",
    "        lista_salida = lista + [num]\n",
    "    # Si tiene mas elementos\n",
    "    else:\n",
    "        lista_salida = []\n",
    "        numero_insertado = False\n",
    "        for i in range(0, len(lista)):\n",
    "            # Si el numero es mas pequeno que el elemento y no ha sido colocado, colocarlo delante\n",
    "            if num <= lista[i] and numero_insertado is False:\n",
    "                lista_salida.append(num)\n",
    "                lista_salida.append(lista[i])\n",
    "                numero_insertado = True\n",
    "            # Si no, pasa al siguiente elemento\n",
    "            else:\n",
    "                lista_salida.append(lista[i])\n",
    "    return lista_salida"
   ]
  },
  {
   "cell_type": "code",
   "execution_count": null,
   "metadata": {},
   "outputs": [],
   "source": [
    "def generar_secuencias_ordenadas():\n",
    "    \"\"\"\n",
    "    Devuelve dos listas, la primera ordenada ascendente y la segunda descendente, en funcion de los\n",
    "    datos que inserte el usuario, y las muestra por pantalla\n",
    "    :return: void\n",
    "    \"\"\"\n",
    "    lista_asc = []\n",
    "    lista_desc = []\n",
    "    try:\n",
    "        for i in range(0, 20):\n",
    "            num = int(input(\"Introduce un número entero: \\n\"))\n",
    "            lista_asc = insertar_ascendente(num, lista_asc)\n",
    "            lista_desc = insertar_descendente(num, lista_desc)\n",
    "    except ValueError:\n",
    "        print(\"Error el número introducido no es un entero, inténtelo de nuevo.\")\n",
    "        \n",
    "    print(\"----------------\")\n",
    "    print(\"La lista ascendente es: \" + str(lista_asc))\n",
    "    print(\"La lista descendente es: \" + str(lista_desc))\n",
    "    print(\"----------------\")"
   ]
  },
  {
   "cell_type": "code",
   "execution_count": null,
   "metadata": {},
   "outputs": [],
   "source": [
    "generar_secuencias_ordenadas()"
   ]
  },
  {
   "cell_type": "markdown",
   "metadata": {},
   "source": [
    "# Ejercicio 10\n",
    "Escriba un programa que “codifique” una frase modificando todas las vocales según el siguiente código: a por 4, e por 3, i por 1, o por 0 y u por el símbolo #. Por ejemplo, la frase: “Un perro del hortelano”, deberá devolverse: “#n p3rr0 d3l h0rt3l4n0”."
   ]
  },
  {
   "cell_type": "code",
   "execution_count": null,
   "metadata": {},
   "outputs": [],
   "source": [
    "def codificar_frase(frase):\n",
    "    \"\"\"\n",
    "    Codifica una frase transformando: \n",
    "    - a por 4, \n",
    "    - e por 3, \n",
    "    - i por 1, \n",
    "    - o por 0, \n",
    "    - u por #\n",
    "    :param frase: string\n",
    "    :return: string\n",
    "    \"\"\"\n",
    "    codigo = {\n",
    "        'a': \"4\",\n",
    "        'e': \"3\",\n",
    "        'i': \"1\",\n",
    "        'o': \"0\",\n",
    "        'u': \"#\"\n",
    "    }\n",
    "    frase_codificada = \"\"\n",
    "    for i in range(0, len(frase)):\n",
    "        frase_codificada += codigo.get(frase[i].lower(), frase[i])\n",
    "    return frase_codificada"
   ]
  },
  {
   "cell_type": "code",
   "execution_count": null,
   "metadata": {},
   "outputs": [],
   "source": [
    "sentence = input(\"Introduce una frase\\n\")\n",
    "\n",
    "codificar_frase(sentence)"
   ]
  },
  {
   "cell_type": "markdown",
   "metadata": {},
   "source": [
    "# Ejercicio 11\n",
    "Crear un diccionario en python con parejas numero de tfno, nombre que represente una agenda telefónica. Posteriormente simular un manos libres, pidiendo al usuario “A quién desea llamar” y mostrando en pantalla el mensaje “Llamada al número XXX en curso” donde XXX seria el número telefónico de la persona elegida."
   ]
  },
  {
   "cell_type": "code",
   "execution_count": null,
   "metadata": {},
   "outputs": [],
   "source": [
    "def telefono(contacto):\n",
    "    \"\"\"\n",
    "    Función que recibe un diccionario de datos con números de teléfono y nombres\n",
    "    de usuarios, podemos elegir de forma simulada marcar a un usuario como\n",
    "    si fuera un teléfono manos libres.\n",
    "    :param dic: dictionary[string, int]\n",
    "    :return: void\n",
    "    \"\"\"\n",
    "    nombre = input(\"A quien desea llamar?: \")\n",
    "    telefono = contacto.get(nombre.upper(), \"\")\n",
    "    if telefono == \"\":\n",
    "        print(\"No existe ese nombre en la agenda.\")\n",
    "    else:\n",
    "        print(\"Llamando al numero \" + str(telefono) + \" en curso\")"
   ]
  },
  {
   "cell_type": "markdown",
   "metadata": {},
   "source": [
    "Generamos un diccionario de datos con números de teléfono"
   ]
  },
  {
   "cell_type": "code",
   "execution_count": null,
   "metadata": {},
   "outputs": [],
   "source": [
    "contactos = {\n",
    "    \"JUAN\": 654789102,\n",
    "    \"AMAYA\": 81456287,\n",
    "    \"AMALIA\": 78945325,\n",
    "    \"JAVIER\": 458876501,\n",
    "    \"ADRIAN\": 74564892,\n",
    "    \"ESTEFANIA\": 648730159,    \n",
    "}"
   ]
  },
  {
   "cell_type": "code",
   "execution_count": null,
   "metadata": {},
   "outputs": [],
   "source": [
    "telefono(contactos)"
   ]
  },
  {
   "cell_type": "markdown",
   "metadata": {},
   "source": [
    "# Ejercicio 12\n",
    "Escribir una función que reciba un tweet y retorne los hashtags en una lista"
   ]
  },
  {
   "cell_type": "code",
   "execution_count": null,
   "metadata": {},
   "outputs": [],
   "source": [
    "def hashtags(texto):\n",
    "    \"\"\"\n",
    "    Recibe una cadena de texto y posteriormente, devuelve una lista \n",
    "    con todas las palabras de la cadena de texto que sean un Hashtag.\n",
    "    Nota: Un hashtag es una etiqueta que comienza por #\n",
    "    :param tweet: string\n",
    "    :return: list[string], len = n\n",
    "    \"\"\"\n",
    "    #Vamos a obtener una lista con todos los hastag\n",
    "    etiquetas = []\n",
    "    #Separamos la cadena de texto entrante por espacios\n",
    "    palabras = texto.split(\" \")\n",
    "    \n",
    "    for palabra in palabras:\n",
    "        if palabra[0] == \"#\":\n",
    "            etiquetas.append(palabra)\n",
    "\n",
    "    return etiquetas"
   ]
  },
  {
   "cell_type": "code",
   "execution_count": null,
   "metadata": {},
   "outputs": [],
   "source": [
    "hashtags(\"#CurrentMood #PythonDeveloping #DataScience Learning Python from scratch\")"
   ]
  },
  {
   "cell_type": "markdown",
   "metadata": {},
   "source": [
    "# Ejercicio 13\n",
    "Escriba un programa que lea un archivo de texto y lo mete en una lista donde cada línea es una sublista\n",
    "\n",
    "Nota: Utilizar archivo DonQuijote.txt"
   ]
  },
  {
   "cell_type": "code",
   "execution_count": null,
   "metadata": {},
   "outputs": [],
   "source": [
    "def lector_ficheros(file):\n",
    "    \"\"\"\n",
    "    Lee el fichero de texto pasado por parametro y devuelve una lista donde cada\n",
    "    línea es una sublista.\n",
    "    :param file: string\n",
    "    :return: list[string], len = n\n",
    "    \"\"\"\n",
    "    \n",
    "    lista_lineas = []\n",
    "    sublista_linea = []\n",
    "    archivo = open(file, 'r')\n",
    "    for linea in archivo:\n",
    "        sublista_linea.append(linea)\n",
    "        lista_lineas.append(sublista_linea)\n",
    "        #Para cada línea reseteamos la lista vacía\n",
    "        sublista_linea = []\n",
    "    return lista_lineas"
   ]
  },
  {
   "cell_type": "code",
   "execution_count": null,
   "metadata": {},
   "outputs": [],
   "source": [
    "def pedir_fichero():\n",
    "    \"\"\"\n",
    "    Función que pide el nombre de un archivo y lo devuelve.\n",
    "    :param: None\n",
    "    :return: fichero: string\n",
    "    \"\"\"\n",
    "    archivo = input(\"Introduce el nombre del archivo\\n\")\n",
    "    if archivo == \"\":\n",
    "        print(\"Error, el archivo debe tener un nombre\")\n",
    "    return archivo"
   ]
  },
  {
   "cell_type": "code",
   "execution_count": null,
   "metadata": {},
   "outputs": [],
   "source": [
    "lector_ficheros(pedir_fichero())"
   ]
  },
  {
   "cell_type": "markdown",
   "metadata": {},
   "source": [
    "# Ejercicio 14\n",
    "Realizar un programa que lea palabras hasta que se introduzca “fin”, mostrando una estadística de las longitudes de las palabras, es decir, el número total de palabras de longitud 1 que se hayan introducido, el total de longitud 2, etc. La máxima longitud de las palabras deberá ser de 25 caracteres. Una posible salida de este programa sería:\n",
    "* Palabras longitud 1: 0\n",
    "* Palabras longitud 2: 10\n",
    "* ...\n",
    "* Palabras longitud 25: 1"
   ]
  },
  {
   "cell_type": "code",
   "execution_count": null,
   "metadata": {},
   "outputs": [],
   "source": [
    "def estadisticas_palabras():\n",
    "    \"\"\"\n",
    "    Función que obtiene estadísticas a través de palabras introducidas por el usuario.\n",
    "    Hasta que se introduce \"fin\".\n",
    "    :param: None\n",
    "    :return: void\n",
    "    \"\"\"\n",
    "    #Obtenemos una variable como parada del programa\n",
    "    parada = \"fin\"\n",
    "    \n",
    "    palabra_usuario = \"\"\n",
    "    #Guardamos todas las palabras en una lista\n",
    "    lista_palabras = []\n",
    "    while palabra_usuario != parada:\n",
    "        palabra_usuario = input(\"Introduce una palabra (max. 25 caracteres)\\n\")\n",
    "        if len(palabra_usuario) <= 25:\n",
    "            lista_palabras.append(palabra_usuario)\n",
    "        else:\n",
    "            print(\"La palabra introducida tiene una longitud mayor de 25 caracteres\")\n",
    "\n",
    "    contador = 0\n",
    "    for longitud in range(0, 26):\n",
    "        for palabra in lista_palabras:\n",
    "            if len(palabra) == longitud:\n",
    "                contador += 1\n",
    "        print (\"Palabras de longitud \" + str(longitud) + \": \" + str(contador))\n",
    "        contador = 0"
   ]
  },
  {
   "cell_type": "code",
   "execution_count": null,
   "metadata": {},
   "outputs": [],
   "source": [
    "estadisticas_palabras()"
   ]
  }
 ],
 "metadata": {
  "kernelspec": {
   "display_name": "Python 3",
   "language": "python",
   "name": "python3"
  },
  "language_info": {
   "codemirror_mode": {
    "name": "ipython",
    "version": 3
   },
   "file_extension": ".py",
   "mimetype": "text/x-python",
   "name": "python",
   "nbconvert_exporter": "python",
   "pygments_lexer": "ipython3",
   "version": "3.7.6"
  }
 },
 "nbformat": 4,
 "nbformat_minor": 2
}
