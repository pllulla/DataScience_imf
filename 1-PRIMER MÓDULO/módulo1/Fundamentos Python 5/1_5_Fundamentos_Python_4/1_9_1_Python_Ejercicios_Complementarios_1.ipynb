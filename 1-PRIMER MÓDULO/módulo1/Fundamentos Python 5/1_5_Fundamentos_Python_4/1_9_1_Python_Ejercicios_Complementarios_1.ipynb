{
 "cells": [
  {
   "cell_type": "markdown",
   "metadata": {},
   "source": [
    "# Ejercicio 1\n",
    "Función que retorne el mayor de dos números o 0 si son iguales"
   ]
  },
  {
   "cell_type": "code",
   "execution_count": null,
   "metadata": {},
   "outputs": [],
   "source": [
    "def retorno(a,b):\n",
    "    if a == b:\n",
    "        return 0\n",
    "    elif a < b:\n",
    "        return b\n",
    "    else:\n",
    "        return a"
   ]
  },
  {
   "cell_type": "code",
   "execution_count": null,
   "metadata": {},
   "outputs": [],
   "source": [
    "retorno(8,1)"
   ]
  },
  {
   "cell_type": "markdown",
   "metadata": {},
   "source": [
    "# Ejercicio 2\n",
    "Función que determine si una persona es mayor de edad o no (pista: el retorno debe ser un valor booleano)"
   ]
  },
  {
   "cell_type": "code",
   "execution_count": null,
   "metadata": {},
   "outputs": [],
   "source": [
    "def mayoredad():\n",
    "    maxEdad = 18\n",
    "    edad = int(input(\"Introduce tu edad: \\n\"))\n",
    "    if (edad >= maxEdad):\n",
    "        return True\n",
    "    else:\n",
    "        return False"
   ]
  },
  {
   "cell_type": "code",
   "execution_count": null,
   "metadata": {},
   "outputs": [],
   "source": [
    "mayoredad()"
   ]
  },
  {
   "cell_type": "markdown",
   "metadata": {},
   "source": [
    "# Ejercicio 3\n",
    "Programar una función que determine si una empresa es microempresa o no (retorno booleano –True o False–). Se dice que es microempresa si tiene menos de 50 empleados, factura menos de 30 milones de euros y tiene un balance igual o inferior a los 5 millones de euros."
   ]
  },
  {
   "cell_type": "code",
   "execution_count": null,
   "metadata": {},
   "outputs": [],
   "source": [
    "#Opción 1 pidiendo parámetros por teclado\n",
    "def microempresa1():\n",
    "    #Pedimos parámetros\n",
    "    empleados = int(input(\"Introduce el número de empleados: \\n\"))\n",
    "    facturacion = int(input(\"Introduce la facturación anual: (en millones de €) \\n\"))\n",
    "    balance = int(input(\"Introduce el valor del balance: (en millones de €) \\n\"))\n",
    "    \n",
    "    #Verificamos si es microempresa o no\n",
    "    maxEmpleados = 50\n",
    "    maxFacturacion = 30\n",
    "    maxBalance = 5\n",
    "    \n",
    "    if (empleados < maxEmpleados) | (facturacion < maxFacturacion) | (balance < maxBalance):\n",
    "        return False\n",
    "    else: \n",
    "        return True\n",
    "    "
   ]
  },
  {
   "cell_type": "code",
   "execution_count": null,
   "metadata": {},
   "outputs": [],
   "source": [
    "microempresa1()"
   ]
  },
  {
   "cell_type": "code",
   "execution_count": null,
   "metadata": {},
   "outputs": [],
   "source": [
    "#Opción 2 utilizando parámetros de entrada\n",
    "def microempresa2(empleados, facturacion, balance):\n",
    "    maxEmpleados = 50\n",
    "    maxFacturacion = 30\n",
    "    maxBalance = 5\n",
    "    \n",
    "    if (empleados < maxEmpleados) or (facturacion < maxFacturacion) or (balance < maxBalance):\n",
    "        return False\n",
    "    else: \n",
    "        return True    "
   ]
  },
  {
   "cell_type": "code",
   "execution_count": null,
   "metadata": {},
   "outputs": [],
   "source": [
    "microempresa2(60, 60, 8)"
   ]
  },
  {
   "cell_type": "markdown",
   "metadata": {},
   "source": [
    "# Ejercicio 4\n",
    "Calcular el impuesto que debe pagar un contribuyente a partir de sus ingresos anuales y el número de hijos. El impuesto a pagar es un tercio del ingreso imponible, siendo este último igual a los ingresos totales menos una deducción personal de 600€ y otra deducción de 60€ por hijo."
   ]
  },
  {
   "cell_type": "code",
   "execution_count": null,
   "metadata": {},
   "outputs": [],
   "source": [
    "ing = int(input(\"Introduce tus ingresos anuales: \\n\"))\n",
    "n = int(input(\"Introduce el número de hijos: \\n\"))"
   ]
  },
  {
   "cell_type": "code",
   "execution_count": null,
   "metadata": {},
   "outputs": [],
   "source": [
    "def calculoImpuesto(ingresos, nhijos):\n",
    "    deduccionPersonal = 600\n",
    "    deduccionHijo = 60\n",
    "    \n",
    "    #Calculamos impuesto\n",
    "    impuesto = round((ingresos-deduccionPersonal-(deduccionHijo*nhijos))/3,2)\n",
    "    return impuesto\n",
    "    "
   ]
  },
  {
   "cell_type": "code",
   "execution_count": null,
   "metadata": {},
   "outputs": [],
   "source": [
    "print(\"Impuesto total a pagar por el contribuyente: \")\n",
    "calculoImpuesto(ing, n)"
   ]
  },
  {
   "cell_type": "markdown",
   "metadata": {},
   "source": [
    "# Ejercicio 5\n",
    "La temperatura expresada en grados centígrados TC, se puede convertir a grados Fahrenheit (TF) mediante la siguiente fórmula: TF = 9*TC/5 + 32. Programa una función para hacer esta transformación que reciba como argumento la temperatura en grados centígrados y retorne su equivalente en Farenheit."
   ]
  },
  {
   "cell_type": "code",
   "execution_count": null,
   "metadata": {},
   "outputs": [],
   "source": [
    "def celsiusToFahrenheit(temp):\n",
    "    TF = (9*temp)/5+32\n",
    "    return(TF)"
   ]
  },
  {
   "cell_type": "code",
   "execution_count": null,
   "metadata": {},
   "outputs": [],
   "source": [
    "celsiusToFahrenheit(18)"
   ]
  },
  {
   "cell_type": "markdown",
   "metadata": {
    "collapsed": true
   },
   "source": [
    "# Ejercicio 6\n",
    "Escribir una función Python que a partir de una cierta cantidad en euros y del tipo de cambio del día, retorne el equivalente en libras teniendo en cuenta que la casa de cambio retiene una comisión del 2% sobre el total de la operación"
   ]
  },
  {
   "cell_type": "code",
   "execution_count": null,
   "metadata": {},
   "outputs": [],
   "source": [
    "def cambioDivisa():\n",
    "    cantidad = float(input(\"Introduce la cantidad en €: \\n\"))\n",
    "    \n",
    "    #Variables para el cambio\n",
    "    cambioLibra = 0.88924053 \n",
    "    comision = 0.02\n",
    "    \n",
    "    #Obtenemos el valor en libras\n",
    "    libras = round((cantidad*cambioLibra)-((cantidad*cambioLibra)*comision),2)\n",
    "    print(\"El cambio a libras por \", cantidad, \"es: \")\n",
    "    return libras\n",
    "    "
   ]
  },
  {
   "cell_type": "code",
   "execution_count": null,
   "metadata": {},
   "outputs": [],
   "source": [
    "cambioDivisa()"
   ]
  },
  {
   "cell_type": "markdown",
   "metadata": {
    "collapsed": true
   },
   "source": [
    "# Ejercicio 7\n",
    "Función que pinte una línea de asteriscos en pantalla"
   ]
  },
  {
   "cell_type": "code",
   "execution_count": null,
   "metadata": {},
   "outputs": [],
   "source": [
    "def stars():\n",
    "    print(\"*************\")"
   ]
  },
  {
   "cell_type": "code",
   "execution_count": null,
   "metadata": {},
   "outputs": [],
   "source": [
    "stars()"
   ]
  },
  {
   "cell_type": "markdown",
   "metadata": {},
   "source": [
    "# Ejercicio 8\n",
    "Programe un módulo en Python que reutilizando la función anterior muestre nuestros datos en pantalla con formato banner tal y como se representa abajo:\n",
    "\n",
    "\\*\\*\\*\\*\\*\\*\\*\\*\\*\\*\\*\\*\\*\\*\\*\\*\\*\\*\\*\\*\\*\\*\\*\n",
    "\n",
    "Autor: Juan Manuel Moreno\n",
    "\n",
    "Email: juanmanuelmoreno@imfbigdata.com\n",
    "\n",
    "\\*\\*\\*\\*\\*\\*\\*\\*\\*\\*\\*\\*\\*\\*\\*\\*\\*\\*\\*\\*\\*\\*\\*"
   ]
  },
  {
   "cell_type": "code",
   "execution_count": null,
   "metadata": {},
   "outputs": [],
   "source": [
    "def banner():\n",
    "    #Pedimos el nombre completo para formar email\n",
    "    nombre = input(\"Introduce tu nombre y apellidos: \\n\")\n",
    "    mail = str(nombre.replace(\" \", \"\").lower()+\"@imfbigdata.com\")\n",
    "    print(\"\\n\")\n",
    "    \n",
    "    #Mostramos el banner\n",
    "    stars()\n",
    "    print(\"Autor: \", nombre)\n",
    "    print(\"Email: \", mail)\n",
    "    stars()"
   ]
  },
  {
   "cell_type": "code",
   "execution_count": null,
   "metadata": {},
   "outputs": [],
   "source": [
    "banner()"
   ]
  },
  {
   "cell_type": "markdown",
   "metadata": {},
   "source": [
    "# Ejercicio 9\n",
    "Utilizando funciones, calcule el perímetro y el área de un círculo cuyo radio es proporcionado por el usuario"
   ]
  },
  {
   "cell_type": "code",
   "execution_count": null,
   "metadata": {},
   "outputs": [],
   "source": [
    "rad = float(input(\"Introduce el radio de la circunferencia: \\n\"))\n",
    "\n",
    "def circulo(radio):\n",
    "    #También podríamos con from math import pi\n",
    "    pi = 3.1416\n",
    "    area = round(pi*(radio**2),3)\n",
    "    perimetro = round(2*pi*radio,3)\n",
    "    return (\n",
    "        (print(\"Perímetro de la circunferencia: \",perimetro)), \n",
    "        (print(\"Area del círculo: \", area))\n",
    "    )\n",
    "\n",
    "circulo(rad)\n",
    "    "
   ]
  },
  {
   "cell_type": "markdown",
   "metadata": {},
   "source": [
    "# Ejercicio 10\n",
    "Escribamos un programa para solicitar al usuario el numero de horas y el precio por hora con vistas a calcular su salario bruto. Las horas que sobrepasen 40 se considerarán extra y pagadas a 1,5 veces el precio de la hora regular."
   ]
  },
  {
   "cell_type": "code",
   "execution_count": null,
   "metadata": {},
   "outputs": [],
   "source": [
    "horas_trabajadas = int(input(\"Introduce tus horas trabajadas: \\n\"))\n",
    "precio_hora = float(input(\"Introduce el precio en €/hora: \\n\"))\n",
    "\n",
    "def calculo_horas(horas, precio):\n",
    "    extra = 40\n",
    "    #Calculamos el precio\n",
    "    if horas > extra:\n",
    "                #Parte de las horas extra.\n",
    "        # restamos a las horas totales 40 horas para saber cuántas son extras\n",
    "        # divimos el precio de la hora entre 2 para saber cúanto sería la mitad del\n",
    "        # precio por hora y lo sumamos al precio de hora para obtener las horas\n",
    "        # pagadas a 1.5, posteriormente lo sumamos al precio normal de las 40 horas\n",
    "        # restantes\n",
    "        salario_bruto = ((horas-extra)*((precio/2)+precio))+(extra*precio)        \n",
    "    else:\n",
    "        # No pasa de 40 horas\n",
    "        salario_bruto = horas*precio\n",
    "    return (print(\"Salario bruto mensual: \",salario_bruto, \"€\"))\n",
    "\n",
    "calculo_horas(horas_trabajadas, precio_hora)"
   ]
  },
  {
   "cell_type": "markdown",
   "metadata": {},
   "source": [
    "# Ejercicio 11\n",
    "Programar una función que determine si un número es par o impar. La función debe retornar verdadero o falso haciendo uso de valores booleanos."
   ]
  },
  {
   "cell_type": "code",
   "execution_count": null,
   "metadata": {},
   "outputs": [],
   "source": [
    "def par_impar(n):\n",
    "    if n%2==0:\n",
    "        return True\n",
    "    else:\n",
    "        return False"
   ]
  },
  {
   "cell_type": "code",
   "execution_count": null,
   "metadata": {},
   "outputs": [],
   "source": [
    "#Al devolver la función anterior un valor booleano, podemos tratarla \n",
    "# mediante sentencias condicionales, es decir, si se cumple la función\n",
    "# devolvemos que es par, de lo contrario que es impar\n",
    "\n",
    "if par_impar(5):\n",
    "    print(\"El número introducido es par\")\n",
    "else:\n",
    "    print(\"El número introducido es impar\")"
   ]
  },
  {
   "cell_type": "markdown",
   "metadata": {},
   "source": [
    "# Ejercicio 12\n",
    "Programar una función que determine si una letra es vocal o no."
   ]
  },
  {
   "cell_type": "code",
   "execution_count": null,
   "metadata": {},
   "outputs": [],
   "source": [
    "letter = input(\"Introduce una letra: \\n\")\n",
    "\n",
    "def vocal_control(letra):\n",
    "    vocales = [\"a\",\"e\",\"i\",\"o\",\"u\"]\n",
    "    \n",
    "    #Primero realizamos un control en la letra introducida, por si\n",
    "    # se introduce más de una\n",
    "    if len(letra)>1:\n",
    "        return print(\"Has introducido más de una letra, repítelo de nuevo\")\n",
    "    else: #Controlamos que si una vocal introducida es mayúscula, se encuentre también\n",
    "        if letra.lower() in vocales:\n",
    "            return print(\"El caracter introducido \", letra, \" es vocal\")\n",
    "        else:\n",
    "            return print(\"El caracter introducido \", letra, \" NO es vocal\")\n",
    "        \n",
    "vocal_control(letter)"
   ]
  },
  {
   "cell_type": "markdown",
   "metadata": {
    "collapsed": true
   },
   "source": [
    "# Ejercicio 13\n",
    "Programar una función en Python que a partir de un número entero entre 1 y 7 que recibe como argumento retorne el día de la semana que corresponda, y un mensaje de error si el número no está entre 1 y 7."
   ]
  },
  {
   "cell_type": "code",
   "execution_count": null,
   "metadata": {},
   "outputs": [],
   "source": [
    "d = int(input(\"Introduce el día de la semana: \\n\"))\n",
    "\n",
    "def week_day(day):\n",
    "    #Para los días vamos a utilizar un diccionario de datos\n",
    "    dias = {1:'LUNES',\n",
    "            2:'MARTES',\n",
    "            3:'MIERCOLES',\n",
    "            4:'JUEVES',\n",
    "            5:'VIERNES',\n",
    "            6:'SABADO',\n",
    "            7:'DOMINGO'          \n",
    "           }\n",
    "    if (day<1) or (day>7):\n",
    "        return print(\"El día de la semana introducido no es válido, debe estar comprendido entre 1 y 7 \\n\")\n",
    "    elif day in dias.keys():\n",
    "        return print(\"El día introducido\", day, \"corresponde con: \", dias.get(day))\n",
    "\n",
    "week_day(d)"
   ]
  },
  {
   "cell_type": "markdown",
   "metadata": {},
   "source": [
    "# Ejercicio 14\n",
    "Función que recibe un número y que muestre la tabla de multiplicar de ese número (hasta 10)"
   ]
  },
  {
   "cell_type": "code",
   "execution_count": null,
   "metadata": {},
   "outputs": [],
   "source": [
    "def multiplicar(num):\n",
    "    #Utilizamos range(), hemos de tener cuidado con range ya que especificamos el \n",
    "    # número exacto de dígitos vamos a imprimir y de 0 a 10 son 11 dígitos\n",
    "    for i in range(0, 11):\n",
    "        print(str(num)+\"*\"+str(i)+\" = \"+str(num*i))\n",
    "\n",
    "multiplicar(7)"
   ]
  },
  {
   "cell_type": "markdown",
   "metadata": {},
   "source": [
    "# Ejercicio 15\n",
    "Función que suma todos los elementos del 1 al 200 que sean múltiplos de 3 o de 5"
   ]
  },
  {
   "cell_type": "code",
   "execution_count": null,
   "metadata": {},
   "outputs": [],
   "source": [
    "def multi_sum():\n",
    "    # Inicialmente la suma no contiene valor, la inicializamos\n",
    "    suma = 0\n",
    "    for i in range(1, 201):\n",
    "        if (i%3==0) or (i%5==0):\n",
    "            suma += i\n",
    "    return print(\"La suma de todos los números múltiplos de 3 o de 5 es: \", suma)\n",
    "\n",
    "multi_sum()"
   ]
  },
  {
   "cell_type": "markdown",
   "metadata": {},
   "source": [
    "# Ejercicio 16\n",
    "Función que devuelve la suma de los primeros 50 números que cumplen la condición de ser múltiplo de 3 o de 5"
   ]
  },
  {
   "cell_type": "code",
   "execution_count": null,
   "metadata": {},
   "outputs": [],
   "source": [
    "def multi_sum_fifty():\n",
    "    #Comenzamos por 1 y vamos aumentando en una unidad\n",
    "    num = 1\n",
    "    #Necesitamos un contador para monitorizar cuándo obtenemos los 50\n",
    "    # primeros números en ser múltiplo de 3 ó 5.\n",
    "    contador = 0\n",
    "    #De nuevo inicilizamos la suma\n",
    "    suma = 0\n",
    "    while contador < 50:\n",
    "        if (num%3==0) or (num%5==0):\n",
    "            suma += num\n",
    "            contador += 1\n",
    "        num += 1\n",
    "    return print(\"La suma de los primeros 50 números que son múltiplos de 3 o de 5 es: \", suma)\n",
    "    \n",
    "multi_sum_fifty()"
   ]
  }
 ],
 "metadata": {
  "kernelspec": {
   "display_name": "Python 3",
   "language": "python",
   "name": "python3"
  },
  "language_info": {
   "codemirror_mode": {
    "name": "ipython",
    "version": 3
   },
   "file_extension": ".py",
   "mimetype": "text/x-python",
   "name": "python",
   "nbconvert_exporter": "python",
   "pygments_lexer": "ipython3",
   "version": "3.7.6"
  }
 },
 "nbformat": 4,
 "nbformat_minor": 2
}
