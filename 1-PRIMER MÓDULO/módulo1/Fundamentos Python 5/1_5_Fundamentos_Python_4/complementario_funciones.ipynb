{
 "cells": [
  {
   "cell_type": "code",
   "execution_count": 1,
   "id": "d4e6159e",
   "metadata": {},
   "outputs": [],
   "source": [
    "lista_1 = [1,100,2,22,200,54,78]"
   ]
  },
  {
   "cell_type": "code",
   "execution_count": 2,
   "id": "7d3fd1bb",
   "metadata": {},
   "outputs": [],
   "source": [
    "suma = 0\n",
    "for num in lista_1:\n",
    "    suma += num\n",
    "    \n",
    "media = round(suma/len(lista_1),2)\n",
    "longitud_1 = len(lista_1)"
   ]
  },
  {
   "cell_type": "code",
   "execution_count": 3,
   "id": "ef5e1f98",
   "metadata": {},
   "outputs": [],
   "source": [
    "lista_2 = [7,8,9,45,6565,23]"
   ]
  },
  {
   "cell_type": "code",
   "execution_count": 4,
   "id": "f674cd9a",
   "metadata": {},
   "outputs": [
    {
     "name": "stdout",
     "output_type": "stream",
     "text": [
      "La media es:  1109.5\n"
     ]
    }
   ],
   "source": [
    "suma = 0\n",
    "for num in lista_2:\n",
    "    suma += num\n",
    "    \n",
    "media_dos = round(suma/len(lista_2),2)\n",
    "\n",
    "print(\"La media es: \", media_dos)"
   ]
  },
  {
   "cell_type": "code",
   "execution_count": 5,
   "id": "7f805bfe",
   "metadata": {},
   "outputs": [],
   "source": [
    "lista_3 = [123,456,789,852,741,963]"
   ]
  },
  {
   "cell_type": "code",
   "execution_count": 6,
   "id": "1a926150",
   "metadata": {},
   "outputs": [
    {
     "name": "stdout",
     "output_type": "stream",
     "text": [
      "La media es:  654.0\n"
     ]
    }
   ],
   "source": [
    "suma = 0\n",
    "for num in lista_3:\n",
    "    suma += num\n",
    "    \n",
    "media_tres = round(suma/len(lista_3),2)\n",
    "\n",
    "print(\"La media es: \", media_tres)"
   ]
  },
  {
   "cell_type": "code",
   "execution_count": null,
   "id": "46e05bbb",
   "metadata": {},
   "outputs": [],
   "source": []
  },
  {
   "cell_type": "code",
   "execution_count": 7,
   "id": "0162226f",
   "metadata": {},
   "outputs": [],
   "source": [
    "def calcular_media(lista):\n",
    "    \n",
    "    # La suma debe ser cero, inicializamos suma\n",
    "    suma = 0\n",
    "    \n",
    "    for num in lista:\n",
    "        suma = suma + num\n",
    "        \n",
    "    media = suma/len(lista)\n",
    "        \n",
    "    return media"
   ]
  },
  {
   "cell_type": "code",
   "execution_count": 9,
   "id": "5451aae5",
   "metadata": {},
   "outputs": [],
   "source": [
    "def recopilar_medias(lista_de_listas):\n",
    "    \n",
    "    resultados = []\n",
    "    \n",
    "    for lista in lista_de_listas:\n",
    "        resultados.append(calcular_media(lista=lista))\n",
    "        \n",
    "    return resultados\n",
    "        "
   ]
  },
  {
   "cell_type": "code",
   "execution_count": 10,
   "id": "82a6f146",
   "metadata": {},
   "outputs": [],
   "source": [
    "data = [\n",
    "    lista_1,\n",
    "    lista_2,\n",
    "    lista_3\n",
    "]"
   ]
  },
  {
   "cell_type": "code",
   "execution_count": 11,
   "id": "5d2719c8",
   "metadata": {},
   "outputs": [
    {
     "data": {
      "text/plain": [
       "[65.28571428571429, 1109.5, 654.0]"
      ]
     },
     "execution_count": 11,
     "metadata": {},
     "output_type": "execute_result"
    }
   ],
   "source": [
    "recopilar_medias(lista_de_listas=data)"
   ]
  },
  {
   "cell_type": "code",
   "execution_count": 15,
   "id": "de880ec5",
   "metadata": {},
   "outputs": [
    {
     "data": {
      "text/plain": [
       "[7, 8, 9, 45, 6565, 23]"
      ]
     },
     "execution_count": 15,
     "metadata": {},
     "output_type": "execute_result"
    }
   ],
   "source": [
    "data[1]"
   ]
  },
  {
   "cell_type": "code",
   "execution_count": 22,
   "id": "911d9966",
   "metadata": {},
   "outputs": [
    {
     "data": {
      "text/plain": [
       "65.28571428571429"
      ]
     },
     "execution_count": 22,
     "metadata": {},
     "output_type": "execute_result"
    }
   ],
   "source": [
    "calcular_media(lista=data[0])"
   ]
  },
  {
   "cell_type": "code",
   "execution_count": null,
   "id": "770f7085",
   "metadata": {},
   "outputs": [],
   "source": []
  }
 ],
 "metadata": {
  "kernelspec": {
   "display_name": "Python 3 (ipykernel)",
   "language": "python",
   "name": "python3"
  },
  "language_info": {
   "codemirror_mode": {
    "name": "ipython",
    "version": 3
   },
   "file_extension": ".py",
   "mimetype": "text/x-python",
   "name": "python",
   "nbconvert_exporter": "python",
   "pygments_lexer": "ipython3",
   "version": "3.10.9"
  }
 },
 "nbformat": 4,
 "nbformat_minor": 5
}
