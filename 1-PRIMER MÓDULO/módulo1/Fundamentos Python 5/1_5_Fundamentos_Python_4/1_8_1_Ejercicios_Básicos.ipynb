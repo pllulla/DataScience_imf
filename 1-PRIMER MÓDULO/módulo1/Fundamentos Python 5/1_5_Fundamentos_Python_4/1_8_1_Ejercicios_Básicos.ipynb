{
 "cells": [
  {
   "cell_type": "markdown",
   "metadata": {},
   "source": [
    "# DATA SCIENCE & BUSINESS ANALYTICS PARA PROFESIONALES\n",
    "\n",
    "## NOTEBOOK 1 - Fundamentos de Python (Sintaxis, operadores, estructuras de datos y funciones)"
   ]
  },
  {
   "cell_type": "markdown",
   "metadata": {},
   "source": [
    "## EJERCICIO 1\n",
    "\n",
    "Dada la siguiente secuencia de números:"
   ]
  },
  {
   "cell_type": "code",
   "execution_count": null,
   "metadata": {},
   "outputs": [],
   "source": [
    "numbers = [0, 1, 2, 3, 4, 5, 6, 7, 8, 9, 10, 11, 12, 13, 14, 15, 16, 17, 18, 19, 20]"
   ]
  },
  {
   "cell_type": "markdown",
   "metadata": {},
   "source": [
    "Escribe un programa que devuelva dos listas: Una lista con todos los números pares y, otra lista con todos los números impares, la lista de números impares tendrá todos sus valores multiplicados por tres."
   ]
  },
  {
   "cell_type": "code",
   "execution_count": null,
   "metadata": {},
   "outputs": [],
   "source": [
    "5 % 2 == 0"
   ]
  },
  {
   "cell_type": "code",
   "execution_count": null,
   "metadata": {},
   "outputs": [],
   "source": [
    "impares = []\n",
    "pares = []\n",
    "\n",
    "for numero in numbers:\n",
    "    if numero % 2 == 0:\n",
    "        pares.append(numero)\n",
    "    else:\n",
    "#         valor_a_guardar = numero * 3  \n",
    "        impares.append(numero * 3 )"
   ]
  },
  {
   "cell_type": "code",
   "execution_count": null,
   "metadata": {},
   "outputs": [],
   "source": [
    "print(pares)"
   ]
  },
  {
   "cell_type": "code",
   "execution_count": null,
   "metadata": {},
   "outputs": [],
   "source": [
    "print(impares)"
   ]
  },
  {
   "cell_type": "markdown",
   "metadata": {},
   "source": [
    "## EJERCICIO 2\n",
    "\n",
    "Escribe un programa que vaya leyendo desde teclado (con input) una serie de palabras hasta que se introduzca la palabra 'FIN'. Una vez finalice la ejecución del programa,se devolverá la longitud de la palabra con el mayor número de caracteres y, la media de la longitud de las palabras introducidas por el usuario."
   ]
  },
  {
   "cell_type": "code",
   "execution_count": null,
   "metadata": {},
   "outputs": [],
   "source": [
    "'hola'.upper()"
   ]
  },
  {
   "cell_type": "code",
   "execution_count": null,
   "metadata": {},
   "outputs": [],
   "source": [
    "'HoLa'.lower()"
   ]
  },
  {
   "cell_type": "code",
   "execution_count": null,
   "metadata": {},
   "outputs": [],
   "source": [
    "palabra_stop = 'FIN'\n",
    "palabra_entrada = ''\n",
    "lista_longitudes = []\n",
    "lista_palabras = []\n",
    "\n",
    "while palabra_entrada.lower() != palabra_stop.lower():\n",
    "    \n",
    "    # Solicitamos palabra\n",
    "    palabra_entrada = str(input('Introduce una palabra '))\n",
    "    \n",
    "    lista_longitudes.append(len(palabra_entrada))\n",
    "    lista_palabras.append(palabra_entrada)\n",
    "    \n",
    "    "
   ]
  },
  {
   "cell_type": "code",
   "execution_count": null,
   "metadata": {},
   "outputs": [],
   "source": [
    "lista_palabras"
   ]
  },
  {
   "cell_type": "code",
   "execution_count": null,
   "metadata": {},
   "outputs": [],
   "source": [
    "lista_longitudes"
   ]
  },
  {
   "cell_type": "code",
   "execution_count": null,
   "metadata": {},
   "outputs": [],
   "source": [
    "max(lista_longitudes)"
   ]
  },
  {
   "cell_type": "code",
   "execution_count": null,
   "metadata": {},
   "outputs": [],
   "source": [
    "suma = 0\n",
    "\n",
    "for item in lista_longitudes:\n",
    "    suma = suma + item \n",
    "    \n",
    "media = suma / len(lista_longitudes)\n",
    "\n",
    "\n",
    "print(media)"
   ]
  },
  {
   "cell_type": "code",
   "execution_count": null,
   "metadata": {},
   "outputs": [],
   "source": [
    "print('La longitud de palabra más larga --> ', max(lista_longitudes))\n",
    "print('Media de la longitud de palabras introducidas --> ', media)"
   ]
  },
  {
   "cell_type": "markdown",
   "metadata": {},
   "source": [
    "## EJERCICIO 3\n",
    "\n",
    "Realiza un programa modular (con funciones) que reciba un conjunto de número en una tupla y devuelva un diccionario con su media, varianza, desviación típica y longitud de la tupla."
   ]
  },
  {
   "cell_type": "code",
   "execution_count": null,
   "metadata": {},
   "outputs": [],
   "source": [
    "mi_tupla = (2, 80, 90, 120, 300, 400, 245, 831, 12, 532, 54)\n",
    "mi_tupla_dos = (1, 2, 3, 4, 5, 6, 7)"
   ]
  },
  {
   "cell_type": "code",
   "execution_count": null,
   "metadata": {},
   "outputs": [],
   "source": [
    "def funcion_media(tupla):\n",
    "    \n",
    "    suma = 0\n",
    "\n",
    "    for item in tupla:\n",
    "        suma = suma + item \n",
    "\n",
    "    media = suma / len(tupla)\n",
    "    \n",
    "    return media"
   ]
  },
  {
   "cell_type": "code",
   "execution_count": null,
   "metadata": {},
   "outputs": [],
   "source": [
    "def funcion_varianza(tupla):\n",
    "    \n",
    "    sumatorio = 0\n",
    "    \n",
    "    for item in tupla:\n",
    "        sumatorio = sumatorio + (item ** 2)\n",
    "        \n",
    "    varianza = (sumatorio/len(tupla)) - (funcion_media(tupla=tupla) ** 2)\n",
    "    \n",
    "    return round(varianza, 2)"
   ]
  },
  {
   "cell_type": "code",
   "execution_count": null,
   "metadata": {},
   "outputs": [],
   "source": [
    "import math"
   ]
  },
  {
   "cell_type": "code",
   "execution_count": null,
   "metadata": {},
   "outputs": [],
   "source": [
    "def funcion_desviacion_tipica(valor_varianza):\n",
    "    return round(math.sqrt(valor_varianza),2)"
   ]
  },
  {
   "cell_type": "code",
   "execution_count": null,
   "metadata": {},
   "outputs": [],
   "source": [
    "media = funcion_media(tupla=mi_tupla_dos)\n",
    "varianza = funcion_varianza(tupla=mi_tupla_dos)\n",
    "desv = funcion_desviacion_tipica(valor_varianza=varianza)"
   ]
  },
  {
   "cell_type": "code",
   "execution_count": null,
   "metadata": {},
   "outputs": [],
   "source": [
    "print(media)\n",
    "print(varianza)\n",
    "print(desv)"
   ]
  },
  {
   "cell_type": "code",
   "execution_count": null,
   "metadata": {},
   "outputs": [],
   "source": [
    "def create_dictionary(valor_media, valor_desv, valor_varianza, tupla):\n",
    "    stats_dict = {}\n",
    "    \n",
    "    stats_dict['MEDIA'] = valor_media\n",
    "    stats_dict['VARIANZA'] = valor_varianza\n",
    "    stats_dict['DESVIACION TIPICA'] = valor_desv\n",
    "    stats_dict['LONGITUD TUPLA'] = len(tupla)\n",
    "    \n",
    "    return stats_dict"
   ]
  },
  {
   "cell_type": "code",
   "execution_count": null,
   "metadata": {},
   "outputs": [],
   "source": [
    "diccionario_stats = create_dictionary(valor_media=media, valor_desv=desv, valor_varianza=varianza, tupla=mi_tupla_dos)"
   ]
  },
  {
   "cell_type": "code",
   "execution_count": null,
   "metadata": {},
   "outputs": [],
   "source": [
    "diccionario_stats['VARIANZA']"
   ]
  }
 ],
 "metadata": {
  "kernelspec": {
   "display_name": "Python 3",
   "language": "python",
   "name": "python3"
  },
  "language_info": {
   "codemirror_mode": {
    "name": "ipython",
    "version": 3
   },
   "file_extension": ".py",
   "mimetype": "text/x-python",
   "name": "python",
   "nbconvert_exporter": "python",
   "pygments_lexer": "ipython3",
   "version": "3.7.6"
  }
 },
 "nbformat": 4,
 "nbformat_minor": 4
}
