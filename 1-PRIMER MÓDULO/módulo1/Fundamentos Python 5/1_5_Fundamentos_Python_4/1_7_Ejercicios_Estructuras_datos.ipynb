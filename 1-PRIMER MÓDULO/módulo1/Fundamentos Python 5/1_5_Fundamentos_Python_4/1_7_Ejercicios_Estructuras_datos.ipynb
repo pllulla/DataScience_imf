{
 "cells": [
  {
   "cell_type": "markdown",
   "metadata": {},
   "source": [
    "# Fundamentos de Python\n",
    "\n",
    "# Ejercicios con listas, tuplas y diccionarios"
   ]
  },
  {
   "cell_type": "markdown",
   "metadata": {},
   "source": [
    "### Ejercicio 1\n",
    "\n",
    "Programa que calcula el el cuadrado de cada elemento de una lista\n",
    "\n",
    "#### Solución"
   ]
  },
  {
   "cell_type": "code",
   "execution_count": null,
   "metadata": {},
   "outputs": [],
   "source": [
    "lista = [1,2,3,4,5,6,7,8,9]\n",
    "\n",
    "lista2 = [n**2 for n in lista] # Investigar sobre listas de compresión\n",
    "print(lista2)"
   ]
  },
  {
   "cell_type": "markdown",
   "metadata": {},
   "source": [
    "Equivalente a "
   ]
  },
  {
   "cell_type": "code",
   "execution_count": null,
   "metadata": {},
   "outputs": [],
   "source": [
    "lista = [1,2,3,4,5,6,7,8,9]\n",
    "\n",
    "lista2 = []\n",
    "\n",
    "for item in lista:\n",
    "    lista2.append(item**2)\n",
    "print(lista2)"
   ]
  },
  {
   "cell_type": "markdown",
   "metadata": {},
   "source": [
    "### Ejercicio 2\n",
    "\n",
    "Programa que imprima los caracteres de una cadena al revés.\n",
    "\n",
    "#### Solución"
   ]
  },
  {
   "cell_type": "code",
   "execution_count": null,
   "metadata": {},
   "outputs": [],
   "source": [
    "cadena = input(\"Escribe una oración: \")\n",
    "cadena=cadena[::-1]\n",
    "print(''.join(cadena)) # función join https://www.w3schools.com/python/ref_string_join.asp"
   ]
  },
  {
   "cell_type": "markdown",
   "metadata": {},
   "source": [
    "### Ejercicio 3\n",
    "\n",
    "Programa que calcula el producto escalar de dos listas\n",
    "\n",
    "#### Solución"
   ]
  },
  {
   "cell_type": "code",
   "execution_count": null,
   "metadata": {},
   "outputs": [],
   "source": [
    "x = (1, 4, 7, -2)\n",
    "y = (-1, 0, 2, -6)\n",
    "\n",
    "producto_escalar = 0\n",
    "\n",
    "for i in range(len(x)):\n",
    "    producto_escalar += x[i]*y[i]\n",
    "    \n",
    "print(x)\n",
    "print(y)\n",
    "print(\"Producto escalar:\", producto_escalar)"
   ]
  },
  {
   "cell_type": "markdown",
   "metadata": {},
   "source": [
    "### Ejercicio 4\n",
    "\n",
    "Programa que solicite dos palabras y que forme una tercera palabra intercalando los caracteres de las palabras de las cadenas recibidas.\n",
    "\n",
    "#### Solución"
   ]
  },
  {
   "cell_type": "code",
   "execution_count": null,
   "metadata": {},
   "outputs": [],
   "source": [
    "palabra1 = input(\"Escribe una palabra: \")\n",
    "palabra2 = input(\"Escribe otra palabra: \")"
   ]
  },
  {
   "cell_type": "code",
   "execution_count": null,
   "metadata": {},
   "outputs": [],
   "source": [
    "print (\"Palabra 1: \", palabra1)\n",
    "print (\"Palabra 2: \", palabra2)"
   ]
  },
  {
   "cell_type": "code",
   "execution_count": null,
   "metadata": {},
   "outputs": [],
   "source": [
    "l1=[i for i in palabra1]\n",
    "l2=[i for i in palabra2]\n",
    "l3 = l1.copy()\n",
    "\n",
    "if len(l2) > len(l1):\n",
    "    l1=l2.copy()\n",
    "    l2=l3.copy()\n",
    "    l3 = l1.copy()\n",
    "contador = 0\n",
    "for  a in l2:\n",
    "    l3.insert(contador, a )\n",
    "    contador += 2\n",
    "    \n",
    "print (\"Palabra 3: \", ''.join(l3));"
   ]
  },
  {
   "cell_type": "markdown",
   "metadata": {},
   "source": [
    "### Ejercicio 5\n",
    "\n",
    "Programa que calcula la frecuencia de aparición de las vocales de un texto proporcionado por el usuario.\n",
    "\n",
    "#### Solución"
   ]
  },
  {
   "cell_type": "code",
   "execution_count": null,
   "metadata": {},
   "outputs": [],
   "source": [
    "texto = input(\"Escribe una texto: \")"
   ]
  },
  {
   "cell_type": "code",
   "execution_count": null,
   "metadata": {},
   "outputs": [],
   "source": [
    "texto_minusculas = []\n",
    "\n",
    "for letra in texto:\n",
    "    texto_minusculas.append(letra.lower())\n",
    "    \n",
    "totales = { 'a':0, 'e':0, 'i':0, 'o':0, 'u':0 }\n",
    "\n",
    "for letra in texto_minusculas:\n",
    "    \n",
    "    if letra in totales.keys():\n",
    "            totales[letra] += 1\n",
    "    else:\n",
    "        pass\n",
    "    "
   ]
  },
  {
   "cell_type": "code",
   "execution_count": null,
   "metadata": {},
   "outputs": [],
   "source": [
    "totales"
   ]
  },
  {
   "cell_type": "markdown",
   "metadata": {},
   "source": [
    "### Ejercicio 6\n",
    "\n",
    "Programa que solicita dos palabras, imprime las palabras con los 2 primeros caracteres intercambiados.\n",
    "\n",
    "#### Solución"
   ]
  },
  {
   "cell_type": "code",
   "execution_count": null,
   "metadata": {},
   "outputs": [],
   "source": [
    "palabra1 = input(\"Escribe una palabra: \")\n",
    "palabra2 = input(\"Escribe otra palabra: \")\n",
    "\n",
    "print( palabra2[:2] + palabra1[2:] + \" \" + palabra1[:2] + palabra2[2:] )"
   ]
  },
  {
   "cell_type": "markdown",
   "metadata": {},
   "source": [
    "### Ejercicio 7\n",
    "\n",
    "Programa que calcula el mínimo, el máximo y la media de tres números.\n",
    "\n",
    "#### Solución"
   ]
  },
  {
   "cell_type": "code",
   "execution_count": null,
   "metadata": {},
   "outputs": [],
   "source": [
    "numeros = []\n",
    "\n",
    "for x in range(0, 3):\n",
    "    n1 = int(input(\"Escribe un número entero: \"))\n",
    "    numeros.append(n1)\n",
    "numeros.sort()"
   ]
  },
  {
   "cell_type": "code",
   "execution_count": null,
   "metadata": {},
   "outputs": [],
   "source": [
    "print ( \"El mínimo es:\", numeros[0] )\n",
    "print ( \"El máximo es:\", numeros[2] )\n",
    "print ( \"La media  es:\", (numeros[0]+numeros[1]+numeros[2])/len(numeros) )"
   ]
  },
  {
   "cell_type": "markdown",
   "metadata": {},
   "source": [
    "### Ejercicio 8\n",
    "\n",
    "Programa que solicita 6 nombres de paises y número de habitantes, al final imprime los datos.\n",
    "\n",
    "#### Solución"
   ]
  },
  {
   "cell_type": "code",
   "execution_count": null,
   "metadata": {},
   "outputs": [],
   "source": [
    "paises=[]\n",
    "for x in range(3):\n",
    "    nombre = input(\"Escribe el nombre del país: \")\n",
    "    habitantes = int(input(\"Escribe el número de habitantes:\"))\n",
    "    paises.append((nombre,habitantes)) # Importante !! estamos almacenando tuplas en cada posición de la lista"
   ]
  },
  {
   "cell_type": "code",
   "execution_count": null,
   "metadata": {},
   "outputs": [],
   "source": [
    "print(\"Resumen\")\n",
    "for x in range(len(paises)):\n",
    "    print(paises[x][0], \": \",paises[x][1],\" habitantes\")"
   ]
  },
  {
   "cell_type": "markdown",
   "metadata": {},
   "source": [
    "### Ejercicio 9\n",
    "\n",
    "Programa que cuenta palabras de una frase.\n",
    "\n",
    "#### Solución"
   ]
  },
  {
   "cell_type": "code",
   "execution_count": null,
   "metadata": {},
   "outputs": [],
   "source": [
    "frase = input(\"Escribe una frase: \")\n",
    "lista = frase.lower().split(\" \")"
   ]
  },
  {
   "cell_type": "code",
   "execution_count": null,
   "metadata": {},
   "outputs": [],
   "source": [
    "diccionario = {}\n",
    "\n",
    "for palabra in lista:\n",
    "    if palabra in diccionario:\n",
    "        diccionario[palabra] += 1\n",
    "    else:\n",
    "        diccionario[palabra] = 1"
   ]
  },
  {
   "cell_type": "code",
   "execution_count": null,
   "metadata": {},
   "outputs": [],
   "source": [
    "print (diccionario)"
   ]
  }
 ],
 "metadata": {
  "kernelspec": {
   "display_name": "Python 3",
   "language": "python",
   "name": "python3"
  },
  "language_info": {
   "codemirror_mode": {
    "name": "ipython",
    "version": 3
   },
   "file_extension": ".py",
   "mimetype": "text/x-python",
   "name": "python",
   "nbconvert_exporter": "python",
   "pygments_lexer": "ipython3",
   "version": "3.7.6"
  }
 },
 "nbformat": 4,
 "nbformat_minor": 2
}
