{
 "cells": [
  {
   "cell_type": "markdown",
   "metadata": {},
   "source": [
    "# CASO PRÁCTICO\n",
    "\n",
    "## Ejercicio 2\n",
    "\n",
    "Escriba un programa que, partiendo de las dos siguientes listas con nombres, borre a la lista 1 los nombres de la lista 2"
   ]
  },
  {
   "cell_type": "code",
   "execution_count": null,
   "metadata": {},
   "outputs": [],
   "source": [
    "lista_uno = ['Mario', 'Paula', 'David', 'Ana', 'Jorge', 'Ivan', 'Laura', 'Beatriz']\n",
    "lista_dos = ['Paula', 'Francisco', 'Jorge', 'Juan', 'David']"
   ]
  },
  {
   "cell_type": "markdown",
   "metadata": {},
   "source": [
    "### SOLUCIÓN\n",
    "\n",
    "La forma más directa es utilizar la función <code>__.remove()__</code> ya que simplemente iremos borrando cada coincidencia, si el nombre no está en la lista 1, no hacemos nada."
   ]
  },
  {
   "cell_type": "code",
   "execution_count": null,
   "metadata": {},
   "outputs": [],
   "source": [
    "def clean_names(list_one, list_two):\n",
    "    \"\"\"\n",
    "    Función que recibe dos listas y devuelve la priemera lista\n",
    "    sin las coincidencias de la segunda\n",
    "    \n",
    "    input\n",
    "    list_one: list\n",
    "    list_two: list\n",
    "    \n",
    "    output\n",
    "    list_one: list\n",
    "    \"\"\"\n",
    "    for item in list_two:\n",
    "        if item in list_one:\n",
    "            list_one.remove(item)\n",
    "        else:\n",
    "            pass\n",
    "       \n",
    "    return list_one"
   ]
  },
  {
   "cell_type": "markdown",
   "metadata": {},
   "source": [
    "Programa principal"
   ]
  },
  {
   "cell_type": "code",
   "execution_count": null,
   "metadata": {},
   "outputs": [],
   "source": [
    "if __name__ == '__main__':\n",
    "    # Limpiamos la lista\n",
    "    lista_limpia = clean_names(list_one=lista_uno, \n",
    "                               list_two=lista_dos)\n",
    "    \n",
    "    print('Lista limpia: ', lista_limpia)"
   ]
  }
 ],
 "metadata": {
  "kernelspec": {
   "display_name": "Python 3",
   "language": "python",
   "name": "python3"
  },
  "language_info": {
   "codemirror_mode": {
    "name": "ipython",
    "version": 3
   },
   "file_extension": ".py",
   "mimetype": "text/x-python",
   "name": "python",
   "nbconvert_exporter": "python",
   "pygments_lexer": "ipython3",
   "version": "3.7.6"
  }
 },
 "nbformat": 4,
 "nbformat_minor": 2
}
