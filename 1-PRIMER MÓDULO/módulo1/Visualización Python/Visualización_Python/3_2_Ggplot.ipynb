{
 "cells": [
  {
   "cell_type": "markdown",
   "metadata": {},
   "source": [
    "# PLOTNINE - GGPLOT"
   ]
  },
  {
   "cell_type": "code",
   "execution_count": null,
   "metadata": {},
   "outputs": [],
   "source": [
    "import pandas as pd\n",
    "\n",
    "df = pd.read_table('iris.data', sep=',', header = None)\n",
    "df.columns = ['sepal_length', 'sepal_width', 'petal_length', \n",
    "              'petal_width', 'type']\n",
    "\n",
    "# Primeras observaciones\n",
    "df.head()"
   ]
  },
  {
   "cell_type": "code",
   "execution_count": null,
   "metadata": {},
   "outputs": [],
   "source": [
    "# Principales estadísticas\n",
    "df.describe()"
   ]
  },
  {
   "cell_type": "code",
   "execution_count": null,
   "metadata": {},
   "outputs": [],
   "source": [
    "# Filas x columnas\n",
    "df.shape"
   ]
  },
  {
   "cell_type": "markdown",
   "metadata": {},
   "source": [
    "### Instalación previa de plotnine\n",
    "\n",
    "**pip install plotnine**"
   ]
  },
  {
   "cell_type": "code",
   "execution_count": null,
   "metadata": {},
   "outputs": [],
   "source": [
    "from plotnine import *"
   ]
  },
  {
   "cell_type": "markdown",
   "metadata": {},
   "source": [
    "## Elementos básicos\n",
    "\n",
    "Plotnine sique la misma filosofía que gglpot, es decir, trabajar en capas, es decir, primero definimos con la función <code>**ggplot**</code> el set de datos con el que trabajaremos y posteriormente iremos añadiendo más capas en las que incluiremos la variable o variables a mostrar, el tipo de gráfico, color, elementos estéticos como etiquetas, títulos etc...\n",
    "\n",
    "Mostramos un par de ejemplos básicos, primero un histograma, solamente necesita una componente para poder mostrarse y, posteriormente una nube de puntos que necesita compoenentes x e y para poder visualizarse correctamente.\n",
    "\n",
    "Cualquier categoría de un gráfico vendrá dada por el prefijo **geom__** y la categoría de la visualización **geom_histogram** o **geom_points**"
   ]
  },
  {
   "cell_type": "code",
   "execution_count": null,
   "metadata": {},
   "outputs": [],
   "source": [
    "(\n",
    "    ggplot(df) +\n",
    "     geom_histogram(aes(x='petal_width'))\n",
    ")"
   ]
  },
  {
   "cell_type": "code",
   "execution_count": null,
   "metadata": {},
   "outputs": [],
   "source": [
    "(\n",
    "    ggplot(df) +\n",
    "     geom_histogram(aes(x='petal_width'), bins = 20)\n",
    ")"
   ]
  },
  {
   "cell_type": "code",
   "execution_count": null,
   "metadata": {},
   "outputs": [],
   "source": [
    "(\n",
    "    ggplot(df) +\n",
    "     geom_point(aes(x='petal_width', y = 'sepal_width'))\n",
    ")"
   ]
  },
  {
   "cell_type": "markdown",
   "metadata": {},
   "source": [
    "## Modificando el color\n",
    "\n",
    "Vemos que, si no especificamos nada, automáticamente toma los nombres de las variables como etiquetas x e y, probaremos a agregar color a las visualizaciones."
   ]
  },
  {
   "cell_type": "code",
   "execution_count": null,
   "metadata": {},
   "outputs": [],
   "source": [
    "(\n",
    "    ggplot(df) +\n",
    "     geom_histogram(aes(x='petal_width'), color = 'blue')\n",
    ")"
   ]
  },
  {
   "cell_type": "code",
   "execution_count": null,
   "metadata": {},
   "outputs": [],
   "source": [
    "(\n",
    "    ggplot(df) +\n",
    "     geom_point(aes(x='petal_width', y = 'sepal_width'), color = 'red')\n",
    ")"
   ]
  },
  {
   "cell_type": "markdown",
   "metadata": {},
   "source": [
    "Vemos que el efecto en el histograma no es el deseado, ya que toma por defecto el parámetro color el borde del histograma, en este caso tenemos que tener cuidado, cuando haya dos componentes diferentes de color existirán al menos: **color** y **fill**."
   ]
  },
  {
   "cell_type": "code",
   "execution_count": null,
   "metadata": {},
   "outputs": [],
   "source": [
    "(\n",
    "    ggplot(df) +\n",
    "     geom_histogram(aes(x='petal_width'), color = 'blue', \n",
    "                    fill = 'lightgreen')\n",
    ")"
   ]
  },
  {
   "cell_type": "markdown",
   "metadata": {},
   "source": [
    "## Parámetros de una capa\n",
    "\n",
    "Del mismo modo, podemos encontrar aún más elementos estéticos dentro de la capa histograma."
   ]
  },
  {
   "cell_type": "code",
   "execution_count": null,
   "metadata": {},
   "outputs": [],
   "source": [
    "(\n",
    "    ggplot(df) +\n",
    "     geom_histogram(aes(x='petal_width'), \n",
    "                    color = 'blue', \n",
    "                    fill = 'lightgreen', \n",
    "                    alpha = 0.2, \n",
    "                    linetype='solid')\n",
    ")"
   ]
  },
  {
   "cell_type": "code",
   "execution_count": null,
   "metadata": {},
   "outputs": [],
   "source": [
    "(\n",
    "    ggplot(df) +\n",
    "     geom_histogram(aes(x='petal_width'), \n",
    "                    color = 'blue', \n",
    "                    fill = 'lightgreen', \n",
    "                    alpha = 0.8, \n",
    "                    linetype='dashed')\n",
    ")\n"
   ]
  },
  {
   "cell_type": "markdown",
   "metadata": {},
   "source": [
    "## Añadiendo texto\n",
    "\n",
    "Para agregar elementos textuales a una visualización, también utilizaremos nuevas, en este caso <code>**labs**</code>, que podemos agregarle algunos elementos:\n",
    "* title\n",
    "* x\n",
    "* y\n",
    "* color (sólo cuando hay disponible leyenda).\n"
   ]
  },
  {
   "cell_type": "code",
   "execution_count": null,
   "metadata": {},
   "outputs": [],
   "source": [
    "(\n",
    "    ggplot(df) +\n",
    "     geom_point(aes(x='petal_width', y = 'sepal_width'), \n",
    "                color = 'tomato',\n",
    "               alpha=1,\n",
    "               shape='^',\n",
    "               size = 5,\n",
    "               stroke = 0.2) +\n",
    "    labs(title='Anchura de pétalo y sépalo', \n",
    "         x = 'Anchura Pétalo',\n",
    "         y = 'Anchura Sépalo')\n",
    ")\n"
   ]
  },
  {
   "cell_type": "markdown",
   "metadata": {},
   "source": [
    "## Categorías como color\n",
    "\n",
    "Una vez vistos los principales elementos descriptivos que podemos agregar a una gráfica, mostraremos cómo mostrar gradientes de color o cómo mostrar una gráfica en base a una etiqueta o variable categórica. En este caso, tenemos la variable 'type'"
   ]
  },
  {
   "cell_type": "code",
   "execution_count": null,
   "metadata": {},
   "outputs": [],
   "source": [
    "df['type'].unique()"
   ]
  },
  {
   "cell_type": "markdown",
   "metadata": {},
   "source": [
    "Nos devuelve tres tipos diferentes, por lo que podemos mostrar cualquier observación de nuestro dataset en base a qué tipo representa. Cuando queramos representar el color en base a una variable categórica, tenemos que mover el parámetro <code>**color**</code> dentro de la capa aesthetics (aes)"
   ]
  },
  {
   "cell_type": "code",
   "execution_count": null,
   "metadata": {},
   "outputs": [],
   "source": [
    "(\n",
    "    ggplot(df) +\n",
    "     geom_point(aes(x='petal_width', y = 'sepal_width', color = 'type'),\n",
    "               alpha=1,\n",
    "               shape='.',\n",
    "               size = 5,\n",
    "               stroke = 0.2) +\n",
    "    labs(title='Anchura de pétalo y sépalo', \n",
    "         x = 'Anchura Pétalo',\n",
    "         y = 'Anchura Sépalo',\n",
    "         color = 'Tipo')\n",
    ")\n"
   ]
  },
  {
   "cell_type": "markdown",
   "metadata": {},
   "source": [
    "Otro gráfico interesante, es el diagrama de barras, para realizarlo, simplemente añadimos como capa <code>**geom_bar**</code>"
   ]
  },
  {
   "cell_type": "code",
   "execution_count": null,
   "metadata": {},
   "outputs": [],
   "source": [
    "(ggplot(df)         \n",
    " + aes(x='petal_length')   \n",
    " + geom_bar() \n",
    ")"
   ]
  },
  {
   "cell_type": "code",
   "execution_count": null,
   "metadata": {},
   "outputs": [],
   "source": [
    "(ggplot(df)         \n",
    " + aes(x='petal_length', fill = 'type')   \n",
    " + geom_bar(color = 'black', alpha = 0.6, show_legend=False) \n",
    " + coord_flip() \n",
    ")"
   ]
  },
  {
   "cell_type": "markdown",
   "metadata": {},
   "source": [
    "## Estadísticas en los gráficos\n",
    "\n",
    "Otra funcionalidad interesante es la mostrar estadísticas en las visualizaciones. Para ello existen principalmente dos funciones para mostrar líneas verticales u horizontales en función de un parámetro estadístico:\n",
    "* <code>**geom_vline**</code> recibe como parámetro **xintercept**\n",
    "* <code>**geom_hline**</code> recibe como parámetro **yintercept**"
   ]
  },
  {
   "cell_type": "code",
   "execution_count": null,
   "metadata": {
    "scrolled": false
   },
   "outputs": [],
   "source": [
    "(ggplot(df)         \n",
    " + aes(x='petal_length', fill = 'type')   \n",
    " + geom_bar(color = 'black', alpha = 0.6, show_legend=True) \n",
    " + geom_vline(aes(xintercept = df.petal_length.mean()), color = 'red',\n",
    "             linetype = 'dashed')\n",
    "  + geom_vline(aes(xintercept = df.petal_length.median()), color = 'blue',\n",
    "             linetype = 'solid')\n",
    "\n",
    ")"
   ]
  },
  {
   "cell_type": "markdown",
   "metadata": {},
   "source": [
    "## Un gráfico por categoría.\n",
    "\n",
    "Uno de los elementos más potentes de ggplot es la capacidad de generar tantos gráficos de una variable como categorías tenga la variable que queramos explicar, esto es lo que se conoce como facet wraps, para ello utilizamos una función con el mismo nombre que recibirá como parámetro el número de categorías <code>**facet_wrap**</code>"
   ]
  },
  {
   "cell_type": "code",
   "execution_count": null,
   "metadata": {},
   "outputs": [],
   "source": [
    "(ggplot(df)         \n",
    " + aes(x='petal_length', fill = 'type')   \n",
    " + geom_bar(color = 'black', alpha = 0.6, show_legend=True) \n",
    "  + geom_vline(aes(xintercept = df.petal_length.mean()), color = 'red',\n",
    "             linetype = 'dashed')\n",
    "  + geom_vline(aes(xintercept = df.petal_length.median()), color = 'blue',\n",
    "             linetype = 'solid')\n",
    " + facet_wrap('~type', ncol = 2)\n",
    " + labs(\n",
    "     x = 'Longitud de pétalo',\n",
    "     y = 'Valores',\n",
    "     title = 'Diagrama de barras por tipo'\n",
    " )\n",
    " \n",
    "\n",
    ")"
   ]
  },
  {
   "cell_type": "markdown",
   "metadata": {},
   "source": [
    "## Añadiendo regresión lineal entre variables\n",
    "\n",
    "Ya hemos visto cómo crear nubes de puntos, desde ggplot, también existe la posibilidad de incluir en la misma gráfica una recta de ajuste y su *smooth*, esto lo realizamos a través de una nueva capa <code>**geom_smooth**</code>\n",
    "\n",
    "En esta gráfica además mostraremos cómo añadir un gradiente de color mediante el comando **fill**, en este caso en lugar de una variable categórica, utilizaremos una contínua."
   ]
  },
  {
   "cell_type": "code",
   "execution_count": null,
   "metadata": {},
   "outputs": [],
   "source": [
    "(\n",
    "    ggplot(df) +\n",
    "     geom_point(aes(x='petal_width', y = 'petal_length', \n",
    "                    fill = 'petal_width'),\n",
    "               alpha=0.5,\n",
    "               shape='o',\n",
    "               size = 2,\n",
    "               stroke = 0.2) \n",
    "    + geom_smooth(\n",
    "        aes(x='petal_width', y = 'petal_length')\n",
    "    )\n",
    "    + labs(title='Anchura y altura del pétalo', \n",
    "         x = 'Anchura Pétalo',\n",
    "         y = 'Altura Sépalo')\n",
    ")\n"
   ]
  },
  {
   "cell_type": "markdown",
   "metadata": {},
   "source": [
    "Al igual que en variables categóricas podemos hacer *facetting*"
   ]
  },
  {
   "cell_type": "code",
   "execution_count": null,
   "metadata": {},
   "outputs": [],
   "source": [
    "(\n",
    "    ggplot(df) +\n",
    "     geom_point(aes(x='petal_width', y = 'petal_length', fill = 'petal_width'),\n",
    "               alpha=0.5,\n",
    "               shape='o',\n",
    "               size = 2,\n",
    "               stroke = 0.2) \n",
    "    + geom_smooth(\n",
    "        aes(x='petal_width', y = 'petal_length')\n",
    "    )\n",
    "    + labs(title='Anchura y altura del pétalo', \n",
    "         x = 'Anchura Pétalo',\n",
    "         y = 'Altura Sépalo')\n",
    "    + facet_wrap('~petal_width', ncol = 4)\n",
    ")\n"
   ]
  },
  {
   "cell_type": "markdown",
   "metadata": {},
   "source": [
    "## Diagrama de caja y bigotes"
   ]
  },
  {
   "cell_type": "code",
   "execution_count": null,
   "metadata": {},
   "outputs": [],
   "source": [
    "(\n",
    "    ggplot(df) \n",
    "    + geom_boxplot(\n",
    "        aes(x='petal_width', y = 'petal_length', fill = 'type'),  \n",
    "        alpha=0.4, \n",
    "        outlier_alpha = 1, \n",
    "        outlier_color ='red'\n",
    "     )\n",
    "    + labs(title='Anchura y altura del pétalo', \n",
    "         x = 'Anchura Pétalo',\n",
    "         y = 'Altura Sépalo',\n",
    "         fill  = 'Ancho Pétalo')\n",
    ")\n"
   ]
  },
  {
   "cell_type": "markdown",
   "metadata": {},
   "source": [
    "### Ejercicio 1\n",
    "\n",
    "Toma el dataset vgsales y realiza un Análisis Exploratorio de Datos (**EDA**):\n",
    "\n",
    "NOTA: Información adicional sobre vgsales https://www.kaggle.com/gregorut/videogamesales\n",
    "\n",
    "1. Carga el csv como un dataframe\n",
    "2. Revisa la codificación de las variables\n",
    "3. ¿En qué años se publicaron más videojuegos?, muestralo tanto de forma numérica como visual\n",
    "4. Muestra visualmente cómo se distribuyeron los géneros de los videojuegos a lo largo de los años.\n",
    "5. Muestra un histograma sobre el volumen de ventas en el mercado Europeo.\n",
    "6. Obtén una muestra del dataframe que esté delimitada por el volumen de ventas medio en Europa.\n",
    "7. Repite el histograma sobre el volumen de ventas en Europa. ¿Qué conclusiones puedes extraer una vez que han sido borrados los outliers?\n",
    "8. Muestra cómo se distribuye el volumen de ventas en Europa, con el dataset filtrado por cada uno de los géneros.\n",
    "9. Muestra visualmente el número de publicaciones para cada año."
   ]
  },
  {
   "cell_type": "markdown",
   "metadata": {},
   "source": [
    "### 1. Carga el csv como un dataframe"
   ]
  },
  {
   "cell_type": "code",
   "execution_count": null,
   "metadata": {},
   "outputs": [],
   "source": [
    "# Leemos el dataset con información de videojuegos\n",
    "games = pd.read_csv('vgsales.csv')"
   ]
  },
  {
   "cell_type": "code",
   "execution_count": null,
   "metadata": {},
   "outputs": [],
   "source": [
    "games.head()"
   ]
  },
  {
   "cell_type": "markdown",
   "metadata": {},
   "source": [
    "### 2. Revisa la codificación de las variables"
   ]
  },
  {
   "cell_type": "code",
   "execution_count": null,
   "metadata": {},
   "outputs": [],
   "source": [
    "# Mostramos la información del dataset\n",
    "games.info()"
   ]
  },
  {
   "cell_type": "code",
   "execution_count": null,
   "metadata": {},
   "outputs": [],
   "source": [
    "# Recodificamos las categóricas\n",
    "for column in ['Platform', 'Genre', 'Publisher']:\n",
    "    games[column] = pd.Categorical(games[column])"
   ]
  },
  {
   "cell_type": "code",
   "execution_count": null,
   "metadata": {},
   "outputs": [],
   "source": [
    "# Resumen estadístico de variables categóricas\n",
    "games.describe(include='category')"
   ]
  },
  {
   "cell_type": "code",
   "execution_count": null,
   "metadata": {},
   "outputs": [],
   "source": [
    "# Resumen estadístico de variables numéricas\n",
    "games.describe()"
   ]
  },
  {
   "cell_type": "markdown",
   "metadata": {},
   "source": [
    "### 3. ¿En qué años se publicaron más videojuegos?, muestralo tanto de forma numérica como visual"
   ]
  },
  {
   "cell_type": "code",
   "execution_count": null,
   "metadata": {},
   "outputs": [],
   "source": [
    "# Visual\n",
    "(\n",
    "    ggplot(games) +\n",
    "     geom_histogram(aes(x='Year'), fill = 'darkgreen', color = 'blue', alpha = 0.6 )\n",
    ")"
   ]
  },
  {
   "cell_type": "code",
   "execution_count": null,
   "metadata": {},
   "outputs": [],
   "source": [
    "# De forma numérica\n",
    "games.Year.value_counts()"
   ]
  },
  {
   "cell_type": "markdown",
   "metadata": {},
   "source": [
    "Se publicaron más videojuegos entre 2009 y 2008"
   ]
  },
  {
   "cell_type": "markdown",
   "metadata": {},
   "source": [
    "### 4. Muestra visualmente cómo se distribuyeron los géneros de los videojuegos a lo largo de los años."
   ]
  },
  {
   "cell_type": "code",
   "execution_count": null,
   "metadata": {},
   "outputs": [],
   "source": [
    "(ggplot(games)         \n",
    " + aes(x='Year', fill = 'Genre')   \n",
    " + geom_bar(color = 'black', alpha = 0.6) \n",
    ")"
   ]
  },
  {
   "cell_type": "code",
   "execution_count": null,
   "metadata": {
    "scrolled": true
   },
   "outputs": [],
   "source": [
    "(ggplot(games)         \n",
    " + aes(x='Year', fill = 'Genre')   \n",
    " + geom_bar(color = 'black', alpha = 0.6) \n",
    ") + facet_wrap('~Genre', ncol =4 )"
   ]
  },
  {
   "cell_type": "markdown",
   "metadata": {},
   "source": [
    "Los videojuegos más publicados han sido los de acción y deportes.\n",
    "\n",
    "### 5. Muestra un histograma sobre el volumen de ventas en el mercado Europeo."
   ]
  },
  {
   "cell_type": "code",
   "execution_count": null,
   "metadata": {},
   "outputs": [],
   "source": [
    "(ggplot(games)         \n",
    " + aes(x='EU_Sales')   \n",
    " + geom_histogram(color = 'black') \n",
    ")"
   ]
  },
  {
   "cell_type": "markdown",
   "metadata": {},
   "source": [
    "### 6. Obtén una muestra del dataframe que esté delimitada por el volumen de ventas medio en Europa como máximo."
   ]
  },
  {
   "cell_type": "code",
   "execution_count": null,
   "metadata": {},
   "outputs": [],
   "source": [
    "games_eu_filtered = games.copy()"
   ]
  },
  {
   "cell_type": "code",
   "execution_count": null,
   "metadata": {},
   "outputs": [],
   "source": [
    "# Filtramos por media del mercado europeo\n",
    "games_eu_filtered = games_eu_filtered[ (games_eu_filtered.EU_Sales <= games_eu_filtered.EU_Sales.mean())]"
   ]
  },
  {
   "cell_type": "code",
   "execution_count": null,
   "metadata": {},
   "outputs": [],
   "source": [
    "games_eu_filtered.describe()"
   ]
  },
  {
   "cell_type": "markdown",
   "metadata": {},
   "source": [
    "### 7. Repite el histograma sobre el volumen de ventas en Europa. ¿Qué conclusiones puedes extraer una vez que han sido borrados los outliers?"
   ]
  },
  {
   "cell_type": "code",
   "execution_count": null,
   "metadata": {},
   "outputs": [],
   "source": [
    "(ggplot(games_eu_filtered)         \n",
    " + aes(x='EU_Sales')   \n",
    " + geom_histogram(color = 'black', fill = 'lightblue' )\n",
    ")"
   ]
  },
  {
   "cell_type": "markdown",
   "metadata": {},
   "source": [
    "Hay casi 6000 videojuegos (en esta muestra), con un volumen de ventas muy poco por encima de 100K unidades vendidas"
   ]
  },
  {
   "cell_type": "markdown",
   "metadata": {},
   "source": [
    "### 8. Muestra cómo se distribuye el volumen de ventas en Europa, con el dataset filtrado por cada uno de los géneros."
   ]
  },
  {
   "cell_type": "code",
   "execution_count": null,
   "metadata": {
    "scrolled": true
   },
   "outputs": [],
   "source": [
    "(\n",
    "    ggplot(games_eu_filtered) \n",
    "    + geom_boxplot(\n",
    "        aes(x='Genre', y = 'EU_Sales', fill = 'Genre'),  \n",
    "        outlier_alpha = 0.5, \n",
    "        outlier_color ='blue'\n",
    "     )\n",
    "    + labs(title='Ventas en Europa por género', \n",
    "         x = 'Género',\n",
    "         y = 'Veolumen de ventas',\n",
    "         fill = 'Género')\n",
    ")\n"
   ]
  },
  {
   "cell_type": "markdown",
   "metadata": {},
   "source": [
    "### 9. Muestra visualmente el número de publicaciones para cada año."
   ]
  },
  {
   "cell_type": "code",
   "execution_count": null,
   "metadata": {},
   "outputs": [],
   "source": [
    "ventas_anio = games.groupby(['Year', 'Platform'])['Platform'].count()\n",
    "ventas_anio"
   ]
  },
  {
   "cell_type": "code",
   "execution_count": null,
   "metadata": {},
   "outputs": [],
   "source": [
    "ventas_anio = ventas_anio.reset_index(name='counts')\n",
    "ventas_anio"
   ]
  },
  {
   "cell_type": "code",
   "execution_count": null,
   "metadata": {},
   "outputs": [],
   "source": [
    "(\n",
    "    ggplot(data=ventas_anio)\n",
    "    + geom_line(\n",
    "          aes(x='Year', \n",
    "              y='counts', \n",
    "              color='Platform') \n",
    "    )\n",
    "    + labs(title='Publicaciones por plataforma y año', \n",
    "         x = 'Año',\n",
    "         y = 'Nº Publicaciones',\n",
    "         fill = 'Plataforma')\n",
    "         \n",
    ")"
   ]
  }
 ],
 "metadata": {
  "kernelspec": {
   "display_name": "Python 3",
   "language": "python",
   "name": "python3"
  },
  "language_info": {
   "codemirror_mode": {
    "name": "ipython",
    "version": 3
   },
   "file_extension": ".py",
   "mimetype": "text/x-python",
   "name": "python",
   "nbconvert_exporter": "python",
   "pygments_lexer": "ipython3",
   "version": "3.7.6"
  }
 },
 "nbformat": 4,
 "nbformat_minor": 2
}
