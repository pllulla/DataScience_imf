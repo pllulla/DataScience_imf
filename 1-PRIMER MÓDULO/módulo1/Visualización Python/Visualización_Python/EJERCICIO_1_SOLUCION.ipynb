{
 "cells": [
  {
   "cell_type": "markdown",
   "metadata": {},
   "source": [
    "# CASO PRÁCTICO\n",
    "\n",
    "## Ejercicio 1\n",
    "\n",
    "Con el csv de acciones de Apple (AAPL.csv), realiza las siguientes visualizaciones:\n",
    "* **Matplotlib**: Obtén un diagrama de barras de las 5 primeras fechas del dataset para los precios de apertura y cierre.\n",
    "* **Ggplot**: Realiza una nube de puntos con el volumen de acción y el cierre ajustado, muestra además la línea de ajuste (regresión lineal), entre ambas variables, utiliza un gradiente de color mediante el precio de cierre ajustado.\n",
    "* **Seaborn 1**: Realiza un mapa de calor mediante la correlación del dataframe\n",
    "* **Seaborn 2**: Obtén un histograma desactivando la función de densidad\n",
    "* **Bokeh**: Realiza una gráfica de toda la serie temporal sobre los precios más altos y más bajos, para que se diferencien más las líneas resta 40 puntos a todos los precios más bajos.\n",
    "\n",
    "### SOLUCIÓN\n",
    "\n",
    "Importamos todas las librerías y realizamos una pequeña descripción de los datos."
   ]
  },
  {
   "cell_type": "code",
   "execution_count": null,
   "metadata": {},
   "outputs": [],
   "source": [
    "import pandas as pd\n",
    "import numpy as np\n",
    "\n",
    "import matplotlib.pyplot as plt\n",
    "%matplotlib inline\n",
    "\n",
    "import seaborn as sns\n",
    "from plotnine import *\n",
    "from bokeh.io import output_notebook, show\n",
    "from bokeh.plotting import figure"
   ]
  },
  {
   "cell_type": "code",
   "execution_count": null,
   "metadata": {},
   "outputs": [],
   "source": [
    "df = pd.read_csv('AAPL.csv')"
   ]
  },
  {
   "cell_type": "code",
   "execution_count": null,
   "metadata": {},
   "outputs": [],
   "source": [
    "df.describe()"
   ]
  },
  {
   "cell_type": "code",
   "execution_count": null,
   "metadata": {},
   "outputs": [],
   "source": [
    "df.head()"
   ]
  },
  {
   "cell_type": "code",
   "execution_count": null,
   "metadata": {},
   "outputs": [],
   "source": [
    "print(\"*CANTIDAD de datos nulos por columna en el dataframe\")\n",
    "print(df.isnull().sum())\n",
    "print(\"----------------------------------\")\n",
    "print(\"*PORCENTAJE de datos nulos por columna en el dataframe\")\n",
    "print(df.isnull().sum()/len(df)*100)"
   ]
  },
  {
   "cell_type": "markdown",
   "metadata": {},
   "source": [
    "## Matplotlib\n",
    "\n",
    "Obtenemos las 5 primeras posiciones de las fechas, precios de apertura y cierre.\n",
    "\n",
    "En la gráfica, debemos tener en cuenta que los valores de la fecha, es necesario que se pasen como tuplas."
   ]
  },
  {
   "cell_type": "code",
   "execution_count": null,
   "metadata": {},
   "outputs": [],
   "source": [
    "df_ten = df[['Date', 'Open', 'Close']].head(5)"
   ]
  },
  {
   "cell_type": "code",
   "execution_count": null,
   "metadata": {},
   "outputs": [],
   "source": [
    "n_groups = len(df_ten)\n",
    "\n",
    "# create plot\n",
    "fig, ax = plt.subplots()\n",
    "index = np.arange(n_groups)\n",
    "\n",
    "\n",
    "min_ = plt.bar(index , df_ten['Close'], color='lightblue', \n",
    "                 label='Cierre')\n",
    "\n",
    "max_ = plt.bar(index, df_ten['Open'], color='tomato', \n",
    "                 label='Apertura')\n",
    "\n",
    "plt.xlabel('Fechas')\n",
    "plt.ylabel('Valores')\n",
    "plt.title('Valores de la acción')\n",
    "plt.xticks(index ,tuple(df['Date']))\n",
    "plt.legend()\n",
    "\n",
    "plt.tight_layout()\n",
    "plt.show()"
   ]
  },
  {
   "cell_type": "markdown",
   "metadata": {},
   "source": [
    "## Ggplot\n",
    "\n",
    "Simplemente, mostramos dos capas diferentes una con el scatter plot y otra con el ajuste lineal (Evidentemente no hay relación lineal entre ambas variables)."
   ]
  },
  {
   "cell_type": "code",
   "execution_count": null,
   "metadata": {},
   "outputs": [],
   "source": [
    "(\n",
    "    ggplot(df) +\n",
    "     geom_point(aes(x='Volume', y = 'Adj Close', fill = 'Adj Close'),\n",
    "               alpha=0.5,\n",
    "               shape='o',\n",
    "               size = 2,\n",
    "               stroke = 0.2) \n",
    "    + geom_smooth(\n",
    "        aes(x='Volume', y = 'Adj Close')\n",
    "    )\n",
    "    + labs(title='Volumen y cierre ajustado', \n",
    "         x = 'Volumen de acciones',\n",
    "         y = 'Cierre ajustado')\n",
    ")\n"
   ]
  },
  {
   "cell_type": "markdown",
   "metadata": {},
   "source": [
    "## Seaborn 1\n",
    "\n",
    "Utilizamos la función corr de pandas para ayudarnos."
   ]
  },
  {
   "cell_type": "code",
   "execution_count": null,
   "metadata": {},
   "outputs": [],
   "source": [
    "sns.heatmap(df.corr(), cmap='Greens')"
   ]
  },
  {
   "cell_type": "markdown",
   "metadata": {},
   "source": [
    "## Seaborn 2\n",
    "\n",
    "Para desactivar la función de densidad, pasamos False al parámetro kde."
   ]
  },
  {
   "cell_type": "code",
   "execution_count": null,
   "metadata": {},
   "outputs": [],
   "source": [
    "sns.distplot(a=df.Volume, color='blue', kde=False)"
   ]
  },
  {
   "cell_type": "markdown",
   "metadata": {},
   "source": [
    "## Bokeh\n",
    "\n",
    "Aquí es importante utilizar el formato de fechas adecuado, si simplemente pasamos en el eje x la columna 'Date' no aparecerá nada y es que, debemos cambiar el tipo de las fechas a numpy datetime64.\n",
    "\n",
    "Finalmente, tenemos que especificar en figure al parámetro x_axis_type que nuestro eje x es formato **datetime**"
   ]
  },
  {
   "cell_type": "code",
   "execution_count": null,
   "metadata": {},
   "outputs": [],
   "source": [
    "output_notebook()"
   ]
  },
  {
   "cell_type": "code",
   "execution_count": null,
   "metadata": {},
   "outputs": [],
   "source": [
    "correct_dates = np.array(df['Date'], dtype=np.datetime64)"
   ]
  },
  {
   "cell_type": "code",
   "execution_count": null,
   "metadata": {},
   "outputs": [],
   "source": [
    "p = figure(plot_width=800, plot_height=400, title = 'Acciones de Apple', x_axis_type=\"datetime\")\n",
    "\n",
    "\n",
    "p.line(correct_dates, df['High'], \n",
    "       color = 'blue', line_width=1, line_alpha = 0.5)\n",
    "p.line(correct_dates, df['Low']-40, \n",
    "       color = 'green', line_width=1, line_alpha = 0.5)\n",
    "\n",
    "p.xaxis.axis_label = 'Fechas (array)'\n",
    "p.yaxis.axis_label = 'Valor de acción'\n",
    "\n",
    "show(p)"
   ]
  },
  {
   "cell_type": "markdown",
   "metadata": {},
   "source": [
    "Otra forma con elementos dinámicos"
   ]
  },
  {
   "cell_type": "code",
   "execution_count": null,
   "metadata": {},
   "outputs": [],
   "source": [
    "from bokeh.models import ColumnDataSource, HoverTool\n",
    "\n",
    "df['New_Date'] = correct_dates\n",
    "df['Low'] = df['Low']-40\n",
    "source = ColumnDataSource(df)"
   ]
  },
  {
   "cell_type": "code",
   "execution_count": null,
   "metadata": {},
   "outputs": [],
   "source": [
    "source.column_names"
   ]
  },
  {
   "cell_type": "code",
   "execution_count": null,
   "metadata": {},
   "outputs": [],
   "source": [
    "p = figure(plot_width=800, plot_height=400, title = 'Acciones de Apple', x_axis_type=\"datetime\")\n",
    "\n",
    "\n",
    "p.line('New_Date', 'High', source = source,\n",
    "       color = 'purple', line_width=1, line_alpha = 0.5)\n",
    "p.line('New_Date', 'Low', source = source,\n",
    "       color = 'orange', line_width=1, line_alpha = 1)\n",
    "\n",
    "p.xaxis.axis_label = 'Fechas (array)'\n",
    "p.yaxis.axis_label = 'Valor de acción'\n",
    "\n",
    "hover = HoverTool()\n",
    "hover.tooltips=[\n",
    "    ('Max', '@High'),\n",
    "    ('Min', '@Low'),\n",
    "    ('Apertura', '@Open'),\n",
    "    ('Cierre', '@Close'),\n",
    "    ('Fecha', '@Date')\n",
    "]\n",
    "\n",
    "p.add_tools(hover)\n",
    "\n",
    "\n",
    "show(p)"
   ]
  }
 ],
 "metadata": {
  "kernelspec": {
   "display_name": "Python 3",
   "language": "python",
   "name": "python3"
  },
  "language_info": {
   "codemirror_mode": {
    "name": "ipython",
    "version": 3
   },
   "file_extension": ".py",
   "mimetype": "text/x-python",
   "name": "python",
   "nbconvert_exporter": "python",
   "pygments_lexer": "ipython3",
   "version": "3.7.6"
  }
 },
 "nbformat": 4,
 "nbformat_minor": 2
}
