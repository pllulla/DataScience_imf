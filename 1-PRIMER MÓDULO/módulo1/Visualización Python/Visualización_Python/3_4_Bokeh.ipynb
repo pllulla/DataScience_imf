{
 "cells": [
  {
   "cell_type": "markdown",
   "metadata": {},
   "source": [
    "# BOKEH\n",
    "\n",
    "En Python, una de las librerías más potentes para comunicar e interactuar con los resultados, **Bokeh** destaca por las siguientes características:\n",
    "* Hace simple la creación de gráficos dinámicos.\n",
    "* Permite crear widgets en los que mostrar la evolución de un gráfico con diferentes valores.\n",
    "* Sus gráficos y cuadros de mando pueden ser publicados en páginas web o notebooks.\n",
    "* Optimizada para trabajar con las librerías más importantes de Python: Pandas, Numpy, Scipy, OpenCV, Scikit-Learn...\n",
    "\n",
    "Lo primero que realizaremos será importar la librería bokeh con la funcionalidad de mostrar los resultados de las gráficas dentro de notebook."
   ]
  },
  {
   "cell_type": "code",
   "execution_count": null,
   "metadata": {},
   "outputs": [],
   "source": [
    "from bokeh.io import output_notebook, show"
   ]
  },
  {
   "cell_type": "markdown",
   "metadata": {},
   "source": [
    "Ahora, es importante cerciorarnos de que bokeh puede trabajar correctamente, para ello cargaremos la función <code>**output_notebook**</code>"
   ]
  },
  {
   "cell_type": "code",
   "execution_count": null,
   "metadata": {},
   "outputs": [],
   "source": [
    "output_notebook()"
   ]
  },
  {
   "cell_type": "markdown",
   "metadata": {},
   "source": [
    "Vemos que no arroja ningún mensaje de error, comenzaremos la creación de nuestro primer gráfico dinámico.\n",
    "\n",
    "El primero elemento que tendremos que configurar es el espacio que ocupará nuestro gráfico, en otras palabras, estaremos inicializando el espacio gráfico. Para ello, utilizamos la función <code>__figure__</code> con los siguientes parámetros **plot_width**, **plot_height**"
   ]
  },
  {
   "cell_type": "code",
   "execution_count": null,
   "metadata": {},
   "outputs": [],
   "source": [
    "from bokeh.plotting import figure"
   ]
  },
  {
   "cell_type": "code",
   "execution_count": null,
   "metadata": {},
   "outputs": [],
   "source": [
    "p = figure(plot_width=400, plot_height=400)"
   ]
  },
  {
   "cell_type": "markdown",
   "metadata": {},
   "source": [
    "Lo siguiente, será añadir el tipo de gráfico en sí. En Bokeh soporta una gran cantidad de gráficos, comenzaremos por un gráfico lineal, pero se recomienda visualizar todos los tipos de gráficos principles que podemos realizar desde la función figure https://docs.bokeh.org/en/latest/docs/reference/plotting.html#bokeh-plotting\n",
    "\n",
    "Así mismo, si queremos ver algunas demos de ejemplo sobre Dashboards que pueden realizarse en Bokeh, están disponibles en el siguiente link: https://docs.bokeh.org/en/latest/docs/gallery.html#gallery\n",
    "\n",
    "Un gráfico de líneas lo realizaremos a través de la función <code>**line**</code>"
   ]
  },
  {
   "cell_type": "code",
   "execution_count": null,
   "metadata": {},
   "outputs": [],
   "source": [
    "p.line([1, 2, 3, 4, 5, 6, 7, 8] ,[20, 3, 12, 28, 15, 6, 19, 11])"
   ]
  },
  {
   "cell_type": "markdown",
   "metadata": {},
   "source": [
    "Finalmente, para mostrar el gráfico hacemos uso de la función importada de bokeh.io <code>**show**</code>"
   ]
  },
  {
   "cell_type": "code",
   "execution_count": null,
   "metadata": {},
   "outputs": [],
   "source": [
    "show(p)"
   ]
  },
  {
   "cell_type": "markdown",
   "metadata": {},
   "source": [
    "Vemos que aparece nuestro gráfico y a diferencia de otros paquetes de visualización, podemos desplazarnos en el gráfico, hacer zoom, mover con la rueda del ratón y guardar el gráfico de forma muy simple a través del menú de opciones.\n",
    "\n",
    "Agregamos nuevos parámetros."
   ]
  },
  {
   "cell_type": "code",
   "execution_count": null,
   "metadata": {},
   "outputs": [],
   "source": [
    "p = figure(plot_width=400, plot_height=400)\n",
    "\n",
    "p.line([1, 2, 3, 4, 5, 6, 7, 8] ,[20, 3, 12, 28, 15, 6, 19, 11], \n",
    "       color = 'red', line_width=5, line_alpha = 0.5)\n",
    "show(p)"
   ]
  },
  {
   "cell_type": "markdown",
   "metadata": {},
   "source": [
    "Mostramos otro estilo de gráfico, un scatter plot, utilizamos la función <code>**circle**</code>"
   ]
  },
  {
   "cell_type": "code",
   "execution_count": null,
   "metadata": {},
   "outputs": [],
   "source": [
    "p = figure(plot_width=500, plot_height=500)\n",
    "\n",
    "p.circle([1, 2, 3, 4, 5, 6, 7, 8] ,[20, 3, 12, 28, 15, 6, 19, 11], \n",
    "       color = 'red', line_width=5, line_alpha = 0.5)\n",
    "show(p)"
   ]
  },
  {
   "cell_type": "markdown",
   "metadata": {},
   "source": [
    "Añadimos más opciones y, en esta ocasión en lugar de utilizar listas, vamos a comprobar su integración con arrays."
   ]
  },
  {
   "cell_type": "code",
   "execution_count": null,
   "metadata": {},
   "outputs": [],
   "source": [
    "p = figure(plot_width=500, plot_height=500)\n",
    "\n",
    "import numpy as np\n",
    "\n",
    "normal = np.random.rand(100)\n",
    "square = normal**2\n",
    "\n",
    "p.circle(normal ,square, \n",
    "         fill_color  = 'lightgreen',\n",
    "         line_alpha = 0.8,\n",
    "         line_color = 'red',\n",
    "         radius = 0.01)\n",
    "show(p)"
   ]
  },
  {
   "cell_type": "markdown",
   "metadata": {},
   "source": [
    "También es posible combinar dos estilos de gráfico juntos. Probaremos a realizar un scatter plot de dos maneras, a través de círculos <code>**circle**</code> y cuadrados <code>**square**</code>"
   ]
  },
  {
   "cell_type": "code",
   "execution_count": null,
   "metadata": {},
   "outputs": [],
   "source": [
    "p = figure(plot_width=500, plot_height=500)\n",
    "\n",
    "import numpy as np\n",
    "\n",
    "normal = np.random.rand(100)\n",
    "square = normal**2\n",
    "cubic = normal**3\n",
    "polynomic = normal**4\n",
    "\n",
    "\n",
    "p.circle(normal ,square, \n",
    "         fill_color  = 'lightgreen',\n",
    "         line_alpha = 0.8,\n",
    "         line_color = 'red',\n",
    "         radius = 0.01)\n",
    "\n",
    "p.square(cubic ,polynomic, \n",
    "         fill_color  = 'lightblue',\n",
    "         line_alpha = 1,\n",
    "         line_color = 'brown',\n",
    "         size = 8)\n",
    "show(p)"
   ]
  },
  {
   "cell_type": "markdown",
   "metadata": {},
   "source": [
    "Para añadir texto a nuestra visualización, tenemos que acceder a los propios atributos de nuestro objeto **figure**, para añadir texto en los ejes x e y tenemos que acceder a los siguientes atributos:\n",
    "* **xaxis**\n",
    "* **yaxis**\n",
    "\n",
    "Para ambos atributos, dispondremos del atributo **axis_label**, el título de un gráfico podemos añadir a través del parámetro **title** dentro de la función figure cuando inicializamos el gráfico"
   ]
  },
  {
   "cell_type": "code",
   "execution_count": null,
   "metadata": {},
   "outputs": [],
   "source": [
    "p = figure(plot_width=500, plot_height=500, title='Transformaciones de distribución normal')\n",
    "\n",
    "normal = np.random.rand(100)\n",
    "square = normal**2\n",
    "cubic = normal**3\n",
    "polynomic = normal**4\n",
    "\n",
    "\n",
    "p.circle(normal ,square, \n",
    "         fill_color  = 'lightgreen',\n",
    "         line_alpha = 0.8,\n",
    "         line_color = 'red',\n",
    "         radius = 0.01)\n",
    "\n",
    "p.square(cubic ,polynomic, \n",
    "         fill_color  = 'lightblue',\n",
    "         line_alpha = 1,\n",
    "         line_color = 'brown',\n",
    "         size = 8)\n",
    "\n",
    "p.xaxis.axis_label = 'Valor de distribución X'\n",
    "p.yaxis.axis_label = 'Valor de distribución Y'\n",
    "\n",
    "\n",
    "show(p)\n"
   ]
  },
  {
   "cell_type": "markdown",
   "metadata": {},
   "source": [
    "También podemos cambiar elementos descriptivos de los ejes"
   ]
  },
  {
   "cell_type": "code",
   "execution_count": null,
   "metadata": {},
   "outputs": [],
   "source": [
    "p = figure(plot_width=500, plot_height=500, title='Transformaciones de distribución normal')\n",
    "\n",
    "normal = np.random.rand(100)\n",
    "square = normal**2\n",
    "cubic = normal**3\n",
    "polynomic = normal**4\n",
    "\n",
    "\n",
    "p.circle(normal ,square, \n",
    "         fill_color  = 'lightgreen',\n",
    "         line_alpha = 0.8,\n",
    "         line_color = 'red',\n",
    "         radius = 0.01)\n",
    "\n",
    "p.square(cubic ,polynomic, \n",
    "         fill_color  = 'lightblue',\n",
    "         line_alpha = 1,\n",
    "         line_color = 'brown',\n",
    "         size = 8)\n",
    "\n",
    "p.xaxis.axis_label = 'Valor de distribución X'\n",
    "p.yaxis.axis_label = 'Valor de distribución Y'\n",
    "\n",
    "p.yaxis.major_label_text_color = \"red\"\n",
    "p.yaxis.major_label_orientation = \"vertical\"\n",
    "\n",
    "p.xaxis.axis_line_width = 2\n",
    "p.xaxis.axis_line_color = \"blue\"\n",
    "p.xaxis.major_label_text_color = \"blue\"\n",
    "\n",
    "\n",
    "show(p)\n"
   ]
  },
  {
   "cell_type": "markdown",
   "metadata": {},
   "source": [
    "A continuación, mostraremos cómo generar un diagrama de barras, primero vamos a diseñar un dataframe sencillo."
   ]
  },
  {
   "cell_type": "code",
   "execution_count": null,
   "metadata": {},
   "outputs": [],
   "source": [
    "import pandas as pd\n",
    "items = ['Naranjas', 'Fresas', 'Manzanas', 'Plátanos', 'Mango']\n",
    "volumen_venta = np.random.randint(100, 1000, 5)\n",
    "ingresos_totales = np.random.randint(1000, 25000, 5)\n",
    "\n",
    "df = pd.DataFrame({\n",
    "    'Productos': items,\n",
    "    'Volumen': volumen_venta,\n",
    "    'Ingresos': ingresos_totales\n",
    "})"
   ]
  },
  {
   "cell_type": "markdown",
   "metadata": {},
   "source": [
    "Seguidamente, con <code>**vbar**</code> mostraremos un diagrama de barras sobre el volumen de ventas por producto."
   ]
  },
  {
   "cell_type": "code",
   "execution_count": null,
   "metadata": {},
   "outputs": [],
   "source": [
    "p = figure(x_range=df['Productos'], plot_height=350, \n",
    "           title=\"Volumen de ventas\")\n",
    "\n",
    "p.vbar(x=df['Productos'], top=df['Volumen'], \n",
    "       width=0.9, \n",
    "       fill_color=['#DF5837', '#A9E915', '#CA09A9', '#1E82A8', '#F9E13A'], \n",
    "       fill_alpha=0.6)\n",
    "\n",
    "# Podemos generar colores en hexadecimal con https://htmlcolorcodes.com/\n",
    "\n",
    "show(p)"
   ]
  },
  {
   "cell_type": "markdown",
   "metadata": {},
   "source": [
    "Aunque de una forma algo más compleja que utilizando Seaborn o Ggplot, en Bokeh, también podemos generar gradientes de color en función de una variable. Para ello tenemos que tener en cuenta tres funciones:\n",
    "* <code>__LinearColorMapper__</code>: Pasamos como parámetros **palette**, que toma valor de una paleta de colores que podemos encontrar disponbiles en el siguiente enlace https://docs.bokeh.org/en/latest/docs/reference/palettes.html#bokeh-palettes **low**: Valor mínimo de la variable, **high**: Valor máximo de la variable. Generamos una secuencia de colores en función del rango de nuestra variable.\n",
    "* <code>**ColorBar**</code>: Dentro de los parámetros que recibe, el más importante es **color_mapper** que recibe un objeto generado previamente LinearColorMapper. Esta función genera una leyenda con los colores de nuestra variable.\n",
    "* Dentro de la función de nuestro gráfico, en este caso nube de puntos, en el parámetro color utilizaremos la función <code>**transform**</code> a la cuál pasaremos el nombre de la columna y nuestro objeto LinearColorMapper.\n"
   ]
  },
  {
   "cell_type": "code",
   "execution_count": null,
   "metadata": {},
   "outputs": [],
   "source": [
    "from bokeh.models import LinearColorMapper, ColorBar\n",
    "from bokeh.transform import transform\n",
    "\n",
    "color_mapper = LinearColorMapper(palette=\"Viridis256\", low=df.Ingresos.min(), \n",
    "                                 high=df.Ingresos.max())\n",
    "color_bar = ColorBar(color_mapper=color_mapper, label_standoff=12, location=(0,0), \n",
    "                     title='Ingresos')\n",
    "\n",
    "p = figure(x_axis_label='Volumen de ventas', # Otra forma de añadir texto en los ejes\n",
    "           y_axis_label='Ingresos totales', \n",
    "           plot_height=400)\n",
    "\n",
    "p.circle(x='Volumen', y='Ingresos', \n",
    "         color=transform('Ingresos', color_mapper), \n",
    "         size=20, alpha=0.6, \n",
    "         source=df)\n",
    "\n",
    "p.add_layout(color_bar, 'right') # Posición del gradiente de color\n",
    "\n",
    "show(p)"
   ]
  },
  {
   "cell_type": "markdown",
   "metadata": {},
   "source": [
    "Algo que todavía no hemos mostrado es podemos desactivar el panel lateral para gestionar el gráfico añadiendo los siguientes parámetros a la función figure.\n",
    "* **tools**: Lo dejamos vacío\n",
    "* **toolbar_location**: Valor None"
   ]
  },
  {
   "cell_type": "code",
   "execution_count": null,
   "metadata": {},
   "outputs": [],
   "source": [
    "color_mapper = LinearColorMapper(palette=\"Viridis256\", low=df.Ingresos.min(), high=df.Ingresos.max())\n",
    "color_bar = ColorBar(color_mapper=color_mapper, label_standoff=12, location=(0,0), title='Ingresos')\n",
    "\n",
    "p = figure(x_axis_label='Volumen de ventas', # Otra forma de añadir texto en los ejes\n",
    "           y_axis_label='Ingresos totales', \n",
    "           plot_height=400, \n",
    "           tools='', toolbar_location=None)\n",
    "\n",
    "p.circle(x='Volumen', y='Ingresos', \n",
    "         color=transform('Ingresos', color_mapper), \n",
    "         size=20, alpha=0.6, \n",
    "         source=df)\n",
    "\n",
    "p.add_layout(color_bar, 'right') # Posición del gradiente de color\n",
    "\n",
    "show(p)\n"
   ]
  },
  {
   "cell_type": "markdown",
   "metadata": {},
   "source": [
    "Finalmente, mostraremos cómo añadir elementos dinámmicos a un gráfico, es decir, cuando pasemos el cursor por un elemento del gráfico éste nos muestre información. Esto en Bokeh se consigue a través de **HoverTool**, se trata de una función que integra funcionalidades para mostrar diferentes elementos textuales en los datos, es importante mencionar que para poder utilizar las funciones de HoverTool, también tenemos que pasar nuestros datos a un tipo especial de Bokeh, llamado sources, para ello, utilizaremos **ColumnDataSource**. El funcionamiento por lo tanto es el siguiente.\n",
    "* Tomaremos el set de datos y lo pasaremos a la función <code>**ColumnDataSource**</code>, sources nos devolverá los tipos de columnas que podemos mostrar en nuestro gráfico, por ejemplo, si pasamos a la función un conjunto de datos previamente agrupado con groupby, nos permitirá acceder a estadísticas básicas como mínimo, máximo, media y cuartieles, pudiendo posteriormente, proyectar esta información en el gráfico.\n",
    "* Ahora cuando vayamos a definir el tipo de gráfico, no utilizaremos como tal los nombres de las columnas del dataframe, si no las de sources.\n",
    "* Cuando hayamos definido el tipo de gráfica llamaremos a la función <code>**HoverTool**</code> y, a su atributo **tooltips** en el cuál pasaremos con la siguiente estructura la información a proyectar: 'Nombre que se mostrará': @columna_de_source."
   ]
  },
  {
   "cell_type": "code",
   "execution_count": null,
   "metadata": {},
   "outputs": [],
   "source": [
    "from bokeh.models import ColumnDataSource, HoverTool\n",
    "from bokeh.transform import factor_cmap\n",
    "from bokeh.palettes import Spectral5\n",
    "\n",
    "source = ColumnDataSource(df)\n",
    "source.column_names"
   ]
  },
  {
   "cell_type": "markdown",
   "metadata": {},
   "source": [
    "Mostramos por otro ejemplo en el que hubíeramos realizado un groupby. Esto nos va a permitir acceder atributos estadísticos."
   ]
  },
  {
   "cell_type": "code",
   "execution_count": null,
   "metadata": {},
   "outputs": [],
   "source": [
    "groups = df.groupby(by=['Productos'])\n",
    "source_dos = ColumnDataSource(groups)\n",
    "source_dos.column_names"
   ]
  },
  {
   "cell_type": "code",
   "execution_count": null,
   "metadata": {},
   "outputs": [],
   "source": [
    "source_dos.data"
   ]
  },
  {
   "cell_type": "code",
   "execution_count": null,
   "metadata": {},
   "outputs": [],
   "source": [
    "p = figure(x_range = source_dos.data['Productos'],\n",
    "           plot_height=350, \n",
    "           title=\"Volumen de ventas\")\n",
    "\n",
    "color_map = factor_cmap(field_name='Productos',\n",
    "                    palette=Spectral5, factors=source_dos.data['Productos'].tolist())\n",
    "\n",
    "p.vbar(x='Productos', top='Volumen_mean', source = source_dos,\n",
    "       width = 0.5, color=color_map)\n",
    "\n",
    "# Podemos generar colores en hexadecimal con https://htmlcolorcodes.com/\n",
    "\n",
    "hover = HoverTool()\n",
    "hover.tooltips=[\n",
    "    ('Volumen de ventas medio', '@Volumen_mean'),\n",
    "    ('Ingresos totales medios', '@Ingresos_mean')\n",
    "]\n",
    "\n",
    "p.add_tools(hover)\n",
    "\n",
    "show(p)"
   ]
  },
  {
   "cell_type": "code",
   "execution_count": null,
   "metadata": {},
   "outputs": [],
   "source": []
  }
 ],
 "metadata": {
  "kernelspec": {
   "display_name": "Python 3",
   "language": "python",
   "name": "python3"
  },
  "language_info": {
   "codemirror_mode": {
    "name": "ipython",
    "version": 3
   },
   "file_extension": ".py",
   "mimetype": "text/x-python",
   "name": "python",
   "nbconvert_exporter": "python",
   "pygments_lexer": "ipython3",
   "version": "3.7.6"
  }
 },
 "nbformat": 4,
 "nbformat_minor": 2
}
