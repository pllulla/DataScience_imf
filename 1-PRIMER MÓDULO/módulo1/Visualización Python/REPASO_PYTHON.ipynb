{
 "cells": [
  {
   "cell_type": "markdown",
   "metadata": {},
   "source": [
    "# Clase Repaso - Módulo 1 \"Las herramientas del cíentífico de datos\"\n",
    "\n",
    "# EJERCICIO 1 - Python\n",
    "\n",
    "## Contexto\n",
    "El Informe Mundial de la Felicidad es una encuesta histórica sobre el estado de la felicidad global. El primer informe se publicó en 2012, el segundo en 2013, el tercero en 2015 y el cuarto en la Actualización de 2016. El World Happiness 2017, que clasifica a 155 países según sus niveles de felicidad, se lanzó en las Naciones Unidas en un evento que celebra el Día Internacional de la Felicidad el 20 de marzo. El informe continúa ganando reconocimiento mundial a medida que los gobiernos, las organizaciones y la sociedad civil utilizan cada vez más los indicadores de felicidad para informar sus decisiones de formulación de políticas. Los principales expertos en todos los campos (economía, psicología, análisis de encuestas, estadísticas nacionales, salud, políticas públicas y más) describen cómo las mediciones de bienestar se pueden usar de manera efectiva para evaluar el progreso de las naciones.\n",
    "\n",
    "## Contenido\n",
    "Los puntajes y clasificaciones de felicidad utilizan datos de la Encuesta Mundial Gallup. Las puntuaciones se basan en las respuestas a la pregunta principal de evaluación de la vida formulada en la encuesta. Esta pregunta, conocida como la escalera de Cantril, les pide a los encuestados que piensen en una escalera con la mejor vida posible para ellos con un 10 y la peor vida posible con un 0 y que califiquen sus propias vidas actuales en esa escala. Las puntuaciones provienen de muestras representativas a nivel nacional para los años 2013-2016 y utilizan los pesos de Gallup para hacer que las estimaciones sean representativas. Las columnas que siguen la puntuación de felicidad estiman el grado en que cada uno de los seis factores (producción económica, apoyo social, esperanza de vida, libertad, ausencia de corrupción y generosidad) contribuyen a que las evaluaciones de vida sean más altas en cada país que en la distopía, un país hipotético que tiene valores iguales a los promedios nacionales más bajos del mundo para cada uno de los seis factores. No tienen impacto en el puntaje total reportado para cada país, pero sí explican por qué algunos países tienen una clasificación más alta que otros.\n",
    "\n",
    "## ¿Qué es la distopía?\n",
    "\n",
    "La distopía es un país imaginario que tiene las personas menos felices del mundo. El propósito de establecer la distopía es tener un punto de referencia con el que todos los países puedan ser comparados favorablemente (ningún país tiene un desempeño más pobre que la distopía) en términos de cada una de las seis variables clave, permitiendo así que cada subbarra sea de ancho positivo. Las puntuaciones más bajas observadas para las seis variables clave, por lo tanto, caracterizan la distopía. Dado que la vida sería muy desagradable en un país con los ingresos más bajos del mundo, la esperanza de vida más baja, la generosidad más baja, la mayoría de la corrupción, la menor libertad y el menor apoyo social, se conoce como \"distopía\", en contraste con la utopía.\n",
    "\n",
    "Sobre los informes de felicidad de 2015 y 2016 realizar las siguientes exploraciones:\n",
    "\n",
    "* Carga los dos csv como datasets\n",
    "* Identifica las columnas de ambos datasets, ¿Hay diferencias entre ambos datasets?.\n",
    "* Une ambos dataframes, si importar que los dos compartan las mismas diferencias.\n",
    "* Revisa el número de nulos que hay por cada columna, así como su porcentaje.\n",
    "* Cambia los valores nulos de las columnas \"Lower Confidence Interval\" y \"Upper Confidence Interval\" por un número aleatorio entre el valor mínimo y máximo de la misma columna (un único número, no es necesario uno diferente para cada fila con valor nulo).\n",
    "* Cambia los valores nulos de la columna \"Standard Error\" por su media al cuadrado.\n",
    "* Obtén un resumen estadístico del dataframe sin valores nulos.\n",
    "* Muestra de forma gráfica la relación entre la familia y la salud.\n",
    "* Muestra de forma gráfica la relación entre el score de felicidad y la confianza (Corrupción del gobierno)\n",
    "* Muestra la matriz de correlación del daframe\n",
    "* Sabiendo que tras unir los dataframe, los países aparecerán más de una vez, muestra agrupado el dataframe por país mostrándo el valor máximo de felicidad, sin importar el año.\n",
    "* ¿Tiene realación la felicidad con la generosidad?, muéstralo gráficamente a través de la puntuación libertad.\n",
    "* Muestra la distribución del grado de distopía en función de la región.\n",
    "\n",
    "# SOLUCIÒN"
   ]
  },
  {
   "cell_type": "code",
   "execution_count": null,
   "metadata": {},
   "outputs": [],
   "source": [
    "import pandas as pd"
   ]
  },
  {
   "cell_type": "markdown",
   "metadata": {},
   "source": [
    "Carga los dos csv como datasets"
   ]
  },
  {
   "cell_type": "code",
   "execution_count": null,
   "metadata": {},
   "outputs": [],
   "source": [
    "df_15 = pd.read_csv('2015.csv')\n",
    "df_16 = pd.read_csv('2016.csv')"
   ]
  },
  {
   "cell_type": "markdown",
   "metadata": {},
   "source": [
    "Identifica las columnas de ambos datasets, ¿Hay diferencias entre ambos datasets?"
   ]
  },
  {
   "cell_type": "code",
   "execution_count": null,
   "metadata": {},
   "outputs": [],
   "source": [
    "df_15.columns"
   ]
  },
  {
   "cell_type": "code",
   "execution_count": null,
   "metadata": {},
   "outputs": [],
   "source": [
    "df_16.columns"
   ]
  },
  {
   "cell_type": "markdown",
   "metadata": {},
   "source": [
    "Vemos que hay columnas que no son comunes, por lo que tomarán valores nulos:\n",
    "* Standard Error\n",
    "* Lower Confidence Interval\n",
    "* Upper Confidence Interval"
   ]
  },
  {
   "cell_type": "markdown",
   "metadata": {},
   "source": [
    "Une ambos dataframes, si importar que los dos compartan las mismas diferencias."
   ]
  },
  {
   "cell_type": "code",
   "execution_count": null,
   "metadata": {},
   "outputs": [],
   "source": [
    "df = pd.concat([df_15, df_16], ignore_index=True, join='outer')"
   ]
  },
  {
   "cell_type": "markdown",
   "metadata": {},
   "source": [
    "Revisa el número de nulos que hay por cada columna, así como su porcentaje."
   ]
  },
  {
   "cell_type": "code",
   "execution_count": null,
   "metadata": {},
   "outputs": [],
   "source": [
    "print(\"*CANTIDAD de datos nulos por columna en el dataframe\")\n",
    "print(df.isnull().sum())\n",
    "print(\"----------------------------------\")\n",
    "print(\"*PORCENTAJE de datos nulos por columna en el dataframe\")\n",
    "print(df.isnull().sum()/len(df)*100)"
   ]
  },
  {
   "cell_type": "markdown",
   "metadata": {},
   "source": [
    "Cambia los valores nulos de las columnas \"Lower Confidence Interval\" y \"Upper Confidence Interval\" por un número aleatorio entre el valor mínimo y máximo de la misma columna (un único número, no es necesario uno diferente para cada fila con valor nulo)."
   ]
  },
  {
   "cell_type": "code",
   "execution_count": null,
   "metadata": {},
   "outputs": [],
   "source": [
    "import numpy as np"
   ]
  },
  {
   "cell_type": "code",
   "execution_count": null,
   "metadata": {},
   "outputs": [],
   "source": [
    "# Creamos una función para devolver el valor aleatorio.\n",
    "\n",
    "def get_random(df_column):\n",
    "    min_value = df_column.min()\n",
    "    max_value = df_column.max()\n",
    "    \n",
    "    return np.random.randint(min_value, max_value, 1)[0] # [0] Para eliminar problema con arrays"
   ]
  },
  {
   "cell_type": "code",
   "execution_count": null,
   "metadata": {},
   "outputs": [],
   "source": [
    "df['Lower Confidence Interval'] = df['Lower Confidence Interval'].fillna(\n",
    "    get_random(df_column = df['Lower Confidence Interval'])\n",
    ")\n",
    "\n",
    "df['Upper Confidence Interval'] = df['Upper Confidence Interval'].fillna(\n",
    "    get_random(df_column = df['Upper Confidence Interval'])\n",
    ")"
   ]
  },
  {
   "cell_type": "markdown",
   "metadata": {},
   "source": [
    "Cambia los valores nulos de la columna \"Standard Error\" por su media al cuadrado."
   ]
  },
  {
   "cell_type": "code",
   "execution_count": null,
   "metadata": {},
   "outputs": [],
   "source": [
    "df['Standard Error'] = df['Standard Error'].fillna(\n",
    "    (df['Standard Error'].mean())**2\n",
    ")"
   ]
  },
  {
   "cell_type": "markdown",
   "metadata": {},
   "source": [
    "Obtén un resumen estadístico del dataframe sin valores nulos."
   ]
  },
  {
   "cell_type": "code",
   "execution_count": null,
   "metadata": {},
   "outputs": [],
   "source": [
    "df.describe()"
   ]
  },
  {
   "cell_type": "code",
   "execution_count": null,
   "metadata": {},
   "outputs": [],
   "source": [
    "# Aconsejable cerciorarse de que ya no hay valores nulos.\n",
    "\n",
    "print(\"*CANTIDAD de datos nulos por columna en el dataframe\")\n",
    "print(df.isnull().sum())\n",
    "print(\"----------------------------------\")\n",
    "print(\"*PORCENTAJE de datos nulos por columna en el dataframe\")\n",
    "print(df.isnull().sum()/len(df)*100)"
   ]
  },
  {
   "cell_type": "markdown",
   "metadata": {},
   "source": [
    "Muestra de forma gráfica la relación entre la familia y la salud."
   ]
  },
  {
   "cell_type": "code",
   "execution_count": null,
   "metadata": {},
   "outputs": [],
   "source": [
    "import seaborn as sns"
   ]
  },
  {
   "cell_type": "code",
   "execution_count": null,
   "metadata": {},
   "outputs": [],
   "source": [
    "sns.jointplot(x='Family', y='Health (Life Expectancy)', data=df, kind='reg')"
   ]
  },
  {
   "cell_type": "markdown",
   "metadata": {},
   "source": [
    "Muestra de forma gráfica la relación entre el score de felicidad y la confianza (Corrupción del gobierno)"
   ]
  },
  {
   "cell_type": "code",
   "execution_count": null,
   "metadata": {},
   "outputs": [],
   "source": [
    "sns.jointplot(x='Happiness Score', y='Trust (Government Corruption)', data=df, kind='reg')"
   ]
  },
  {
   "cell_type": "markdown",
   "metadata": {},
   "source": [
    "Muestra la matriz de correlación del daframe"
   ]
  },
  {
   "cell_type": "code",
   "execution_count": null,
   "metadata": {},
   "outputs": [],
   "source": [
    "df.corr()"
   ]
  },
  {
   "cell_type": "code",
   "execution_count": null,
   "metadata": {},
   "outputs": [],
   "source": [
    "sns.heatmap(df.corr(), cmap='coolwarm')"
   ]
  },
  {
   "cell_type": "markdown",
   "metadata": {},
   "source": [
    "Sabiendo que tras unir los dataframe, los países aparecerán más de una vez, muestra agrupado el dataframe por país mostrándo el valor máximo de felicidad, sin importar el año."
   ]
  },
  {
   "cell_type": "code",
   "execution_count": null,
   "metadata": {},
   "outputs": [],
   "source": [
    "df[['Country', 'Happiness Score']].groupby(['Country']).max()"
   ]
  },
  {
   "cell_type": "markdown",
   "metadata": {},
   "source": [
    "¿Tiene realación la felicidad con la generosidad?, muéstralo gráficamente a través de la puntuación libertad."
   ]
  },
  {
   "cell_type": "code",
   "execution_count": null,
   "metadata": {},
   "outputs": [],
   "source": [
    "from plotnine import *"
   ]
  },
  {
   "cell_type": "code",
   "execution_count": null,
   "metadata": {},
   "outputs": [],
   "source": [
    "(\n",
    "    ggplot(df) +\n",
    "    geom_point(mapping=aes(x='Happiness Score', y=\"Generosity\", fill = 'Freedom')) + \n",
    "    geom_smooth(aes(x='Happiness Score', y=\"Generosity\"))\n",
    ")"
   ]
  },
  {
   "cell_type": "markdown",
   "metadata": {},
   "source": [
    "No tienen apenas relación.\n",
    "\n",
    "Muestra la distribución del grado de distopía en función de la región."
   ]
  },
  {
   "cell_type": "code",
   "execution_count": null,
   "metadata": {},
   "outputs": [],
   "source": [
    "(\n",
    "    ggplot(df) +\n",
    "    geom_histogram(mapping=aes(x='Dystopia Residual', fill = 'Region') )\n",
    ")"
   ]
  },
  {
   "cell_type": "markdown",
   "metadata": {},
   "source": [
    "Las regiones con mayor grado de distopía son: África sub-sahariana así como Latinoamérica y el caribe y, este y norte de África."
   ]
  }
 ],
 "metadata": {
  "kernelspec": {
   "display_name": "Python 3",
   "language": "python",
   "name": "python3"
  },
  "language_info": {
   "codemirror_mode": {
    "name": "ipython",
    "version": 3
   },
   "file_extension": ".py",
   "mimetype": "text/x-python",
   "name": "python",
   "nbconvert_exporter": "python",
   "pygments_lexer": "ipython3",
   "version": "3.7.6"
  }
 },
 "nbformat": 4,
 "nbformat_minor": 2
}
