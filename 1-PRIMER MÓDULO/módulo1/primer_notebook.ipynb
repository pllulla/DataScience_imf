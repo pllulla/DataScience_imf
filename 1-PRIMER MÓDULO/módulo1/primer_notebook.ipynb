{
 "cells": [
  {
   "cell_type": "code",
   "execution_count": 1,
   "id": "08d0d1e8-d45d-4e6d-8a15-a5e48462692c",
   "metadata": {},
   "outputs": [
    {
     "data": {
      "text/plain": [
       "'Hola'"
      ]
     },
     "execution_count": 1,
     "metadata": {},
     "output_type": "execute_result"
    }
   ],
   "source": [
    "a = \"Hola\"\n",
    "a"
   ]
  },
  {
   "cell_type": "markdown",
   "id": "0816fd0c-15c8-4f7e-a038-1a0703f9fcd9",
   "metadata": {},
   "source": [
    "Esto esá en __negrita__\n",
    "TODO ESTO ES MARKDOWN"
   ]
  },
  {
   "cell_type": "markdown",
   "id": "e41f8657-15cc-465f-a057-8d1251645ad2",
   "metadata": {},
   "source": [
    "Esto es una lista:\n",
    "* Rojo\n",
    "* Verde"
   ]
  },
  {
   "cell_type": "code",
   "execution_count": null,
   "id": "9fa55233-76f2-468c-bcd5-f339028b85fe",
   "metadata": {},
   "outputs": [],
   "source": []
  }
 ],
 "metadata": {
  "kernelspec": {
   "display_name": "Python 3 (ipykernel)",
   "language": "python",
   "name": "python3"
  },
  "language_info": {
   "codemirror_mode": {
    "name": "ipython",
    "version": 3
   },
   "file_extension": ".py",
   "mimetype": "text/x-python",
   "name": "python",
   "nbconvert_exporter": "python",
   "pygments_lexer": "ipython3",
   "version": "3.10.9"
  }
 },
 "nbformat": 4,
 "nbformat_minor": 5
}
